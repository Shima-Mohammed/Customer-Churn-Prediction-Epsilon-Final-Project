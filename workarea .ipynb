{
 "cells": [
  {
   "cell_type": "markdown",
   "id": "d2c070fb",
   "metadata": {},
   "source": [
    "# <center> 📡 Telecom Customer Churn Prediction"
   ]
  },
  {
   "cell_type": "markdown",
   "id": "a68b4304",
   "metadata": {},
   "source": [
    "- The Customer Churn table contains information on all ***7,043*** customers from a Telecommunications company in ***California*** in ***Q2 2022*** . \n",
    "- The purpose of this study is to analyze and predict the behavior of the customer if he churns or stays. "
   ]
  },
  {
   "cell_type": "markdown",
   "id": "d873447a",
   "metadata": {},
   "source": [
    "***"
   ]
  },
  {
   "cell_type": "markdown",
   "id": "6e42877e",
   "metadata": {},
   "source": [
    "## Table of contents :\n",
    "* [Import Packages](#Import-Packages)\n",
    "* [Configurations](#Configurations)\n",
    "* [Read Data](#Read-Data)\n",
    "* [Data Exploration](#Data-Exploration)\n",
    "* [EDA](#EDA)\n",
    "* [Feature Engineering](#Feature-Engineering)\n",
    "* [Data Cleaning](#Data-Cleaning)\n",
    "* [Visualization](#Visualization)\n",
    "* [Prepare data for Pipeline (Classification)](#Prepare-data-for-Pipeline-(Classification))\n",
    "* [Classification Pipeline](#Classification_Pipeline)\n",
    "* [Prepare data for Pipeline (Regression)](#Prepare-data-for-Pipeline-(Regression))\n",
    "* [Regression Pipeline](#Regression_Pipeline)\n",
    "* [Deployment](#Deployment)\n"
   ]
  },
  {
   "cell_type": "markdown",
   "id": "f322f647",
   "metadata": {},
   "source": [
    "***"
   ]
  },
  {
   "cell_type": "markdown",
   "id": "48cd3abc",
   "metadata": {},
   "source": [
    "## Import Packages <a class=\"anchor\" id=\"Import-Packages\"></a>"
   ]
  },
  {
   "cell_type": "code",
   "execution_count": 1,
   "id": "44fb1f4b",
   "metadata": {},
   "outputs": [
    {
     "name": "stderr",
     "output_type": "stream",
     "text": [
      "C:\\Users\\hp\\anaconda3\\lib\\site-packages\\scipy\\__init__.py:138: UserWarning: A NumPy version >=1.16.5 and <1.23.0 is required for this version of SciPy (detected version 1.24.4)\n",
      "  warnings.warn(f\"A NumPy version >={np_minversion} and <{np_maxversion} is required for this version of \"\n"
     ]
    }
   ],
   "source": [
    "import warnings \n",
    "import pandas as pd\n",
    "import numpy as np\n",
    "import seaborn as sns\n",
    "from imblearn.over_sampling import RandomOverSampler\n",
    "from sklearn.compose import ColumnTransformer\n",
    "from sklearn.pipeline import Pipeline\n",
    "from sklearn.preprocessing import MinMaxScaler\n",
    "from sklearn.preprocessing import OneHotEncoder\n",
    "from sklearn.model_selection import train_test_split \n",
    "from sklearn.feature_selection import RFE\n",
    "from sklearn.linear_model import LogisticRegression\n",
    "from sklearn.svm import SVC\n",
    "from sklearn.neighbors import KNeighborsClassifier\n",
    "from sklearn.tree import DecisionTreeClassifier\n",
    "from sklearn.naive_bayes import GaussianNB\n",
    "from sklearn.metrics import accuracy_score\n",
    "from sklearn.model_selection import cross_validate\n",
    "from sklearn.linear_model import LinearRegression\n",
    "from sklearn.tree import DecisionTreeRegressor\n",
    "from sklearn.svm import SVR\n",
    "from sklearn.ensemble import RandomForestRegressor, AdaBoostRegressor, GradientBoostingRegressor\n",
    "from xgboost import XGBRegressor\n",
    "from sklearn.metrics import r2_score\n",
    "import joblib\n",
    "import streamlit "
   ]
  },
  {
   "cell_type": "markdown",
   "id": "f856941a",
   "metadata": {},
   "source": [
    "## Configurations <a class=\"anchor\" id=\"Configurations\"></a>"
   ]
  },
  {
   "cell_type": "code",
   "execution_count": 2,
   "id": "f6766207",
   "metadata": {},
   "outputs": [],
   "source": [
    "pd.set_option('display.max_columns', None)\n",
    "warnings.filterwarnings('ignore')"
   ]
  },
  {
   "cell_type": "markdown",
   "id": "2f34c82a",
   "metadata": {},
   "source": [
    "## Read Data <a class=\"anchor\" id=\"Read-Data\"></a>"
   ]
  },
  {
   "cell_type": "code",
   "execution_count": 3,
   "id": "9e8d7ee8",
   "metadata": {},
   "outputs": [],
   "source": [
    "df = pd.read_csv('dataset/telecom_customer_churn.csv')"
   ]
  },
  {
   "cell_type": "markdown",
   "id": "7553b3ee",
   "metadata": {},
   "source": [
    "## Data Exploration<a class=\"anchor\" id=\"Data-Exploration\"></a>"
   ]
  },
  {
   "cell_type": "code",
   "execution_count": 4,
   "id": "ae2de489",
   "metadata": {},
   "outputs": [
    {
     "data": {
      "text/plain": [
       "(7043, 38)"
      ]
     },
     "execution_count": 4,
     "metadata": {},
     "output_type": "execute_result"
    }
   ],
   "source": [
    "df.shape"
   ]
  },
  {
   "cell_type": "code",
   "execution_count": 5,
   "id": "44a05397",
   "metadata": {
    "scrolled": true
   },
   "outputs": [
    {
     "data": {
      "text/html": [
       "<div>\n",
       "<style scoped>\n",
       "    .dataframe tbody tr th:only-of-type {\n",
       "        vertical-align: middle;\n",
       "    }\n",
       "\n",
       "    .dataframe tbody tr th {\n",
       "        vertical-align: top;\n",
       "    }\n",
       "\n",
       "    .dataframe thead th {\n",
       "        text-align: right;\n",
       "    }\n",
       "</style>\n",
       "<table border=\"1\" class=\"dataframe\">\n",
       "  <thead>\n",
       "    <tr style=\"text-align: right;\">\n",
       "      <th></th>\n",
       "      <th>Customer ID</th>\n",
       "      <th>Gender</th>\n",
       "      <th>Age</th>\n",
       "      <th>Married</th>\n",
       "      <th>Number of Dependents</th>\n",
       "      <th>City</th>\n",
       "      <th>Zip Code</th>\n",
       "      <th>Latitude</th>\n",
       "      <th>Longitude</th>\n",
       "      <th>Number of Referrals</th>\n",
       "      <th>Tenure in Months</th>\n",
       "      <th>Offer</th>\n",
       "      <th>Phone Service</th>\n",
       "      <th>Avg Monthly Long Distance Charges</th>\n",
       "      <th>Multiple Lines</th>\n",
       "      <th>Internet Service</th>\n",
       "      <th>Internet Type</th>\n",
       "      <th>Avg Monthly GB Download</th>\n",
       "      <th>Online Security</th>\n",
       "      <th>Online Backup</th>\n",
       "      <th>Device Protection Plan</th>\n",
       "      <th>Premium Tech Support</th>\n",
       "      <th>Streaming TV</th>\n",
       "      <th>Streaming Movies</th>\n",
       "      <th>Streaming Music</th>\n",
       "      <th>Unlimited Data</th>\n",
       "      <th>Contract</th>\n",
       "      <th>Paperless Billing</th>\n",
       "      <th>Payment Method</th>\n",
       "      <th>Monthly Charge</th>\n",
       "      <th>Total Charges</th>\n",
       "      <th>Total Refunds</th>\n",
       "      <th>Total Extra Data Charges</th>\n",
       "      <th>Total Long Distance Charges</th>\n",
       "      <th>Total Revenue</th>\n",
       "      <th>Customer Status</th>\n",
       "      <th>Churn Category</th>\n",
       "      <th>Churn Reason</th>\n",
       "    </tr>\n",
       "  </thead>\n",
       "  <tbody>\n",
       "    <tr>\n",
       "      <th>3825</th>\n",
       "      <td>5377-NDTOU</td>\n",
       "      <td>Female</td>\n",
       "      <td>26</td>\n",
       "      <td>Yes</td>\n",
       "      <td>0</td>\n",
       "      <td>San Pedro</td>\n",
       "      <td>90732</td>\n",
       "      <td>33.744119</td>\n",
       "      <td>-118.314480</td>\n",
       "      <td>3</td>\n",
       "      <td>71</td>\n",
       "      <td>Offer A</td>\n",
       "      <td>Yes</td>\n",
       "      <td>9.50</td>\n",
       "      <td>Yes</td>\n",
       "      <td>Yes</td>\n",
       "      <td>Cable</td>\n",
       "      <td>76.0</td>\n",
       "      <td>Yes</td>\n",
       "      <td>Yes</td>\n",
       "      <td>Yes</td>\n",
       "      <td>Yes</td>\n",
       "      <td>Yes</td>\n",
       "      <td>Yes</td>\n",
       "      <td>Yes</td>\n",
       "      <td>Yes</td>\n",
       "      <td>Two Year</td>\n",
       "      <td>No</td>\n",
       "      <td>Credit Card</td>\n",
       "      <td>91.05</td>\n",
       "      <td>6293.75</td>\n",
       "      <td>0.00</td>\n",
       "      <td>0</td>\n",
       "      <td>674.50</td>\n",
       "      <td>6968.25</td>\n",
       "      <td>Stayed</td>\n",
       "      <td>NaN</td>\n",
       "      <td>NaN</td>\n",
       "    </tr>\n",
       "    <tr>\n",
       "      <th>236</th>\n",
       "      <td>0363-SVHYR</td>\n",
       "      <td>Male</td>\n",
       "      <td>28</td>\n",
       "      <td>Yes</td>\n",
       "      <td>3</td>\n",
       "      <td>Paramount</td>\n",
       "      <td>90723</td>\n",
       "      <td>33.897122</td>\n",
       "      <td>-118.164432</td>\n",
       "      <td>10</td>\n",
       "      <td>71</td>\n",
       "      <td>Offer A</td>\n",
       "      <td>Yes</td>\n",
       "      <td>10.11</td>\n",
       "      <td>Yes</td>\n",
       "      <td>Yes</td>\n",
       "      <td>DSL</td>\n",
       "      <td>59.0</td>\n",
       "      <td>Yes</td>\n",
       "      <td>Yes</td>\n",
       "      <td>Yes</td>\n",
       "      <td>Yes</td>\n",
       "      <td>Yes</td>\n",
       "      <td>Yes</td>\n",
       "      <td>Yes</td>\n",
       "      <td>Yes</td>\n",
       "      <td>Two Year</td>\n",
       "      <td>No</td>\n",
       "      <td>Bank Withdrawal</td>\n",
       "      <td>86.85</td>\n",
       "      <td>6263.80</td>\n",
       "      <td>0.00</td>\n",
       "      <td>0</td>\n",
       "      <td>717.81</td>\n",
       "      <td>6981.61</td>\n",
       "      <td>Stayed</td>\n",
       "      <td>NaN</td>\n",
       "      <td>NaN</td>\n",
       "    </tr>\n",
       "    <tr>\n",
       "      <th>169</th>\n",
       "      <td>0270-THENM</td>\n",
       "      <td>Male</td>\n",
       "      <td>62</td>\n",
       "      <td>Yes</td>\n",
       "      <td>2</td>\n",
       "      <td>Mission Hills</td>\n",
       "      <td>91345</td>\n",
       "      <td>34.266389</td>\n",
       "      <td>-118.459744</td>\n",
       "      <td>1</td>\n",
       "      <td>72</td>\n",
       "      <td>NaN</td>\n",
       "      <td>Yes</td>\n",
       "      <td>28.37</td>\n",
       "      <td>Yes</td>\n",
       "      <td>Yes</td>\n",
       "      <td>DSL</td>\n",
       "      <td>18.0</td>\n",
       "      <td>Yes</td>\n",
       "      <td>Yes</td>\n",
       "      <td>Yes</td>\n",
       "      <td>Yes</td>\n",
       "      <td>No</td>\n",
       "      <td>No</td>\n",
       "      <td>No</td>\n",
       "      <td>Yes</td>\n",
       "      <td>Two Year</td>\n",
       "      <td>No</td>\n",
       "      <td>Bank Withdrawal</td>\n",
       "      <td>69.85</td>\n",
       "      <td>5102.35</td>\n",
       "      <td>25.24</td>\n",
       "      <td>0</td>\n",
       "      <td>2042.64</td>\n",
       "      <td>7119.75</td>\n",
       "      <td>Stayed</td>\n",
       "      <td>NaN</td>\n",
       "      <td>NaN</td>\n",
       "    </tr>\n",
       "    <tr>\n",
       "      <th>4597</th>\n",
       "      <td>6481-ESCNL</td>\n",
       "      <td>Female</td>\n",
       "      <td>33</td>\n",
       "      <td>No</td>\n",
       "      <td>0</td>\n",
       "      <td>Clayton</td>\n",
       "      <td>94517</td>\n",
       "      <td>37.881842</td>\n",
       "      <td>-121.848111</td>\n",
       "      <td>0</td>\n",
       "      <td>29</td>\n",
       "      <td>NaN</td>\n",
       "      <td>Yes</td>\n",
       "      <td>10.67</td>\n",
       "      <td>Yes</td>\n",
       "      <td>Yes</td>\n",
       "      <td>Fiber Optic</td>\n",
       "      <td>12.0</td>\n",
       "      <td>No</td>\n",
       "      <td>No</td>\n",
       "      <td>Yes</td>\n",
       "      <td>No</td>\n",
       "      <td>Yes</td>\n",
       "      <td>Yes</td>\n",
       "      <td>Yes</td>\n",
       "      <td>Yes</td>\n",
       "      <td>Month-to-Month</td>\n",
       "      <td>No</td>\n",
       "      <td>Bank Withdrawal</td>\n",
       "      <td>100.55</td>\n",
       "      <td>2878.75</td>\n",
       "      <td>0.00</td>\n",
       "      <td>0</td>\n",
       "      <td>309.43</td>\n",
       "      <td>3188.18</td>\n",
       "      <td>Stayed</td>\n",
       "      <td>NaN</td>\n",
       "      <td>NaN</td>\n",
       "    </tr>\n",
       "    <tr>\n",
       "      <th>4227</th>\n",
       "      <td>5965-GGPRW</td>\n",
       "      <td>Male</td>\n",
       "      <td>41</td>\n",
       "      <td>Yes</td>\n",
       "      <td>2</td>\n",
       "      <td>Hayward</td>\n",
       "      <td>94541</td>\n",
       "      <td>37.674002</td>\n",
       "      <td>-122.076796</td>\n",
       "      <td>5</td>\n",
       "      <td>72</td>\n",
       "      <td>Offer A</td>\n",
       "      <td>Yes</td>\n",
       "      <td>36.05</td>\n",
       "      <td>Yes</td>\n",
       "      <td>Yes</td>\n",
       "      <td>Fiber Optic</td>\n",
       "      <td>14.0</td>\n",
       "      <td>Yes</td>\n",
       "      <td>No</td>\n",
       "      <td>Yes</td>\n",
       "      <td>No</td>\n",
       "      <td>Yes</td>\n",
       "      <td>Yes</td>\n",
       "      <td>Yes</td>\n",
       "      <td>Yes</td>\n",
       "      <td>Two Year</td>\n",
       "      <td>No</td>\n",
       "      <td>Bank Withdrawal</td>\n",
       "      <td>105.25</td>\n",
       "      <td>7609.75</td>\n",
       "      <td>0.00</td>\n",
       "      <td>0</td>\n",
       "      <td>2595.60</td>\n",
       "      <td>10205.35</td>\n",
       "      <td>Stayed</td>\n",
       "      <td>NaN</td>\n",
       "      <td>NaN</td>\n",
       "    </tr>\n",
       "    <tr>\n",
       "      <th>6393</th>\n",
       "      <td>9057-SIHCH</td>\n",
       "      <td>Female</td>\n",
       "      <td>48</td>\n",
       "      <td>No</td>\n",
       "      <td>0</td>\n",
       "      <td>Twentynine Palms</td>\n",
       "      <td>92278</td>\n",
       "      <td>34.457829</td>\n",
       "      <td>-116.139589</td>\n",
       "      <td>0</td>\n",
       "      <td>3</td>\n",
       "      <td>Offer E</td>\n",
       "      <td>Yes</td>\n",
       "      <td>9.95</td>\n",
       "      <td>Yes</td>\n",
       "      <td>Yes</td>\n",
       "      <td>Fiber Optic</td>\n",
       "      <td>13.0</td>\n",
       "      <td>No</td>\n",
       "      <td>No</td>\n",
       "      <td>No</td>\n",
       "      <td>No</td>\n",
       "      <td>Yes</td>\n",
       "      <td>Yes</td>\n",
       "      <td>Yes</td>\n",
       "      <td>Yes</td>\n",
       "      <td>Month-to-Month</td>\n",
       "      <td>Yes</td>\n",
       "      <td>Bank Withdrawal</td>\n",
       "      <td>96.60</td>\n",
       "      <td>291.90</td>\n",
       "      <td>0.00</td>\n",
       "      <td>0</td>\n",
       "      <td>29.85</td>\n",
       "      <td>321.75</td>\n",
       "      <td>Churned</td>\n",
       "      <td>Price</td>\n",
       "      <td>Price too high</td>\n",
       "    </tr>\n",
       "    <tr>\n",
       "      <th>2882</th>\n",
       "      <td>4110-PFEUZ</td>\n",
       "      <td>Female</td>\n",
       "      <td>54</td>\n",
       "      <td>No</td>\n",
       "      <td>0</td>\n",
       "      <td>Daggett</td>\n",
       "      <td>92327</td>\n",
       "      <td>34.875144</td>\n",
       "      <td>-116.821698</td>\n",
       "      <td>0</td>\n",
       "      <td>1</td>\n",
       "      <td>Offer E</td>\n",
       "      <td>Yes</td>\n",
       "      <td>29.78</td>\n",
       "      <td>No</td>\n",
       "      <td>Yes</td>\n",
       "      <td>Fiber Optic</td>\n",
       "      <td>13.0</td>\n",
       "      <td>No</td>\n",
       "      <td>No</td>\n",
       "      <td>No</td>\n",
       "      <td>No</td>\n",
       "      <td>No</td>\n",
       "      <td>No</td>\n",
       "      <td>No</td>\n",
       "      <td>Yes</td>\n",
       "      <td>Month-to-Month</td>\n",
       "      <td>No</td>\n",
       "      <td>Credit Card</td>\n",
       "      <td>69.55</td>\n",
       "      <td>69.55</td>\n",
       "      <td>0.00</td>\n",
       "      <td>0</td>\n",
       "      <td>29.78</td>\n",
       "      <td>99.33</td>\n",
       "      <td>Churned</td>\n",
       "      <td>Competitor</td>\n",
       "      <td>Competitor had better devices</td>\n",
       "    </tr>\n",
       "    <tr>\n",
       "      <th>5306</th>\n",
       "      <td>7501-IWUNG</td>\n",
       "      <td>Female</td>\n",
       "      <td>57</td>\n",
       "      <td>Yes</td>\n",
       "      <td>0</td>\n",
       "      <td>Springville</td>\n",
       "      <td>93265</td>\n",
       "      <td>36.245926</td>\n",
       "      <td>-118.693138</td>\n",
       "      <td>9</td>\n",
       "      <td>61</td>\n",
       "      <td>Offer B</td>\n",
       "      <td>Yes</td>\n",
       "      <td>1.27</td>\n",
       "      <td>No</td>\n",
       "      <td>Yes</td>\n",
       "      <td>DSL</td>\n",
       "      <td>24.0</td>\n",
       "      <td>No</td>\n",
       "      <td>No</td>\n",
       "      <td>Yes</td>\n",
       "      <td>Yes</td>\n",
       "      <td>Yes</td>\n",
       "      <td>Yes</td>\n",
       "      <td>Yes</td>\n",
       "      <td>No</td>\n",
       "      <td>Two Year</td>\n",
       "      <td>Yes</td>\n",
       "      <td>Bank Withdrawal</td>\n",
       "      <td>73.80</td>\n",
       "      <td>4616.05</td>\n",
       "      <td>49.51</td>\n",
       "      <td>30</td>\n",
       "      <td>77.47</td>\n",
       "      <td>4674.01</td>\n",
       "      <td>Stayed</td>\n",
       "      <td>NaN</td>\n",
       "      <td>NaN</td>\n",
       "    </tr>\n",
       "    <tr>\n",
       "      <th>4530</th>\n",
       "      <td>6380-ARCEH</td>\n",
       "      <td>Male</td>\n",
       "      <td>19</td>\n",
       "      <td>No</td>\n",
       "      <td>0</td>\n",
       "      <td>Inglewood</td>\n",
       "      <td>90304</td>\n",
       "      <td>33.936827</td>\n",
       "      <td>-118.359824</td>\n",
       "      <td>0</td>\n",
       "      <td>1</td>\n",
       "      <td>Offer E</td>\n",
       "      <td>Yes</td>\n",
       "      <td>41.10</td>\n",
       "      <td>No</td>\n",
       "      <td>No</td>\n",
       "      <td>NaN</td>\n",
       "      <td>NaN</td>\n",
       "      <td>NaN</td>\n",
       "      <td>NaN</td>\n",
       "      <td>NaN</td>\n",
       "      <td>NaN</td>\n",
       "      <td>NaN</td>\n",
       "      <td>NaN</td>\n",
       "      <td>NaN</td>\n",
       "      <td>NaN</td>\n",
       "      <td>Month-to-Month</td>\n",
       "      <td>No</td>\n",
       "      <td>Credit Card</td>\n",
       "      <td>20.20</td>\n",
       "      <td>20.20</td>\n",
       "      <td>0.00</td>\n",
       "      <td>0</td>\n",
       "      <td>41.10</td>\n",
       "      <td>61.30</td>\n",
       "      <td>Joined</td>\n",
       "      <td>NaN</td>\n",
       "      <td>NaN</td>\n",
       "    </tr>\n",
       "    <tr>\n",
       "      <th>2752</th>\n",
       "      <td>3914-FDRHP</td>\n",
       "      <td>Male</td>\n",
       "      <td>25</td>\n",
       "      <td>No</td>\n",
       "      <td>0</td>\n",
       "      <td>Warner Springs</td>\n",
       "      <td>92086</td>\n",
       "      <td>33.323705</td>\n",
       "      <td>-116.626907</td>\n",
       "      <td>0</td>\n",
       "      <td>9</td>\n",
       "      <td>NaN</td>\n",
       "      <td>Yes</td>\n",
       "      <td>46.34</td>\n",
       "      <td>No</td>\n",
       "      <td>Yes</td>\n",
       "      <td>Fiber Optic</td>\n",
       "      <td>59.0</td>\n",
       "      <td>No</td>\n",
       "      <td>No</td>\n",
       "      <td>No</td>\n",
       "      <td>Yes</td>\n",
       "      <td>Yes</td>\n",
       "      <td>No</td>\n",
       "      <td>No</td>\n",
       "      <td>Yes</td>\n",
       "      <td>Month-to-Month</td>\n",
       "      <td>No</td>\n",
       "      <td>Bank Withdrawal</td>\n",
       "      <td>86.25</td>\n",
       "      <td>770.50</td>\n",
       "      <td>0.00</td>\n",
       "      <td>0</td>\n",
       "      <td>417.06</td>\n",
       "      <td>1187.56</td>\n",
       "      <td>Stayed</td>\n",
       "      <td>NaN</td>\n",
       "      <td>NaN</td>\n",
       "    </tr>\n",
       "  </tbody>\n",
       "</table>\n",
       "</div>"
      ],
      "text/plain": [
       "     Customer ID  Gender  Age Married  Number of Dependents              City  \\\n",
       "3825  5377-NDTOU  Female   26     Yes                     0         San Pedro   \n",
       "236   0363-SVHYR    Male   28     Yes                     3         Paramount   \n",
       "169   0270-THENM    Male   62     Yes                     2     Mission Hills   \n",
       "4597  6481-ESCNL  Female   33      No                     0           Clayton   \n",
       "4227  5965-GGPRW    Male   41     Yes                     2           Hayward   \n",
       "6393  9057-SIHCH  Female   48      No                     0  Twentynine Palms   \n",
       "2882  4110-PFEUZ  Female   54      No                     0           Daggett   \n",
       "5306  7501-IWUNG  Female   57     Yes                     0       Springville   \n",
       "4530  6380-ARCEH    Male   19      No                     0         Inglewood   \n",
       "2752  3914-FDRHP    Male   25      No                     0    Warner Springs   \n",
       "\n",
       "      Zip Code   Latitude   Longitude  Number of Referrals  Tenure in Months  \\\n",
       "3825     90732  33.744119 -118.314480                    3                71   \n",
       "236      90723  33.897122 -118.164432                   10                71   \n",
       "169      91345  34.266389 -118.459744                    1                72   \n",
       "4597     94517  37.881842 -121.848111                    0                29   \n",
       "4227     94541  37.674002 -122.076796                    5                72   \n",
       "6393     92278  34.457829 -116.139589                    0                 3   \n",
       "2882     92327  34.875144 -116.821698                    0                 1   \n",
       "5306     93265  36.245926 -118.693138                    9                61   \n",
       "4530     90304  33.936827 -118.359824                    0                 1   \n",
       "2752     92086  33.323705 -116.626907                    0                 9   \n",
       "\n",
       "        Offer Phone Service  Avg Monthly Long Distance Charges Multiple Lines  \\\n",
       "3825  Offer A           Yes                               9.50            Yes   \n",
       "236   Offer A           Yes                              10.11            Yes   \n",
       "169       NaN           Yes                              28.37            Yes   \n",
       "4597      NaN           Yes                              10.67            Yes   \n",
       "4227  Offer A           Yes                              36.05            Yes   \n",
       "6393  Offer E           Yes                               9.95            Yes   \n",
       "2882  Offer E           Yes                              29.78             No   \n",
       "5306  Offer B           Yes                               1.27             No   \n",
       "4530  Offer E           Yes                              41.10             No   \n",
       "2752      NaN           Yes                              46.34             No   \n",
       "\n",
       "     Internet Service Internet Type  Avg Monthly GB Download Online Security  \\\n",
       "3825              Yes         Cable                     76.0             Yes   \n",
       "236               Yes           DSL                     59.0             Yes   \n",
       "169               Yes           DSL                     18.0             Yes   \n",
       "4597              Yes   Fiber Optic                     12.0              No   \n",
       "4227              Yes   Fiber Optic                     14.0             Yes   \n",
       "6393              Yes   Fiber Optic                     13.0              No   \n",
       "2882              Yes   Fiber Optic                     13.0              No   \n",
       "5306              Yes           DSL                     24.0              No   \n",
       "4530               No           NaN                      NaN             NaN   \n",
       "2752              Yes   Fiber Optic                     59.0              No   \n",
       "\n",
       "     Online Backup Device Protection Plan Premium Tech Support Streaming TV  \\\n",
       "3825           Yes                    Yes                  Yes          Yes   \n",
       "236            Yes                    Yes                  Yes          Yes   \n",
       "169            Yes                    Yes                  Yes           No   \n",
       "4597            No                    Yes                   No          Yes   \n",
       "4227            No                    Yes                   No          Yes   \n",
       "6393            No                     No                   No          Yes   \n",
       "2882            No                     No                   No           No   \n",
       "5306            No                    Yes                  Yes          Yes   \n",
       "4530           NaN                    NaN                  NaN          NaN   \n",
       "2752            No                     No                  Yes          Yes   \n",
       "\n",
       "     Streaming Movies Streaming Music Unlimited Data        Contract  \\\n",
       "3825              Yes             Yes            Yes        Two Year   \n",
       "236               Yes             Yes            Yes        Two Year   \n",
       "169                No              No            Yes        Two Year   \n",
       "4597              Yes             Yes            Yes  Month-to-Month   \n",
       "4227              Yes             Yes            Yes        Two Year   \n",
       "6393              Yes             Yes            Yes  Month-to-Month   \n",
       "2882               No              No            Yes  Month-to-Month   \n",
       "5306              Yes             Yes             No        Two Year   \n",
       "4530              NaN             NaN            NaN  Month-to-Month   \n",
       "2752               No              No            Yes  Month-to-Month   \n",
       "\n",
       "     Paperless Billing   Payment Method  Monthly Charge  Total Charges  \\\n",
       "3825                No      Credit Card           91.05        6293.75   \n",
       "236                 No  Bank Withdrawal           86.85        6263.80   \n",
       "169                 No  Bank Withdrawal           69.85        5102.35   \n",
       "4597                No  Bank Withdrawal          100.55        2878.75   \n",
       "4227                No  Bank Withdrawal          105.25        7609.75   \n",
       "6393               Yes  Bank Withdrawal           96.60         291.90   \n",
       "2882                No      Credit Card           69.55          69.55   \n",
       "5306               Yes  Bank Withdrawal           73.80        4616.05   \n",
       "4530                No      Credit Card           20.20          20.20   \n",
       "2752                No  Bank Withdrawal           86.25         770.50   \n",
       "\n",
       "      Total Refunds  Total Extra Data Charges  Total Long Distance Charges  \\\n",
       "3825           0.00                         0                       674.50   \n",
       "236            0.00                         0                       717.81   \n",
       "169           25.24                         0                      2042.64   \n",
       "4597           0.00                         0                       309.43   \n",
       "4227           0.00                         0                      2595.60   \n",
       "6393           0.00                         0                        29.85   \n",
       "2882           0.00                         0                        29.78   \n",
       "5306          49.51                        30                        77.47   \n",
       "4530           0.00                         0                        41.10   \n",
       "2752           0.00                         0                       417.06   \n",
       "\n",
       "      Total Revenue Customer Status Churn Category  \\\n",
       "3825        6968.25          Stayed            NaN   \n",
       "236         6981.61          Stayed            NaN   \n",
       "169         7119.75          Stayed            NaN   \n",
       "4597        3188.18          Stayed            NaN   \n",
       "4227       10205.35          Stayed            NaN   \n",
       "6393         321.75         Churned          Price   \n",
       "2882          99.33         Churned     Competitor   \n",
       "5306        4674.01          Stayed            NaN   \n",
       "4530          61.30          Joined            NaN   \n",
       "2752        1187.56          Stayed            NaN   \n",
       "\n",
       "                       Churn Reason  \n",
       "3825                            NaN  \n",
       "236                             NaN  \n",
       "169                             NaN  \n",
       "4597                            NaN  \n",
       "4227                            NaN  \n",
       "6393                 Price too high  \n",
       "2882  Competitor had better devices  \n",
       "5306                            NaN  \n",
       "4530                            NaN  \n",
       "2752                            NaN  "
      ]
     },
     "execution_count": 5,
     "metadata": {},
     "output_type": "execute_result"
    }
   ],
   "source": [
    "df.sample(10)"
   ]
  },
  {
   "cell_type": "code",
   "execution_count": 6,
   "id": "f4ab4f40",
   "metadata": {
    "scrolled": true
   },
   "outputs": [
    {
     "name": "stdout",
     "output_type": "stream",
     "text": [
      "<class 'pandas.core.frame.DataFrame'>\n",
      "RangeIndex: 7043 entries, 0 to 7042\n",
      "Data columns (total 38 columns):\n",
      " #   Column                             Non-Null Count  Dtype  \n",
      "---  ------                             --------------  -----  \n",
      " 0   Customer ID                        7043 non-null   object \n",
      " 1   Gender                             7043 non-null   object \n",
      " 2   Age                                7043 non-null   int64  \n",
      " 3   Married                            7043 non-null   object \n",
      " 4   Number of Dependents               7043 non-null   int64  \n",
      " 5   City                               7043 non-null   object \n",
      " 6   Zip Code                           7043 non-null   int64  \n",
      " 7   Latitude                           7043 non-null   float64\n",
      " 8   Longitude                          7043 non-null   float64\n",
      " 9   Number of Referrals                7043 non-null   int64  \n",
      " 10  Tenure in Months                   7043 non-null   int64  \n",
      " 11  Offer                              3166 non-null   object \n",
      " 12  Phone Service                      7043 non-null   object \n",
      " 13  Avg Monthly Long Distance Charges  6361 non-null   float64\n",
      " 14  Multiple Lines                     6361 non-null   object \n",
      " 15  Internet Service                   7043 non-null   object \n",
      " 16  Internet Type                      5517 non-null   object \n",
      " 17  Avg Monthly GB Download            5517 non-null   float64\n",
      " 18  Online Security                    5517 non-null   object \n",
      " 19  Online Backup                      5517 non-null   object \n",
      " 20  Device Protection Plan             5517 non-null   object \n",
      " 21  Premium Tech Support               5517 non-null   object \n",
      " 22  Streaming TV                       5517 non-null   object \n",
      " 23  Streaming Movies                   5517 non-null   object \n",
      " 24  Streaming Music                    5517 non-null   object \n",
      " 25  Unlimited Data                     5517 non-null   object \n",
      " 26  Contract                           7043 non-null   object \n",
      " 27  Paperless Billing                  7043 non-null   object \n",
      " 28  Payment Method                     7043 non-null   object \n",
      " 29  Monthly Charge                     7043 non-null   float64\n",
      " 30  Total Charges                      7043 non-null   float64\n",
      " 31  Total Refunds                      7043 non-null   float64\n",
      " 32  Total Extra Data Charges           7043 non-null   int64  \n",
      " 33  Total Long Distance Charges        7043 non-null   float64\n",
      " 34  Total Revenue                      7043 non-null   float64\n",
      " 35  Customer Status                    7043 non-null   object \n",
      " 36  Churn Category                     1869 non-null   object \n",
      " 37  Churn Reason                       1869 non-null   object \n",
      "dtypes: float64(9), int64(6), object(23)\n",
      "memory usage: 2.0+ MB\n"
     ]
    }
   ],
   "source": [
    "df.info()"
   ]
  },
  {
   "cell_type": "markdown",
   "id": "ea2f4f79",
   "metadata": {},
   "source": [
    "#### Check Duplication"
   ]
  },
  {
   "cell_type": "code",
   "execution_count": 7,
   "id": "43b1d6b0",
   "metadata": {},
   "outputs": [
    {
     "data": {
      "text/plain": [
       "0"
      ]
     },
     "execution_count": 7,
     "metadata": {},
     "output_type": "execute_result"
    }
   ],
   "source": [
    "df.duplicated().sum()"
   ]
  },
  {
   "cell_type": "markdown",
   "id": "fa8eff18",
   "metadata": {},
   "source": [
    "#### Check Null "
   ]
  },
  {
   "cell_type": "code",
   "execution_count": 8,
   "id": "6f96afd5",
   "metadata": {
    "scrolled": true
   },
   "outputs": [
    {
     "data": {
      "text/plain": [
       "Customer ID                          False\n",
       "Gender                               False\n",
       "Age                                  False\n",
       "Married                              False\n",
       "Number of Dependents                 False\n",
       "City                                 False\n",
       "Zip Code                             False\n",
       "Latitude                             False\n",
       "Longitude                            False\n",
       "Number of Referrals                  False\n",
       "Tenure in Months                     False\n",
       "Offer                                 True\n",
       "Phone Service                        False\n",
       "Avg Monthly Long Distance Charges     True\n",
       "Multiple Lines                        True\n",
       "Internet Service                     False\n",
       "Internet Type                         True\n",
       "Avg Monthly GB Download               True\n",
       "Online Security                       True\n",
       "Online Backup                         True\n",
       "Device Protection Plan                True\n",
       "Premium Tech Support                  True\n",
       "Streaming TV                          True\n",
       "Streaming Movies                      True\n",
       "Streaming Music                       True\n",
       "Unlimited Data                        True\n",
       "Contract                             False\n",
       "Paperless Billing                    False\n",
       "Payment Method                       False\n",
       "Monthly Charge                       False\n",
       "Total Charges                        False\n",
       "Total Refunds                        False\n",
       "Total Extra Data Charges             False\n",
       "Total Long Distance Charges          False\n",
       "Total Revenue                        False\n",
       "Customer Status                      False\n",
       "Churn Category                        True\n",
       "Churn Reason                          True\n",
       "dtype: bool"
      ]
     },
     "execution_count": 8,
     "metadata": {},
     "output_type": "execute_result"
    }
   ],
   "source": [
    "df.isna().any()"
   ]
  },
  {
   "cell_type": "markdown",
   "id": "eee47ec6",
   "metadata": {},
   "source": [
    "#### Check df Columns Names"
   ]
  },
  {
   "cell_type": "code",
   "execution_count": 9,
   "id": "fbec69b8",
   "metadata": {},
   "outputs": [
    {
     "data": {
      "text/plain": [
       "Index(['Customer ID', 'Gender', 'Age', 'Married', 'Number of Dependents',\n",
       "       'City', 'Zip Code', 'Latitude', 'Longitude', 'Number of Referrals',\n",
       "       'Tenure in Months', 'Offer', 'Phone Service',\n",
       "       'Avg Monthly Long Distance Charges', 'Multiple Lines',\n",
       "       'Internet Service', 'Internet Type', 'Avg Monthly GB Download',\n",
       "       'Online Security', 'Online Backup', 'Device Protection Plan',\n",
       "       'Premium Tech Support', 'Streaming TV', 'Streaming Movies',\n",
       "       'Streaming Music', 'Unlimited Data', 'Contract', 'Paperless Billing',\n",
       "       'Payment Method', 'Monthly Charge', 'Total Charges', 'Total Refunds',\n",
       "       'Total Extra Data Charges', 'Total Long Distance Charges',\n",
       "       'Total Revenue', 'Customer Status', 'Churn Category', 'Churn Reason'],\n",
       "      dtype='object')"
      ]
     },
     "execution_count": 9,
     "metadata": {},
     "output_type": "execute_result"
    }
   ],
   "source": [
    "df.columns"
   ]
  },
  {
   "cell_type": "markdown",
   "id": "6e85eeaf",
   "metadata": {},
   "source": [
    "#### Edit df Columns Names "
   ]
  },
  {
   "cell_type": "code",
   "execution_count": 10,
   "id": "a938e84c",
   "metadata": {},
   "outputs": [
    {
     "data": {
      "text/plain": [
       "Index(['CustomerID', 'Gender', 'Age', 'Married', 'NumberofDependents', 'City',\n",
       "       'ZipCode', 'Latitude', 'Longitude', 'NumberofReferrals',\n",
       "       'TenureinMonths', 'Offer', 'PhoneService',\n",
       "       'AvgMonthlyLongDistanceCharges', 'MultipleLines', 'InternetService',\n",
       "       'InternetType', 'AvgMonthlyGBDownload', 'OnlineSecurity',\n",
       "       'OnlineBackup', 'DeviceProtectionPlan', 'PremiumTechSupport',\n",
       "       'StreamingTV', 'StreamingMovies', 'StreamingMusic', 'UnlimitedData',\n",
       "       'Contract', 'PaperlessBilling', 'PaymentMethod', 'MonthlyCharge',\n",
       "       'TotalCharges', 'TotalRefunds', 'TotalExtraDataCharges',\n",
       "       'TotalLongDistanceCharges', 'TotalRevenue', 'CustomerStatus',\n",
       "       'ChurnCategory', 'ChurnReason'],\n",
       "      dtype='object')"
      ]
     },
     "execution_count": 10,
     "metadata": {},
     "output_type": "execute_result"
    }
   ],
   "source": [
    "df.columns = df.columns.str.replace(' ',\"\")\n",
    "df.columns"
   ]
  },
  {
   "cell_type": "code",
   "execution_count": 11,
   "id": "f3cd7556",
   "metadata": {},
   "outputs": [
    {
     "name": "stdout",
     "output_type": "stream",
     "text": [
      "<class 'pandas.core.frame.DataFrame'>\n",
      "RangeIndex: 7043 entries, 0 to 7042\n",
      "Data columns (total 38 columns):\n",
      " #   Column                         Non-Null Count  Dtype  \n",
      "---  ------                         --------------  -----  \n",
      " 0   CustomerID                     7043 non-null   object \n",
      " 1   Gender                         7043 non-null   object \n",
      " 2   Age                            7043 non-null   int64  \n",
      " 3   Married                        7043 non-null   object \n",
      " 4   NumberofDependents             7043 non-null   int64  \n",
      " 5   City                           7043 non-null   object \n",
      " 6   ZipCode                        7043 non-null   int64  \n",
      " 7   Latitude                       7043 non-null   float64\n",
      " 8   Longitude                      7043 non-null   float64\n",
      " 9   NumberofReferrals              7043 non-null   int64  \n",
      " 10  TenureinMonths                 7043 non-null   int64  \n",
      " 11  Offer                          3166 non-null   object \n",
      " 12  PhoneService                   7043 non-null   object \n",
      " 13  AvgMonthlyLongDistanceCharges  6361 non-null   float64\n",
      " 14  MultipleLines                  6361 non-null   object \n",
      " 15  InternetService                7043 non-null   object \n",
      " 16  InternetType                   5517 non-null   object \n",
      " 17  AvgMonthlyGBDownload           5517 non-null   float64\n",
      " 18  OnlineSecurity                 5517 non-null   object \n",
      " 19  OnlineBackup                   5517 non-null   object \n",
      " 20  DeviceProtectionPlan           5517 non-null   object \n",
      " 21  PremiumTechSupport             5517 non-null   object \n",
      " 22  StreamingTV                    5517 non-null   object \n",
      " 23  StreamingMovies                5517 non-null   object \n",
      " 24  StreamingMusic                 5517 non-null   object \n",
      " 25  UnlimitedData                  5517 non-null   object \n",
      " 26  Contract                       7043 non-null   object \n",
      " 27  PaperlessBilling               7043 non-null   object \n",
      " 28  PaymentMethod                  7043 non-null   object \n",
      " 29  MonthlyCharge                  7043 non-null   float64\n",
      " 30  TotalCharges                   7043 non-null   float64\n",
      " 31  TotalRefunds                   7043 non-null   float64\n",
      " 32  TotalExtraDataCharges          7043 non-null   int64  \n",
      " 33  TotalLongDistanceCharges       7043 non-null   float64\n",
      " 34  TotalRevenue                   7043 non-null   float64\n",
      " 35  CustomerStatus                 7043 non-null   object \n",
      " 36  ChurnCategory                  1869 non-null   object \n",
      " 37  ChurnReason                    1869 non-null   object \n",
      "dtypes: float64(9), int64(6), object(23)\n",
      "memory usage: 2.0+ MB\n"
     ]
    }
   ],
   "source": [
    "df.info()"
   ]
  },
  {
   "cell_type": "markdown",
   "id": "28d1b33e",
   "metadata": {},
   "source": [
    "## EDA <a class=\"anchor\" id=\"EDA\"></a>"
   ]
  },
  {
   "cell_type": "markdown",
   "id": "78fe549c",
   "metadata": {},
   "source": [
    "- drop 'CustomerID' there is no need for that column \n",
    "- Keep only values  from [0-3] in 'NumberofDependents' column\n",
    "- Keep only values from [0-10] in 'NumberofReferrals' column \n",
    "- convert 'Gender' to category \n",
    "- convert 'Married' to category \n",
    "- replace 'None' with 'No Offer' in 'Offer' column \n",
    "- convert 'Offer' to category \n",
    "- convert 'PhoneService' to category \n",
    "- drop 'AvgMonthlyLongDistanceCharges' column \n",
    "- handle null in 'MultipleLines' column\n",
    "- convert 'MultipleLines' to category \n",
    "- convert 'InternetService' to category \n",
    "- handle null in 'InternetType' column \n",
    "- convert 'InternetType' to category   \n",
    "- handle null in 'AvgMonthlyGBDownload' column  \n",
    "- handle null in 'OnlineSecurity' column \n",
    "- convert 'OnlineSecurity' to categroy \n",
    "- handle null in 'OnlineBackup' column \n",
    "- convert 'OnlineBackup' to categroy \n",
    "- handle null in 'DeviceProtectionPlan'\n",
    "- convert 'DeviceProtectionPlan' to category \n",
    "- handle null in 'PremiumTechSupport'\n",
    "- convert 'PremiumTechSupport' to category\n",
    "- handle null in 'StreamingTV'\n",
    "- convert 'StreamingTV' to category\n",
    "- handle null in 'StreamingMovies'\n",
    "- convert 'StreamingMovies' to category\n",
    "- handle null in 'UnlimitedData'\n",
    "- convert 'UnlimitedData' to category\n",
    "- convert 'Contract' to category \n",
    "- convert 'PaperlessBilling' to category \n",
    "- convert 'PaymentMethod' to category \n",
    "- filter df to take data according to 'MonthlyCharge' > 0  \n",
    "- drop 'TotalRefunds'\n",
    "- drop 'TotalExtraDataCharges'\n",
    "- drop 'TotalLongDistanceCharges'\n",
    "- recategorize 'CustomerStatus'\n",
    "- drop 'ChurnReason' column "
   ]
  },
  {
   "cell_type": "markdown",
   "id": "f6327326",
   "metadata": {},
   "source": [
    "## Feature Engineering <a class=\"anchor\" id=\"Feature-Engineering\"></a>"
   ]
  },
  {
   "cell_type": "markdown",
   "id": "81cf0043",
   "metadata": {},
   "source": []
  },
  {
   "cell_type": "markdown",
   "id": "3ea39359",
   "metadata": {},
   "source": [
    "> CustomerID"
   ]
  },
  {
   "cell_type": "code",
   "execution_count": 12,
   "id": "e7aa8c6b",
   "metadata": {},
   "outputs": [
    {
     "data": {
      "text/plain": [
       "7043"
      ]
     },
     "execution_count": 12,
     "metadata": {},
     "output_type": "execute_result"
    }
   ],
   "source": [
    "df['CustomerID'].nunique()"
   ]
  },
  {
   "cell_type": "markdown",
   "id": "111ba47f",
   "metadata": {},
   "source": [
    "> Gender"
   ]
  },
  {
   "cell_type": "code",
   "execution_count": 13,
   "id": "0d9a00f9",
   "metadata": {},
   "outputs": [
    {
     "data": {
      "text/plain": [
       "Gender\n",
       "Male      3555\n",
       "Female    3488\n",
       "Name: count, dtype: int64"
      ]
     },
     "execution_count": 13,
     "metadata": {},
     "output_type": "execute_result"
    }
   ],
   "source": [
    "df['Gender'].value_counts()"
   ]
  },
  {
   "cell_type": "markdown",
   "id": "c1f7131a",
   "metadata": {},
   "source": [
    "> Age"
   ]
  },
  {
   "cell_type": "code",
   "execution_count": 14,
   "id": "b9740ac5",
   "metadata": {},
   "outputs": [
    {
     "data": {
      "text/plain": [
       "count    7043.000000\n",
       "mean       46.509726\n",
       "std        16.750352\n",
       "min        19.000000\n",
       "25%        32.000000\n",
       "50%        46.000000\n",
       "75%        60.000000\n",
       "max        80.000000\n",
       "Name: Age, dtype: float64"
      ]
     },
     "execution_count": 14,
     "metadata": {},
     "output_type": "execute_result"
    }
   ],
   "source": [
    "df['Age'].describe()"
   ]
  },
  {
   "cell_type": "code",
   "execution_count": 15,
   "id": "2b3a6377",
   "metadata": {},
   "outputs": [
    {
     "data": {
      "text/plain": [
       "<AxesSubplot:xlabel='Age', ylabel='Count'>"
      ]
     },
     "execution_count": 15,
     "metadata": {},
     "output_type": "execute_result"
    },
    {
     "data": {
      "image/png": "[encoded data removed]",
      "text/plain": [
       "<Figure size 432x288 with 1 Axes>"
      ]
     },
     "metadata": {
      "needs_background": "light"
     },
     "output_type": "display_data"
    }
   ],
   "source": [
    "sns.histplot(df['Age'])"
   ]
  },
  {
   "cell_type": "markdown",
   "id": "ea9c646c",
   "metadata": {},
   "source": [
    "> Married"
   ]
  },
  {
   "cell_type": "code",
   "execution_count": 16,
   "id": "22692abe",
   "metadata": {},
   "outputs": [
    {
     "data": {
      "text/plain": [
       "Married\n",
       "No     3641\n",
       "Yes    3402\n",
       "Name: count, dtype: int64"
      ]
     },
     "execution_count": 16,
     "metadata": {},
     "output_type": "execute_result"
    }
   ],
   "source": [
    "df['Married'].value_counts()"
   ]
  },
  {
   "cell_type": "markdown",
   "id": "5cd0ec82",
   "metadata": {},
   "source": [
    "> NumberofDependents"
   ]
  },
  {
   "cell_type": "code",
   "execution_count": 17,
   "id": "971c8705",
   "metadata": {},
   "outputs": [
    {
     "data": {
      "text/plain": [
       "0"
      ]
     },
     "execution_count": 17,
     "metadata": {},
     "output_type": "execute_result"
    }
   ],
   "source": [
    "df['NumberofDependents'].isna().sum()"
   ]
  },
  {
   "cell_type": "code",
   "execution_count": 18,
   "id": "97c82319",
   "metadata": {},
   "outputs": [
    {
     "data": {
      "text/plain": [
       "count    7043.000000\n",
       "mean        0.468692\n",
       "std         0.962802\n",
       "min         0.000000\n",
       "25%         0.000000\n",
       "50%         0.000000\n",
       "75%         0.000000\n",
       "max         9.000000\n",
       "Name: NumberofDependents, dtype: float64"
      ]
     },
     "execution_count": 18,
     "metadata": {},
     "output_type": "execute_result"
    }
   ],
   "source": [
    "df['NumberofDependents'].describe()"
   ]
  },
  {
   "cell_type": "code",
   "execution_count": 19,
   "id": "70bc6953",
   "metadata": {},
   "outputs": [
    {
     "data": {
      "text/plain": [
       "NumberofDependents\n",
       "0    5416\n",
       "1     553\n",
       "2     531\n",
       "3     517\n",
       "5      10\n",
       "4       9\n",
       "6       3\n",
       "7       2\n",
       "9       1\n",
       "8       1\n",
       "Name: count, dtype: int64"
      ]
     },
     "execution_count": 19,
     "metadata": {},
     "output_type": "execute_result"
    }
   ],
   "source": [
    "df['NumberofDependents'].value_counts()"
   ]
  },
  {
   "cell_type": "code",
   "execution_count": 20,
   "id": "5b4ab65c",
   "metadata": {},
   "outputs": [],
   "source": [
    "# sns.kdeplot(df['NumberofDependents'])"
   ]
  },
  {
   "cell_type": "markdown",
   "id": "2d324797",
   "metadata": {},
   "source": [
    "> City"
   ]
  },
  {
   "cell_type": "code",
   "execution_count": 21,
   "id": "af1ff9a3",
   "metadata": {},
   "outputs": [
    {
     "data": {
      "text/plain": [
       "1106"
      ]
     },
     "execution_count": 21,
     "metadata": {},
     "output_type": "execute_result"
    }
   ],
   "source": [
    "df['City'].str.lower().nunique()"
   ]
  },
  {
   "cell_type": "code",
   "execution_count": 22,
   "id": "b844ea0a",
   "metadata": {},
   "outputs": [
    {
     "data": {
      "text/plain": [
       "City\n",
       "los angeles         293\n",
       "san diego           285\n",
       "san jose            112\n",
       "sacramento          108\n",
       "san francisco       104\n",
       "                   ... \n",
       "johannesburg          2\n",
       "south lake tahoe      2\n",
       "jacumba               2\n",
       "holtville             2\n",
       "eldridge              2\n",
       "Name: count, Length: 1106, dtype: int64"
      ]
     },
     "execution_count": 22,
     "metadata": {},
     "output_type": "execute_result"
    }
   ],
   "source": [
    "df['City'].str.lower().value_counts()"
   ]
  },
  {
   "cell_type": "markdown",
   "id": "5c50f54a",
   "metadata": {},
   "source": [
    ">NumberofReferrals"
   ]
  },
  {
   "cell_type": "code",
   "execution_count": 23,
   "id": "1ef96e2a",
   "metadata": {},
   "outputs": [
    {
     "data": {
      "text/plain": [
       "count    7043.000000\n",
       "mean        1.951867\n",
       "std         3.001199\n",
       "min         0.000000\n",
       "25%         0.000000\n",
       "50%         0.000000\n",
       "75%         3.000000\n",
       "max        11.000000\n",
       "Name: NumberofReferrals, dtype: float64"
      ]
     },
     "execution_count": 23,
     "metadata": {},
     "output_type": "execute_result"
    }
   ],
   "source": [
    "df['NumberofReferrals'].describe()"
   ]
  },
  {
   "cell_type": "code",
   "execution_count": 24,
   "id": "d0f7b12f",
   "metadata": {},
   "outputs": [
    {
     "data": {
      "text/plain": [
       "NumberofReferrals\n",
       "0     3821\n",
       "1     1086\n",
       "5      264\n",
       "3      255\n",
       "7      248\n",
       "9      238\n",
       "2      236\n",
       "4      236\n",
       "10     223\n",
       "6      221\n",
       "8      213\n",
       "11       2\n",
       "Name: count, dtype: int64"
      ]
     },
     "execution_count": 24,
     "metadata": {},
     "output_type": "execute_result"
    }
   ],
   "source": [
    "df['NumberofReferrals'].value_counts()"
   ]
  },
  {
   "cell_type": "markdown",
   "id": "245c4a9d",
   "metadata": {},
   "source": [
    "> TenureinMonths"
   ]
  },
  {
   "cell_type": "code",
   "execution_count": 25,
   "id": "ed5bc009",
   "metadata": {},
   "outputs": [
    {
     "data": {
      "text/plain": [
       "count    7043.000000\n",
       "mean       32.386767\n",
       "std        24.542061\n",
       "min         1.000000\n",
       "25%         9.000000\n",
       "50%        29.000000\n",
       "75%        55.000000\n",
       "max        72.000000\n",
       "Name: TenureinMonths, dtype: float64"
      ]
     },
     "execution_count": 25,
     "metadata": {},
     "output_type": "execute_result"
    }
   ],
   "source": [
    "df['TenureinMonths'].describe()"
   ]
  },
  {
   "cell_type": "code",
   "execution_count": 26,
   "id": "6a4703e7",
   "metadata": {},
   "outputs": [
    {
     "data": {
      "text/html": [
       "<div>\n",
       "<style scoped>\n",
       "    .dataframe tbody tr th:only-of-type {\n",
       "        vertical-align: middle;\n",
       "    }\n",
       "\n",
       "    .dataframe tbody tr th {\n",
       "        vertical-align: top;\n",
       "    }\n",
       "\n",
       "    .dataframe thead th {\n",
       "        text-align: right;\n",
       "    }\n",
       "</style>\n",
       "<table border=\"1\" class=\"dataframe\">\n",
       "  <thead>\n",
       "    <tr style=\"text-align: right;\">\n",
       "      <th></th>\n",
       "      <th>TenureinMonths</th>\n",
       "      <th>CustomerStatus</th>\n",
       "    </tr>\n",
       "  </thead>\n",
       "  <tbody>\n",
       "    <tr>\n",
       "      <th>0</th>\n",
       "      <td>9</td>\n",
       "      <td>Stayed</td>\n",
       "    </tr>\n",
       "    <tr>\n",
       "      <th>1</th>\n",
       "      <td>9</td>\n",
       "      <td>Stayed</td>\n",
       "    </tr>\n",
       "    <tr>\n",
       "      <th>2</th>\n",
       "      <td>4</td>\n",
       "      <td>Churned</td>\n",
       "    </tr>\n",
       "    <tr>\n",
       "      <th>3</th>\n",
       "      <td>13</td>\n",
       "      <td>Churned</td>\n",
       "    </tr>\n",
       "    <tr>\n",
       "      <th>4</th>\n",
       "      <td>3</td>\n",
       "      <td>Churned</td>\n",
       "    </tr>\n",
       "    <tr>\n",
       "      <th>...</th>\n",
       "      <td>...</td>\n",
       "      <td>...</td>\n",
       "    </tr>\n",
       "    <tr>\n",
       "      <th>7038</th>\n",
       "      <td>13</td>\n",
       "      <td>Stayed</td>\n",
       "    </tr>\n",
       "    <tr>\n",
       "      <th>7039</th>\n",
       "      <td>22</td>\n",
       "      <td>Churned</td>\n",
       "    </tr>\n",
       "    <tr>\n",
       "      <th>7040</th>\n",
       "      <td>2</td>\n",
       "      <td>Joined</td>\n",
       "    </tr>\n",
       "    <tr>\n",
       "      <th>7041</th>\n",
       "      <td>67</td>\n",
       "      <td>Stayed</td>\n",
       "    </tr>\n",
       "    <tr>\n",
       "      <th>7042</th>\n",
       "      <td>63</td>\n",
       "      <td>Stayed</td>\n",
       "    </tr>\n",
       "  </tbody>\n",
       "</table>\n",
       "<p>7043 rows × 2 columns</p>\n",
       "</div>"
      ],
      "text/plain": [
       "      TenureinMonths CustomerStatus\n",
       "0                  9         Stayed\n",
       "1                  9         Stayed\n",
       "2                  4        Churned\n",
       "3                 13        Churned\n",
       "4                  3        Churned\n",
       "...              ...            ...\n",
       "7038              13         Stayed\n",
       "7039              22        Churned\n",
       "7040               2         Joined\n",
       "7041              67         Stayed\n",
       "7042              63         Stayed\n",
       "\n",
       "[7043 rows x 2 columns]"
      ]
     },
     "execution_count": 26,
     "metadata": {},
     "output_type": "execute_result"
    }
   ],
   "source": [
    "df[['TenureinMonths','CustomerStatus']]"
   ]
  },
  {
   "cell_type": "code",
   "execution_count": 27,
   "id": "8794f24f",
   "metadata": {},
   "outputs": [
    {
     "data": {
      "text/html": [
       "<div>\n",
       "<style scoped>\n",
       "    .dataframe tbody tr th:only-of-type {\n",
       "        vertical-align: middle;\n",
       "    }\n",
       "\n",
       "    .dataframe tbody tr th {\n",
       "        vertical-align: top;\n",
       "    }\n",
       "\n",
       "    .dataframe thead th {\n",
       "        text-align: right;\n",
       "    }\n",
       "</style>\n",
       "<table border=\"1\" class=\"dataframe\">\n",
       "  <thead>\n",
       "    <tr style=\"text-align: right;\">\n",
       "      <th></th>\n",
       "      <th>CustomerID</th>\n",
       "      <th>Gender</th>\n",
       "      <th>Age</th>\n",
       "      <th>Married</th>\n",
       "      <th>NumberofDependents</th>\n",
       "      <th>City</th>\n",
       "      <th>ZipCode</th>\n",
       "      <th>Latitude</th>\n",
       "      <th>Longitude</th>\n",
       "      <th>NumberofReferrals</th>\n",
       "      <th>TenureinMonths</th>\n",
       "      <th>Offer</th>\n",
       "      <th>PhoneService</th>\n",
       "      <th>AvgMonthlyLongDistanceCharges</th>\n",
       "      <th>MultipleLines</th>\n",
       "      <th>InternetService</th>\n",
       "      <th>InternetType</th>\n",
       "      <th>AvgMonthlyGBDownload</th>\n",
       "      <th>OnlineSecurity</th>\n",
       "      <th>OnlineBackup</th>\n",
       "      <th>DeviceProtectionPlan</th>\n",
       "      <th>PremiumTechSupport</th>\n",
       "      <th>StreamingTV</th>\n",
       "      <th>StreamingMovies</th>\n",
       "      <th>StreamingMusic</th>\n",
       "      <th>UnlimitedData</th>\n",
       "      <th>Contract</th>\n",
       "      <th>PaperlessBilling</th>\n",
       "      <th>PaymentMethod</th>\n",
       "      <th>MonthlyCharge</th>\n",
       "      <th>TotalCharges</th>\n",
       "      <th>TotalRefunds</th>\n",
       "      <th>TotalExtraDataCharges</th>\n",
       "      <th>TotalLongDistanceCharges</th>\n",
       "      <th>TotalRevenue</th>\n",
       "      <th>CustomerStatus</th>\n",
       "      <th>ChurnCategory</th>\n",
       "      <th>ChurnReason</th>\n",
       "    </tr>\n",
       "  </thead>\n",
       "  <tbody>\n",
       "    <tr>\n",
       "      <th>19</th>\n",
       "      <td>0023-HGHWL</td>\n",
       "      <td>Male</td>\n",
       "      <td>67</td>\n",
       "      <td>No</td>\n",
       "      <td>0</td>\n",
       "      <td>Morgan Hill</td>\n",
       "      <td>95037</td>\n",
       "      <td>37.161544</td>\n",
       "      <td>-121.649371</td>\n",
       "      <td>0</td>\n",
       "      <td>1</td>\n",
       "      <td>NaN</td>\n",
       "      <td>No</td>\n",
       "      <td>NaN</td>\n",
       "      <td>NaN</td>\n",
       "      <td>Yes</td>\n",
       "      <td>Cable</td>\n",
       "      <td>9.0</td>\n",
       "      <td>No</td>\n",
       "      <td>No</td>\n",
       "      <td>No</td>\n",
       "      <td>No</td>\n",
       "      <td>No</td>\n",
       "      <td>No</td>\n",
       "      <td>No</td>\n",
       "      <td>Yes</td>\n",
       "      <td>Month-to-Month</td>\n",
       "      <td>Yes</td>\n",
       "      <td>Bank Withdrawal</td>\n",
       "      <td>25.10</td>\n",
       "      <td>25.10</td>\n",
       "      <td>0.0</td>\n",
       "      <td>0</td>\n",
       "      <td>0.00</td>\n",
       "      <td>25.10</td>\n",
       "      <td>Churned</td>\n",
       "      <td>Competitor</td>\n",
       "      <td>Competitor made better offer</td>\n",
       "    </tr>\n",
       "    <tr>\n",
       "      <th>25</th>\n",
       "      <td>0032-PGELS</td>\n",
       "      <td>Female</td>\n",
       "      <td>37</td>\n",
       "      <td>Yes</td>\n",
       "      <td>1</td>\n",
       "      <td>Palomar Mountain</td>\n",
       "      <td>92060</td>\n",
       "      <td>33.309852</td>\n",
       "      <td>-116.823091</td>\n",
       "      <td>1</td>\n",
       "      <td>1</td>\n",
       "      <td>NaN</td>\n",
       "      <td>No</td>\n",
       "      <td>NaN</td>\n",
       "      <td>NaN</td>\n",
       "      <td>Yes</td>\n",
       "      <td>DSL</td>\n",
       "      <td>19.0</td>\n",
       "      <td>Yes</td>\n",
       "      <td>No</td>\n",
       "      <td>No</td>\n",
       "      <td>No</td>\n",
       "      <td>No</td>\n",
       "      <td>No</td>\n",
       "      <td>No</td>\n",
       "      <td>Yes</td>\n",
       "      <td>Month-to-Month</td>\n",
       "      <td>No</td>\n",
       "      <td>Bank Withdrawal</td>\n",
       "      <td>30.50</td>\n",
       "      <td>30.50</td>\n",
       "      <td>0.0</td>\n",
       "      <td>0</td>\n",
       "      <td>0.00</td>\n",
       "      <td>30.50</td>\n",
       "      <td>Churned</td>\n",
       "      <td>Attitude</td>\n",
       "      <td>Attitude of service provider</td>\n",
       "    </tr>\n",
       "    <tr>\n",
       "      <th>63</th>\n",
       "      <td>0107-WESLM</td>\n",
       "      <td>Male</td>\n",
       "      <td>32</td>\n",
       "      <td>No</td>\n",
       "      <td>0</td>\n",
       "      <td>West Point</td>\n",
       "      <td>95255</td>\n",
       "      <td>38.419350</td>\n",
       "      <td>-120.469545</td>\n",
       "      <td>0</td>\n",
       "      <td>1</td>\n",
       "      <td>Offer E</td>\n",
       "      <td>Yes</td>\n",
       "      <td>31.77</td>\n",
       "      <td>No</td>\n",
       "      <td>No</td>\n",
       "      <td>NaN</td>\n",
       "      <td>NaN</td>\n",
       "      <td>NaN</td>\n",
       "      <td>NaN</td>\n",
       "      <td>NaN</td>\n",
       "      <td>NaN</td>\n",
       "      <td>NaN</td>\n",
       "      <td>NaN</td>\n",
       "      <td>NaN</td>\n",
       "      <td>NaN</td>\n",
       "      <td>Month-to-Month</td>\n",
       "      <td>Yes</td>\n",
       "      <td>Bank Withdrawal</td>\n",
       "      <td>19.85</td>\n",
       "      <td>19.85</td>\n",
       "      <td>0.0</td>\n",
       "      <td>0</td>\n",
       "      <td>31.77</td>\n",
       "      <td>51.62</td>\n",
       "      <td>Churned</td>\n",
       "      <td>Attitude</td>\n",
       "      <td>Attitude of support person</td>\n",
       "    </tr>\n",
       "    <tr>\n",
       "      <th>64</th>\n",
       "      <td>0107-YHINA</td>\n",
       "      <td>Male</td>\n",
       "      <td>59</td>\n",
       "      <td>No</td>\n",
       "      <td>0</td>\n",
       "      <td>Los Angeles</td>\n",
       "      <td>90062</td>\n",
       "      <td>34.003553</td>\n",
       "      <td>-118.308933</td>\n",
       "      <td>0</td>\n",
       "      <td>1</td>\n",
       "      <td>NaN</td>\n",
       "      <td>Yes</td>\n",
       "      <td>40.71</td>\n",
       "      <td>Yes</td>\n",
       "      <td>Yes</td>\n",
       "      <td>Fiber Optic</td>\n",
       "      <td>25.0</td>\n",
       "      <td>No</td>\n",
       "      <td>No</td>\n",
       "      <td>Yes</td>\n",
       "      <td>No</td>\n",
       "      <td>Yes</td>\n",
       "      <td>Yes</td>\n",
       "      <td>Yes</td>\n",
       "      <td>Yes</td>\n",
       "      <td>Month-to-Month</td>\n",
       "      <td>Yes</td>\n",
       "      <td>Bank Withdrawal</td>\n",
       "      <td>99.75</td>\n",
       "      <td>99.75</td>\n",
       "      <td>0.0</td>\n",
       "      <td>0</td>\n",
       "      <td>40.71</td>\n",
       "      <td>140.46</td>\n",
       "      <td>Churned</td>\n",
       "      <td>Competitor</td>\n",
       "      <td>Competitor had better devices</td>\n",
       "    </tr>\n",
       "    <tr>\n",
       "      <th>86</th>\n",
       "      <td>0137-OCGAB</td>\n",
       "      <td>Female</td>\n",
       "      <td>25</td>\n",
       "      <td>No</td>\n",
       "      <td>0</td>\n",
       "      <td>Fairfield</td>\n",
       "      <td>94533</td>\n",
       "      <td>38.287136</td>\n",
       "      <td>-122.027110</td>\n",
       "      <td>0</td>\n",
       "      <td>1</td>\n",
       "      <td>Offer E</td>\n",
       "      <td>Yes</td>\n",
       "      <td>1.23</td>\n",
       "      <td>Yes</td>\n",
       "      <td>Yes</td>\n",
       "      <td>Fiber Optic</td>\n",
       "      <td>69.0</td>\n",
       "      <td>No</td>\n",
       "      <td>Yes</td>\n",
       "      <td>No</td>\n",
       "      <td>No</td>\n",
       "      <td>No</td>\n",
       "      <td>No</td>\n",
       "      <td>No</td>\n",
       "      <td>Yes</td>\n",
       "      <td>Month-to-Month</td>\n",
       "      <td>Yes</td>\n",
       "      <td>Mailed Check</td>\n",
       "      <td>80.20</td>\n",
       "      <td>80.20</td>\n",
       "      <td>0.0</td>\n",
       "      <td>0</td>\n",
       "      <td>1.23</td>\n",
       "      <td>81.43</td>\n",
       "      <td>Churned</td>\n",
       "      <td>Price</td>\n",
       "      <td>Lack of affordable download/upload speed</td>\n",
       "    </tr>\n",
       "    <tr>\n",
       "      <th>...</th>\n",
       "      <td>...</td>\n",
       "      <td>...</td>\n",
       "      <td>...</td>\n",
       "      <td>...</td>\n",
       "      <td>...</td>\n",
       "      <td>...</td>\n",
       "      <td>...</td>\n",
       "      <td>...</td>\n",
       "      <td>...</td>\n",
       "      <td>...</td>\n",
       "      <td>...</td>\n",
       "      <td>...</td>\n",
       "      <td>...</td>\n",
       "      <td>...</td>\n",
       "      <td>...</td>\n",
       "      <td>...</td>\n",
       "      <td>...</td>\n",
       "      <td>...</td>\n",
       "      <td>...</td>\n",
       "      <td>...</td>\n",
       "      <td>...</td>\n",
       "      <td>...</td>\n",
       "      <td>...</td>\n",
       "      <td>...</td>\n",
       "      <td>...</td>\n",
       "      <td>...</td>\n",
       "      <td>...</td>\n",
       "      <td>...</td>\n",
       "      <td>...</td>\n",
       "      <td>...</td>\n",
       "      <td>...</td>\n",
       "      <td>...</td>\n",
       "      <td>...</td>\n",
       "      <td>...</td>\n",
       "      <td>...</td>\n",
       "      <td>...</td>\n",
       "      <td>...</td>\n",
       "      <td>...</td>\n",
       "    </tr>\n",
       "    <tr>\n",
       "      <th>6966</th>\n",
       "      <td>9885-CSMWE</td>\n",
       "      <td>Female</td>\n",
       "      <td>65</td>\n",
       "      <td>No</td>\n",
       "      <td>0</td>\n",
       "      <td>Los Angeles</td>\n",
       "      <td>90007</td>\n",
       "      <td>34.027337</td>\n",
       "      <td>-118.285150</td>\n",
       "      <td>0</td>\n",
       "      <td>1</td>\n",
       "      <td>Offer E</td>\n",
       "      <td>Yes</td>\n",
       "      <td>18.37</td>\n",
       "      <td>No</td>\n",
       "      <td>Yes</td>\n",
       "      <td>Fiber Optic</td>\n",
       "      <td>13.0</td>\n",
       "      <td>No</td>\n",
       "      <td>No</td>\n",
       "      <td>No</td>\n",
       "      <td>No</td>\n",
       "      <td>Yes</td>\n",
       "      <td>No</td>\n",
       "      <td>No</td>\n",
       "      <td>Yes</td>\n",
       "      <td>Month-to-Month</td>\n",
       "      <td>No</td>\n",
       "      <td>Bank Withdrawal</td>\n",
       "      <td>78.45</td>\n",
       "      <td>78.45</td>\n",
       "      <td>0.0</td>\n",
       "      <td>0</td>\n",
       "      <td>18.37</td>\n",
       "      <td>96.82</td>\n",
       "      <td>Churned</td>\n",
       "      <td>Dissatisfaction</td>\n",
       "      <td>Product dissatisfaction</td>\n",
       "    </tr>\n",
       "    <tr>\n",
       "      <th>6971</th>\n",
       "      <td>9894-EZEWG</td>\n",
       "      <td>Female</td>\n",
       "      <td>31</td>\n",
       "      <td>No</td>\n",
       "      <td>0</td>\n",
       "      <td>Walnut Grove</td>\n",
       "      <td>95690</td>\n",
       "      <td>38.240419</td>\n",
       "      <td>-121.587535</td>\n",
       "      <td>0</td>\n",
       "      <td>1</td>\n",
       "      <td>Offer E</td>\n",
       "      <td>Yes</td>\n",
       "      <td>39.66</td>\n",
       "      <td>No</td>\n",
       "      <td>Yes</td>\n",
       "      <td>Fiber Optic</td>\n",
       "      <td>8.0</td>\n",
       "      <td>No</td>\n",
       "      <td>Yes</td>\n",
       "      <td>No</td>\n",
       "      <td>No</td>\n",
       "      <td>No</td>\n",
       "      <td>No</td>\n",
       "      <td>No</td>\n",
       "      <td>Yes</td>\n",
       "      <td>Month-to-Month</td>\n",
       "      <td>Yes</td>\n",
       "      <td>Credit Card</td>\n",
       "      <td>74.30</td>\n",
       "      <td>74.30</td>\n",
       "      <td>0.0</td>\n",
       "      <td>0</td>\n",
       "      <td>39.66</td>\n",
       "      <td>113.96</td>\n",
       "      <td>Churned</td>\n",
       "      <td>Competitor</td>\n",
       "      <td>Competitor had better devices</td>\n",
       "    </tr>\n",
       "    <tr>\n",
       "      <th>6980</th>\n",
       "      <td>9907-SWKKF</td>\n",
       "      <td>Female</td>\n",
       "      <td>69</td>\n",
       "      <td>No</td>\n",
       "      <td>0</td>\n",
       "      <td>Twain</td>\n",
       "      <td>95984</td>\n",
       "      <td>40.022184</td>\n",
       "      <td>-121.062384</td>\n",
       "      <td>0</td>\n",
       "      <td>1</td>\n",
       "      <td>Offer E</td>\n",
       "      <td>No</td>\n",
       "      <td>NaN</td>\n",
       "      <td>NaN</td>\n",
       "      <td>Yes</td>\n",
       "      <td>DSL</td>\n",
       "      <td>21.0</td>\n",
       "      <td>No</td>\n",
       "      <td>No</td>\n",
       "      <td>No</td>\n",
       "      <td>No</td>\n",
       "      <td>No</td>\n",
       "      <td>No</td>\n",
       "      <td>No</td>\n",
       "      <td>Yes</td>\n",
       "      <td>Month-to-Month</td>\n",
       "      <td>No</td>\n",
       "      <td>Credit Card</td>\n",
       "      <td>25.05</td>\n",
       "      <td>25.05</td>\n",
       "      <td>0.0</td>\n",
       "      <td>0</td>\n",
       "      <td>0.00</td>\n",
       "      <td>25.05</td>\n",
       "      <td>Churned</td>\n",
       "      <td>Competitor</td>\n",
       "      <td>Competitor had better devices</td>\n",
       "    </tr>\n",
       "    <tr>\n",
       "      <th>7007</th>\n",
       "      <td>9940-RHLFB</td>\n",
       "      <td>Female</td>\n",
       "      <td>53</td>\n",
       "      <td>No</td>\n",
       "      <td>0</td>\n",
       "      <td>Sunset Beach</td>\n",
       "      <td>90742</td>\n",
       "      <td>33.719221</td>\n",
       "      <td>-118.073596</td>\n",
       "      <td>0</td>\n",
       "      <td>1</td>\n",
       "      <td>Offer E</td>\n",
       "      <td>Yes</td>\n",
       "      <td>26.06</td>\n",
       "      <td>No</td>\n",
       "      <td>Yes</td>\n",
       "      <td>Fiber Optic</td>\n",
       "      <td>3.0</td>\n",
       "      <td>No</td>\n",
       "      <td>No</td>\n",
       "      <td>Yes</td>\n",
       "      <td>No</td>\n",
       "      <td>No</td>\n",
       "      <td>No</td>\n",
       "      <td>No</td>\n",
       "      <td>Yes</td>\n",
       "      <td>Month-to-Month</td>\n",
       "      <td>No</td>\n",
       "      <td>Bank Withdrawal</td>\n",
       "      <td>75.30</td>\n",
       "      <td>75.30</td>\n",
       "      <td>0.0</td>\n",
       "      <td>0</td>\n",
       "      <td>26.06</td>\n",
       "      <td>101.36</td>\n",
       "      <td>Churned</td>\n",
       "      <td>Competitor</td>\n",
       "      <td>Competitor made better offer</td>\n",
       "    </tr>\n",
       "    <tr>\n",
       "      <th>7036</th>\n",
       "      <td>9985-MWVIX</td>\n",
       "      <td>Female</td>\n",
       "      <td>53</td>\n",
       "      <td>No</td>\n",
       "      <td>0</td>\n",
       "      <td>Hume</td>\n",
       "      <td>93628</td>\n",
       "      <td>36.807595</td>\n",
       "      <td>-118.901544</td>\n",
       "      <td>0</td>\n",
       "      <td>1</td>\n",
       "      <td>Offer E</td>\n",
       "      <td>Yes</td>\n",
       "      <td>42.09</td>\n",
       "      <td>No</td>\n",
       "      <td>Yes</td>\n",
       "      <td>Fiber Optic</td>\n",
       "      <td>9.0</td>\n",
       "      <td>No</td>\n",
       "      <td>No</td>\n",
       "      <td>No</td>\n",
       "      <td>No</td>\n",
       "      <td>No</td>\n",
       "      <td>No</td>\n",
       "      <td>No</td>\n",
       "      <td>Yes</td>\n",
       "      <td>Month-to-Month</td>\n",
       "      <td>Yes</td>\n",
       "      <td>Credit Card</td>\n",
       "      <td>70.15</td>\n",
       "      <td>70.15</td>\n",
       "      <td>0.0</td>\n",
       "      <td>0</td>\n",
       "      <td>42.09</td>\n",
       "      <td>112.24</td>\n",
       "      <td>Churned</td>\n",
       "      <td>Competitor</td>\n",
       "      <td>Competitor had better devices</td>\n",
       "    </tr>\n",
       "  </tbody>\n",
       "</table>\n",
       "<p>380 rows × 38 columns</p>\n",
       "</div>"
      ],
      "text/plain": [
       "      CustomerID  Gender  Age Married  NumberofDependents              City  \\\n",
       "19    0023-HGHWL    Male   67      No                   0       Morgan Hill   \n",
       "25    0032-PGELS  Female   37     Yes                   1  Palomar Mountain   \n",
       "63    0107-WESLM    Male   32      No                   0        West Point   \n",
       "64    0107-YHINA    Male   59      No                   0       Los Angeles   \n",
       "86    0137-OCGAB  Female   25      No                   0         Fairfield   \n",
       "...          ...     ...  ...     ...                 ...               ...   \n",
       "6966  9885-CSMWE  Female   65      No                   0       Los Angeles   \n",
       "6971  9894-EZEWG  Female   31      No                   0      Walnut Grove   \n",
       "6980  9907-SWKKF  Female   69      No                   0             Twain   \n",
       "7007  9940-RHLFB  Female   53      No                   0      Sunset Beach   \n",
       "7036  9985-MWVIX  Female   53      No                   0              Hume   \n",
       "\n",
       "      ZipCode   Latitude   Longitude  NumberofReferrals  TenureinMonths  \\\n",
       "19      95037  37.161544 -121.649371                  0               1   \n",
       "25      92060  33.309852 -116.823091                  1               1   \n",
       "63      95255  38.419350 -120.469545                  0               1   \n",
       "64      90062  34.003553 -118.308933                  0               1   \n",
       "86      94533  38.287136 -122.027110                  0               1   \n",
       "...       ...        ...         ...                ...             ...   \n",
       "6966    90007  34.027337 -118.285150                  0               1   \n",
       "6971    95690  38.240419 -121.587535                  0               1   \n",
       "6980    95984  40.022184 -121.062384                  0               1   \n",
       "7007    90742  33.719221 -118.073596                  0               1   \n",
       "7036    93628  36.807595 -118.901544                  0               1   \n",
       "\n",
       "        Offer PhoneService  AvgMonthlyLongDistanceCharges MultipleLines  \\\n",
       "19        NaN           No                            NaN           NaN   \n",
       "25        NaN           No                            NaN           NaN   \n",
       "63    Offer E          Yes                          31.77            No   \n",
       "64        NaN          Yes                          40.71           Yes   \n",
       "86    Offer E          Yes                           1.23           Yes   \n",
       "...       ...          ...                            ...           ...   \n",
       "6966  Offer E          Yes                          18.37            No   \n",
       "6971  Offer E          Yes                          39.66            No   \n",
       "6980  Offer E           No                            NaN           NaN   \n",
       "7007  Offer E          Yes                          26.06            No   \n",
       "7036  Offer E          Yes                          42.09            No   \n",
       "\n",
       "     InternetService InternetType  AvgMonthlyGBDownload OnlineSecurity  \\\n",
       "19               Yes        Cable                   9.0             No   \n",
       "25               Yes          DSL                  19.0            Yes   \n",
       "63                No          NaN                   NaN            NaN   \n",
       "64               Yes  Fiber Optic                  25.0             No   \n",
       "86               Yes  Fiber Optic                  69.0             No   \n",
       "...              ...          ...                   ...            ...   \n",
       "6966             Yes  Fiber Optic                  13.0             No   \n",
       "6971             Yes  Fiber Optic                   8.0             No   \n",
       "6980             Yes          DSL                  21.0             No   \n",
       "7007             Yes  Fiber Optic                   3.0             No   \n",
       "7036             Yes  Fiber Optic                   9.0             No   \n",
       "\n",
       "     OnlineBackup DeviceProtectionPlan PremiumTechSupport StreamingTV  \\\n",
       "19             No                   No                 No          No   \n",
       "25             No                   No                 No          No   \n",
       "63            NaN                  NaN                NaN         NaN   \n",
       "64             No                  Yes                 No         Yes   \n",
       "86            Yes                   No                 No          No   \n",
       "...           ...                  ...                ...         ...   \n",
       "6966           No                   No                 No         Yes   \n",
       "6971          Yes                   No                 No          No   \n",
       "6980           No                   No                 No          No   \n",
       "7007           No                  Yes                 No          No   \n",
       "7036           No                   No                 No          No   \n",
       "\n",
       "     StreamingMovies StreamingMusic UnlimitedData        Contract  \\\n",
       "19                No             No           Yes  Month-to-Month   \n",
       "25                No             No           Yes  Month-to-Month   \n",
       "63               NaN            NaN           NaN  Month-to-Month   \n",
       "64               Yes            Yes           Yes  Month-to-Month   \n",
       "86                No             No           Yes  Month-to-Month   \n",
       "...              ...            ...           ...             ...   \n",
       "6966              No             No           Yes  Month-to-Month   \n",
       "6971              No             No           Yes  Month-to-Month   \n",
       "6980              No             No           Yes  Month-to-Month   \n",
       "7007              No             No           Yes  Month-to-Month   \n",
       "7036              No             No           Yes  Month-to-Month   \n",
       "\n",
       "     PaperlessBilling    PaymentMethod  MonthlyCharge  TotalCharges  \\\n",
       "19                Yes  Bank Withdrawal          25.10         25.10   \n",
       "25                 No  Bank Withdrawal          30.50         30.50   \n",
       "63                Yes  Bank Withdrawal          19.85         19.85   \n",
       "64                Yes  Bank Withdrawal          99.75         99.75   \n",
       "86                Yes     Mailed Check          80.20         80.20   \n",
       "...               ...              ...            ...           ...   \n",
       "6966               No  Bank Withdrawal          78.45         78.45   \n",
       "6971              Yes      Credit Card          74.30         74.30   \n",
       "6980               No      Credit Card          25.05         25.05   \n",
       "7007               No  Bank Withdrawal          75.30         75.30   \n",
       "7036              Yes      Credit Card          70.15         70.15   \n",
       "\n",
       "      TotalRefunds  TotalExtraDataCharges  TotalLongDistanceCharges  \\\n",
       "19             0.0                      0                      0.00   \n",
       "25             0.0                      0                      0.00   \n",
       "63             0.0                      0                     31.77   \n",
       "64             0.0                      0                     40.71   \n",
       "86             0.0                      0                      1.23   \n",
       "...            ...                    ...                       ...   \n",
       "6966           0.0                      0                     18.37   \n",
       "6971           0.0                      0                     39.66   \n",
       "6980           0.0                      0                      0.00   \n",
       "7007           0.0                      0                     26.06   \n",
       "7036           0.0                      0                     42.09   \n",
       "\n",
       "      TotalRevenue CustomerStatus    ChurnCategory  \\\n",
       "19           25.10        Churned       Competitor   \n",
       "25           30.50        Churned         Attitude   \n",
       "63           51.62        Churned         Attitude   \n",
       "64          140.46        Churned       Competitor   \n",
       "86           81.43        Churned            Price   \n",
       "...            ...            ...              ...   \n",
       "6966         96.82        Churned  Dissatisfaction   \n",
       "6971        113.96        Churned       Competitor   \n",
       "6980         25.05        Churned       Competitor   \n",
       "7007        101.36        Churned       Competitor   \n",
       "7036        112.24        Churned       Competitor   \n",
       "\n",
       "                                   ChurnReason  \n",
       "19                Competitor made better offer  \n",
       "25                Attitude of service provider  \n",
       "63                  Attitude of support person  \n",
       "64               Competitor had better devices  \n",
       "86    Lack of affordable download/upload speed  \n",
       "...                                        ...  \n",
       "6966                   Product dissatisfaction  \n",
       "6971             Competitor had better devices  \n",
       "6980             Competitor had better devices  \n",
       "7007              Competitor made better offer  \n",
       "7036             Competitor had better devices  \n",
       "\n",
       "[380 rows x 38 columns]"
      ]
     },
     "execution_count": 27,
     "metadata": {},
     "output_type": "execute_result"
    }
   ],
   "source": [
    "## Whether he will stay or churn if tenure in month = 1\n",
    "df[(df['TenureinMonths']<=1) & (df['CustomerStatus'] == 'Churned')]"
   ]
  },
  {
   "cell_type": "code",
   "execution_count": 28,
   "id": "54717c6c",
   "metadata": {},
   "outputs": [
    {
     "data": {
      "text/plain": [
       "<AxesSubplot:xlabel='TenureinMonths'>"
      ]
     },
     "execution_count": 28,
     "metadata": {},
     "output_type": "execute_result"
    },
    {
     "data": {
      "image/png": "[encoded data removed]",
      "text/plain": [
       "<Figure size 432x288 with 1 Axes>"
      ]
     },
     "metadata": {
      "needs_background": "light"
     },
     "output_type": "display_data"
    }
   ],
   "source": [
    "sns.boxplot(df['TenureinMonths'])"
   ]
  },
  {
   "cell_type": "markdown",
   "id": "e9d36a87",
   "metadata": {},
   "source": [
    "> Offer"
   ]
  },
  {
   "cell_type": "code",
   "execution_count": 29,
   "id": "04fdc7cc",
   "metadata": {},
   "outputs": [
    {
     "data": {
      "text/plain": [
       "Offer\n",
       "Offer B    824\n",
       "Offer E    805\n",
       "Offer D    602\n",
       "Offer A    520\n",
       "Offer C    415\n",
       "Name: count, dtype: int64"
      ]
     },
     "execution_count": 29,
     "metadata": {},
     "output_type": "execute_result"
    }
   ],
   "source": [
    "df['Offer'].value_counts()"
   ]
  },
  {
   "cell_type": "markdown",
   "id": "e9234f80",
   "metadata": {},
   "source": [
    "> PhoneService"
   ]
  },
  {
   "cell_type": "code",
   "execution_count": 30,
   "id": "a3e34ef4",
   "metadata": {},
   "outputs": [
    {
     "data": {
      "text/plain": [
       "PhoneService\n",
       "Yes    6361\n",
       "No      682\n",
       "Name: count, dtype: int64"
      ]
     },
     "execution_count": 30,
     "metadata": {},
     "output_type": "execute_result"
    }
   ],
   "source": [
    "df['PhoneService'].value_counts()"
   ]
  },
  {
   "cell_type": "markdown",
   "id": "3e86be48",
   "metadata": {},
   "source": [
    "> AvgMonthlyLongDistanceCharges"
   ]
  },
  {
   "cell_type": "code",
   "execution_count": 31,
   "id": "a1007f24",
   "metadata": {},
   "outputs": [
    {
     "data": {
      "text/plain": [
       "682"
      ]
     },
     "execution_count": 31,
     "metadata": {},
     "output_type": "execute_result"
    }
   ],
   "source": [
    "df['AvgMonthlyLongDistanceCharges'].isna().sum()"
   ]
  },
  {
   "cell_type": "code",
   "execution_count": 32,
   "id": "18e87640",
   "metadata": {},
   "outputs": [
    {
     "data": {
      "text/plain": [
       "count    6361.000000\n",
       "mean       25.420517\n",
       "std        14.200374\n",
       "min         1.010000\n",
       "25%        13.050000\n",
       "50%        25.690000\n",
       "75%        37.680000\n",
       "max        49.990000\n",
       "Name: AvgMonthlyLongDistanceCharges, dtype: float64"
      ]
     },
     "execution_count": 32,
     "metadata": {},
     "output_type": "execute_result"
    }
   ],
   "source": [
    "df['AvgMonthlyLongDistanceCharges'].describe()"
   ]
  },
  {
   "cell_type": "markdown",
   "id": "d5f09785",
   "metadata": {},
   "source": [
    "> MultipleLines"
   ]
  },
  {
   "cell_type": "code",
   "execution_count": 33,
   "id": "95b30495",
   "metadata": {},
   "outputs": [
    {
     "data": {
      "text/plain": [
       "MultipleLines\n",
       "No     3390\n",
       "Yes    2971\n",
       "Name: count, dtype: int64"
      ]
     },
     "execution_count": 33,
     "metadata": {},
     "output_type": "execute_result"
    }
   ],
   "source": [
    "df['MultipleLines'].value_counts()"
   ]
  },
  {
   "cell_type": "markdown",
   "id": "c4f6febe",
   "metadata": {},
   "source": [
    "> InternetService"
   ]
  },
  {
   "cell_type": "code",
   "execution_count": 34,
   "id": "9938f888",
   "metadata": {},
   "outputs": [
    {
     "data": {
      "text/plain": [
       "InternetService\n",
       "Yes    5517\n",
       "No     1526\n",
       "Name: count, dtype: int64"
      ]
     },
     "execution_count": 34,
     "metadata": {},
     "output_type": "execute_result"
    }
   ],
   "source": [
    "df['InternetService'].value_counts()"
   ]
  },
  {
   "cell_type": "markdown",
   "id": "dff1fe27",
   "metadata": {},
   "source": [
    "> InternetType"
   ]
  },
  {
   "cell_type": "code",
   "execution_count": 35,
   "id": "5ecad5af",
   "metadata": {},
   "outputs": [
    {
     "data": {
      "text/plain": [
       "1526"
      ]
     },
     "execution_count": 35,
     "metadata": {},
     "output_type": "execute_result"
    }
   ],
   "source": [
    "df['InternetType'].isna().sum()"
   ]
  },
  {
   "cell_type": "code",
   "execution_count": 36,
   "id": "b0b0fc80",
   "metadata": {},
   "outputs": [
    {
     "data": {
      "text/plain": [
       "InternetType\n",
       "Fiber Optic    3035\n",
       "DSL            1652\n",
       "Cable           830\n",
       "Name: count, dtype: int64"
      ]
     },
     "execution_count": 36,
     "metadata": {},
     "output_type": "execute_result"
    }
   ],
   "source": [
    "df['InternetType'].value_counts()"
   ]
  },
  {
   "cell_type": "markdown",
   "id": "ecaee7bf",
   "metadata": {},
   "source": [
    "> AvgMonthlyGBDownload"
   ]
  },
  {
   "cell_type": "code",
   "execution_count": 37,
   "id": "867bb95d",
   "metadata": {},
   "outputs": [
    {
     "data": {
      "text/plain": [
       "1526"
      ]
     },
     "execution_count": 37,
     "metadata": {},
     "output_type": "execute_result"
    }
   ],
   "source": [
    "df['AvgMonthlyGBDownload'].isna().sum()"
   ]
  },
  {
   "cell_type": "code",
   "execution_count": 38,
   "id": "1fea89a7",
   "metadata": {},
   "outputs": [
    {
     "data": {
      "text/plain": [
       "count    5517.000000\n",
       "mean       26.189958\n",
       "std        19.586585\n",
       "min         2.000000\n",
       "25%        13.000000\n",
       "50%        21.000000\n",
       "75%        30.000000\n",
       "max        85.000000\n",
       "Name: AvgMonthlyGBDownload, dtype: float64"
      ]
     },
     "execution_count": 38,
     "metadata": {},
     "output_type": "execute_result"
    }
   ],
   "source": [
    "df['AvgMonthlyGBDownload'].describe()"
   ]
  },
  {
   "cell_type": "code",
   "execution_count": 39,
   "id": "51387ec5",
   "metadata": {},
   "outputs": [
    {
     "data": {
      "text/plain": [
       "<AxesSubplot:xlabel='AvgMonthlyGBDownload'>"
      ]
     },
     "execution_count": 39,
     "metadata": {},
     "output_type": "execute_result"
    },
    {
     "data": {
      "image/png": "[encoded data removed]",
      "text/plain": [
       "<Figure size 432x288 with 1 Axes>"
      ]
     },
     "metadata": {
      "needs_background": "light"
     },
     "output_type": "display_data"
    }
   ],
   "source": [
    "sns.boxplot(df['AvgMonthlyGBDownload'])"
   ]
  },
  {
   "cell_type": "code",
   "execution_count": 40,
   "id": "a8af1275",
   "metadata": {},
   "outputs": [
    {
     "data": {
      "text/html": [
       "<div>\n",
       "<style scoped>\n",
       "    .dataframe tbody tr th:only-of-type {\n",
       "        vertical-align: middle;\n",
       "    }\n",
       "\n",
       "    .dataframe tbody tr th {\n",
       "        vertical-align: top;\n",
       "    }\n",
       "\n",
       "    .dataframe thead th {\n",
       "        text-align: right;\n",
       "    }\n",
       "</style>\n",
       "<table border=\"1\" class=\"dataframe\">\n",
       "  <thead>\n",
       "    <tr style=\"text-align: right;\">\n",
       "      <th></th>\n",
       "      <th>CustomerID</th>\n",
       "      <th>Gender</th>\n",
       "      <th>Age</th>\n",
       "      <th>Married</th>\n",
       "      <th>NumberofDependents</th>\n",
       "      <th>City</th>\n",
       "      <th>ZipCode</th>\n",
       "      <th>Latitude</th>\n",
       "      <th>Longitude</th>\n",
       "      <th>NumberofReferrals</th>\n",
       "      <th>TenureinMonths</th>\n",
       "      <th>Offer</th>\n",
       "      <th>PhoneService</th>\n",
       "      <th>AvgMonthlyLongDistanceCharges</th>\n",
       "      <th>MultipleLines</th>\n",
       "      <th>InternetService</th>\n",
       "      <th>InternetType</th>\n",
       "      <th>AvgMonthlyGBDownload</th>\n",
       "      <th>OnlineSecurity</th>\n",
       "      <th>OnlineBackup</th>\n",
       "      <th>DeviceProtectionPlan</th>\n",
       "      <th>PremiumTechSupport</th>\n",
       "      <th>StreamingTV</th>\n",
       "      <th>StreamingMovies</th>\n",
       "      <th>StreamingMusic</th>\n",
       "      <th>UnlimitedData</th>\n",
       "      <th>Contract</th>\n",
       "      <th>PaperlessBilling</th>\n",
       "      <th>PaymentMethod</th>\n",
       "      <th>MonthlyCharge</th>\n",
       "      <th>TotalCharges</th>\n",
       "      <th>TotalRefunds</th>\n",
       "      <th>TotalExtraDataCharges</th>\n",
       "      <th>TotalLongDistanceCharges</th>\n",
       "      <th>TotalRevenue</th>\n",
       "      <th>CustomerStatus</th>\n",
       "      <th>ChurnCategory</th>\n",
       "      <th>ChurnReason</th>\n",
       "    </tr>\n",
       "  </thead>\n",
       "  <tbody>\n",
       "    <tr>\n",
       "      <th>5</th>\n",
       "      <td>0013-MHZWF</td>\n",
       "      <td>Female</td>\n",
       "      <td>23</td>\n",
       "      <td>No</td>\n",
       "      <td>3</td>\n",
       "      <td>Midpines</td>\n",
       "      <td>95345</td>\n",
       "      <td>37.581496</td>\n",
       "      <td>-119.972762</td>\n",
       "      <td>0</td>\n",
       "      <td>9</td>\n",
       "      <td>Offer E</td>\n",
       "      <td>Yes</td>\n",
       "      <td>16.77</td>\n",
       "      <td>No</td>\n",
       "      <td>Yes</td>\n",
       "      <td>Cable</td>\n",
       "      <td>73.0</td>\n",
       "      <td>No</td>\n",
       "      <td>No</td>\n",
       "      <td>No</td>\n",
       "      <td>Yes</td>\n",
       "      <td>Yes</td>\n",
       "      <td>Yes</td>\n",
       "      <td>Yes</td>\n",
       "      <td>Yes</td>\n",
       "      <td>Month-to-Month</td>\n",
       "      <td>Yes</td>\n",
       "      <td>Credit Card</td>\n",
       "      <td>69.40</td>\n",
       "      <td>571.45</td>\n",
       "      <td>0.0</td>\n",
       "      <td>0</td>\n",
       "      <td>150.93</td>\n",
       "      <td>722.38</td>\n",
       "      <td>Stayed</td>\n",
       "      <td>NaN</td>\n",
       "      <td>NaN</td>\n",
       "    </tr>\n",
       "    <tr>\n",
       "      <th>50</th>\n",
       "      <td>0083-PIVIK</td>\n",
       "      <td>Male</td>\n",
       "      <td>25</td>\n",
       "      <td>No</td>\n",
       "      <td>0</td>\n",
       "      <td>Tulelake</td>\n",
       "      <td>96134</td>\n",
       "      <td>41.813521</td>\n",
       "      <td>-121.492666</td>\n",
       "      <td>0</td>\n",
       "      <td>64</td>\n",
       "      <td>NaN</td>\n",
       "      <td>Yes</td>\n",
       "      <td>5.49</td>\n",
       "      <td>Yes</td>\n",
       "      <td>Yes</td>\n",
       "      <td>DSL</td>\n",
       "      <td>69.0</td>\n",
       "      <td>Yes</td>\n",
       "      <td>Yes</td>\n",
       "      <td>Yes</td>\n",
       "      <td>Yes</td>\n",
       "      <td>Yes</td>\n",
       "      <td>No</td>\n",
       "      <td>No</td>\n",
       "      <td>No</td>\n",
       "      <td>One Year</td>\n",
       "      <td>No</td>\n",
       "      <td>Bank Withdrawal</td>\n",
       "      <td>81.25</td>\n",
       "      <td>5567.55</td>\n",
       "      <td>0.0</td>\n",
       "      <td>40</td>\n",
       "      <td>351.36</td>\n",
       "      <td>5958.91</td>\n",
       "      <td>Stayed</td>\n",
       "      <td>NaN</td>\n",
       "      <td>NaN</td>\n",
       "    </tr>\n",
       "    <tr>\n",
       "      <th>55</th>\n",
       "      <td>0096-BXERS</td>\n",
       "      <td>Female</td>\n",
       "      <td>30</td>\n",
       "      <td>Yes</td>\n",
       "      <td>0</td>\n",
       "      <td>Inverness</td>\n",
       "      <td>94937</td>\n",
       "      <td>38.099323</td>\n",
       "      <td>-122.945723</td>\n",
       "      <td>10</td>\n",
       "      <td>6</td>\n",
       "      <td>Offer E</td>\n",
       "      <td>Yes</td>\n",
       "      <td>42.66</td>\n",
       "      <td>Yes</td>\n",
       "      <td>Yes</td>\n",
       "      <td>Cable</td>\n",
       "      <td>85.0</td>\n",
       "      <td>No</td>\n",
       "      <td>No</td>\n",
       "      <td>No</td>\n",
       "      <td>No</td>\n",
       "      <td>No</td>\n",
       "      <td>No</td>\n",
       "      <td>No</td>\n",
       "      <td>Yes</td>\n",
       "      <td>Month-to-Month</td>\n",
       "      <td>No</td>\n",
       "      <td>Bank Withdrawal</td>\n",
       "      <td>50.35</td>\n",
       "      <td>314.55</td>\n",
       "      <td>0.0</td>\n",
       "      <td>0</td>\n",
       "      <td>255.96</td>\n",
       "      <td>570.51</td>\n",
       "      <td>Stayed</td>\n",
       "      <td>NaN</td>\n",
       "      <td>NaN</td>\n",
       "    </tr>\n",
       "    <tr>\n",
       "      <th>59</th>\n",
       "      <td>0103-CSITQ</td>\n",
       "      <td>Female</td>\n",
       "      <td>20</td>\n",
       "      <td>Yes</td>\n",
       "      <td>0</td>\n",
       "      <td>Modesto</td>\n",
       "      <td>95357</td>\n",
       "      <td>37.670526</td>\n",
       "      <td>-120.877572</td>\n",
       "      <td>10</td>\n",
       "      <td>57</td>\n",
       "      <td>Offer B</td>\n",
       "      <td>Yes</td>\n",
       "      <td>8.01</td>\n",
       "      <td>Yes</td>\n",
       "      <td>Yes</td>\n",
       "      <td>Fiber Optic</td>\n",
       "      <td>73.0</td>\n",
       "      <td>No</td>\n",
       "      <td>Yes</td>\n",
       "      <td>Yes</td>\n",
       "      <td>Yes</td>\n",
       "      <td>Yes</td>\n",
       "      <td>Yes</td>\n",
       "      <td>Yes</td>\n",
       "      <td>Yes</td>\n",
       "      <td>One Year</td>\n",
       "      <td>Yes</td>\n",
       "      <td>Bank Withdrawal</td>\n",
       "      <td>109.40</td>\n",
       "      <td>6252.70</td>\n",
       "      <td>0.0</td>\n",
       "      <td>0</td>\n",
       "      <td>456.57</td>\n",
       "      <td>6709.27</td>\n",
       "      <td>Stayed</td>\n",
       "      <td>NaN</td>\n",
       "      <td>NaN</td>\n",
       "    </tr>\n",
       "    <tr>\n",
       "      <th>86</th>\n",
       "      <td>0137-OCGAB</td>\n",
       "      <td>Female</td>\n",
       "      <td>25</td>\n",
       "      <td>No</td>\n",
       "      <td>0</td>\n",
       "      <td>Fairfield</td>\n",
       "      <td>94533</td>\n",
       "      <td>38.287136</td>\n",
       "      <td>-122.027110</td>\n",
       "      <td>0</td>\n",
       "      <td>1</td>\n",
       "      <td>Offer E</td>\n",
       "      <td>Yes</td>\n",
       "      <td>1.23</td>\n",
       "      <td>Yes</td>\n",
       "      <td>Yes</td>\n",
       "      <td>Fiber Optic</td>\n",
       "      <td>69.0</td>\n",
       "      <td>No</td>\n",
       "      <td>Yes</td>\n",
       "      <td>No</td>\n",
       "      <td>No</td>\n",
       "      <td>No</td>\n",
       "      <td>No</td>\n",
       "      <td>No</td>\n",
       "      <td>Yes</td>\n",
       "      <td>Month-to-Month</td>\n",
       "      <td>Yes</td>\n",
       "      <td>Mailed Check</td>\n",
       "      <td>80.20</td>\n",
       "      <td>80.20</td>\n",
       "      <td>0.0</td>\n",
       "      <td>0</td>\n",
       "      <td>1.23</td>\n",
       "      <td>81.43</td>\n",
       "      <td>Churned</td>\n",
       "      <td>Price</td>\n",
       "      <td>Lack of affordable download/upload speed</td>\n",
       "    </tr>\n",
       "    <tr>\n",
       "      <th>...</th>\n",
       "      <td>...</td>\n",
       "      <td>...</td>\n",
       "      <td>...</td>\n",
       "      <td>...</td>\n",
       "      <td>...</td>\n",
       "      <td>...</td>\n",
       "      <td>...</td>\n",
       "      <td>...</td>\n",
       "      <td>...</td>\n",
       "      <td>...</td>\n",
       "      <td>...</td>\n",
       "      <td>...</td>\n",
       "      <td>...</td>\n",
       "      <td>...</td>\n",
       "      <td>...</td>\n",
       "      <td>...</td>\n",
       "      <td>...</td>\n",
       "      <td>...</td>\n",
       "      <td>...</td>\n",
       "      <td>...</td>\n",
       "      <td>...</td>\n",
       "      <td>...</td>\n",
       "      <td>...</td>\n",
       "      <td>...</td>\n",
       "      <td>...</td>\n",
       "      <td>...</td>\n",
       "      <td>...</td>\n",
       "      <td>...</td>\n",
       "      <td>...</td>\n",
       "      <td>...</td>\n",
       "      <td>...</td>\n",
       "      <td>...</td>\n",
       "      <td>...</td>\n",
       "      <td>...</td>\n",
       "      <td>...</td>\n",
       "      <td>...</td>\n",
       "      <td>...</td>\n",
       "      <td>...</td>\n",
       "    </tr>\n",
       "    <tr>\n",
       "      <th>6858</th>\n",
       "      <td>9743-DQKQW</td>\n",
       "      <td>Male</td>\n",
       "      <td>28</td>\n",
       "      <td>No</td>\n",
       "      <td>0</td>\n",
       "      <td>Escalon</td>\n",
       "      <td>95320</td>\n",
       "      <td>37.818543</td>\n",
       "      <td>-121.006907</td>\n",
       "      <td>0</td>\n",
       "      <td>3</td>\n",
       "      <td>Offer E</td>\n",
       "      <td>No</td>\n",
       "      <td>NaN</td>\n",
       "      <td>NaN</td>\n",
       "      <td>Yes</td>\n",
       "      <td>DSL</td>\n",
       "      <td>69.0</td>\n",
       "      <td>No</td>\n",
       "      <td>No</td>\n",
       "      <td>No</td>\n",
       "      <td>No</td>\n",
       "      <td>No</td>\n",
       "      <td>No</td>\n",
       "      <td>No</td>\n",
       "      <td>Yes</td>\n",
       "      <td>Month-to-Month</td>\n",
       "      <td>No</td>\n",
       "      <td>Bank Withdrawal</td>\n",
       "      <td>25.10</td>\n",
       "      <td>79.80</td>\n",
       "      <td>0.0</td>\n",
       "      <td>0</td>\n",
       "      <td>0.00</td>\n",
       "      <td>79.80</td>\n",
       "      <td>Joined</td>\n",
       "      <td>NaN</td>\n",
       "      <td>NaN</td>\n",
       "    </tr>\n",
       "    <tr>\n",
       "      <th>6949</th>\n",
       "      <td>9853-JFZDU</td>\n",
       "      <td>Female</td>\n",
       "      <td>20</td>\n",
       "      <td>Yes</td>\n",
       "      <td>0</td>\n",
       "      <td>Gold Run</td>\n",
       "      <td>95717</td>\n",
       "      <td>39.170376</td>\n",
       "      <td>-120.838404</td>\n",
       "      <td>7</td>\n",
       "      <td>35</td>\n",
       "      <td>NaN</td>\n",
       "      <td>Yes</td>\n",
       "      <td>20.79</td>\n",
       "      <td>No</td>\n",
       "      <td>Yes</td>\n",
       "      <td>DSL</td>\n",
       "      <td>69.0</td>\n",
       "      <td>No</td>\n",
       "      <td>Yes</td>\n",
       "      <td>No</td>\n",
       "      <td>Yes</td>\n",
       "      <td>No</td>\n",
       "      <td>No</td>\n",
       "      <td>No</td>\n",
       "      <td>Yes</td>\n",
       "      <td>Month-to-Month</td>\n",
       "      <td>No</td>\n",
       "      <td>Bank Withdrawal</td>\n",
       "      <td>56.85</td>\n",
       "      <td>1861.10</td>\n",
       "      <td>0.0</td>\n",
       "      <td>0</td>\n",
       "      <td>727.65</td>\n",
       "      <td>2588.75</td>\n",
       "      <td>Stayed</td>\n",
       "      <td>NaN</td>\n",
       "      <td>NaN</td>\n",
       "    </tr>\n",
       "    <tr>\n",
       "      <th>6951</th>\n",
       "      <td>9861-PDSZP</td>\n",
       "      <td>Female</td>\n",
       "      <td>19</td>\n",
       "      <td>No</td>\n",
       "      <td>0</td>\n",
       "      <td>Delano</td>\n",
       "      <td>93215</td>\n",
       "      <td>35.772244</td>\n",
       "      <td>-119.209689</td>\n",
       "      <td>0</td>\n",
       "      <td>72</td>\n",
       "      <td>NaN</td>\n",
       "      <td>Yes</td>\n",
       "      <td>10.05</td>\n",
       "      <td>Yes</td>\n",
       "      <td>Yes</td>\n",
       "      <td>Fiber Optic</td>\n",
       "      <td>82.0</td>\n",
       "      <td>No</td>\n",
       "      <td>Yes</td>\n",
       "      <td>Yes</td>\n",
       "      <td>Yes</td>\n",
       "      <td>Yes</td>\n",
       "      <td>Yes</td>\n",
       "      <td>Yes</td>\n",
       "      <td>Yes</td>\n",
       "      <td>Two Year</td>\n",
       "      <td>Yes</td>\n",
       "      <td>Credit Card</td>\n",
       "      <td>108.05</td>\n",
       "      <td>7806.60</td>\n",
       "      <td>0.0</td>\n",
       "      <td>0</td>\n",
       "      <td>723.60</td>\n",
       "      <td>8530.20</td>\n",
       "      <td>Stayed</td>\n",
       "      <td>NaN</td>\n",
       "      <td>NaN</td>\n",
       "    </tr>\n",
       "    <tr>\n",
       "      <th>6973</th>\n",
       "      <td>9895-VFOXH</td>\n",
       "      <td>Female</td>\n",
       "      <td>19</td>\n",
       "      <td>No</td>\n",
       "      <td>0</td>\n",
       "      <td>Scotia</td>\n",
       "      <td>95565</td>\n",
       "      <td>40.440636</td>\n",
       "      <td>-124.098739</td>\n",
       "      <td>0</td>\n",
       "      <td>1</td>\n",
       "      <td>NaN</td>\n",
       "      <td>No</td>\n",
       "      <td>NaN</td>\n",
       "      <td>NaN</td>\n",
       "      <td>Yes</td>\n",
       "      <td>DSL</td>\n",
       "      <td>76.0</td>\n",
       "      <td>No</td>\n",
       "      <td>No</td>\n",
       "      <td>No</td>\n",
       "      <td>No</td>\n",
       "      <td>No</td>\n",
       "      <td>No</td>\n",
       "      <td>Yes</td>\n",
       "      <td>No</td>\n",
       "      <td>Month-to-Month</td>\n",
       "      <td>No</td>\n",
       "      <td>Credit Card</td>\n",
       "      <td>24.40</td>\n",
       "      <td>24.40</td>\n",
       "      <td>0.0</td>\n",
       "      <td>10</td>\n",
       "      <td>0.00</td>\n",
       "      <td>34.40</td>\n",
       "      <td>Joined</td>\n",
       "      <td>NaN</td>\n",
       "      <td>NaN</td>\n",
       "    </tr>\n",
       "    <tr>\n",
       "      <th>6974</th>\n",
       "      <td>9896-UYMIE</td>\n",
       "      <td>Male</td>\n",
       "      <td>27</td>\n",
       "      <td>No</td>\n",
       "      <td>0</td>\n",
       "      <td>Valley Ford</td>\n",
       "      <td>94972</td>\n",
       "      <td>38.339996</td>\n",
       "      <td>-122.935056</td>\n",
       "      <td>0</td>\n",
       "      <td>66</td>\n",
       "      <td>Offer A</td>\n",
       "      <td>Yes</td>\n",
       "      <td>4.32</td>\n",
       "      <td>Yes</td>\n",
       "      <td>Yes</td>\n",
       "      <td>Fiber Optic</td>\n",
       "      <td>73.0</td>\n",
       "      <td>Yes</td>\n",
       "      <td>Yes</td>\n",
       "      <td>Yes</td>\n",
       "      <td>Yes</td>\n",
       "      <td>Yes</td>\n",
       "      <td>Yes</td>\n",
       "      <td>Yes</td>\n",
       "      <td>Yes</td>\n",
       "      <td>One Year</td>\n",
       "      <td>Yes</td>\n",
       "      <td>Bank Withdrawal</td>\n",
       "      <td>114.30</td>\n",
       "      <td>7383.70</td>\n",
       "      <td>0.0</td>\n",
       "      <td>0</td>\n",
       "      <td>285.12</td>\n",
       "      <td>7668.82</td>\n",
       "      <td>Stayed</td>\n",
       "      <td>NaN</td>\n",
       "      <td>NaN</td>\n",
       "    </tr>\n",
       "  </tbody>\n",
       "</table>\n",
       "<p>362 rows × 38 columns</p>\n",
       "</div>"
      ],
      "text/plain": [
       "      CustomerID  Gender  Age Married  NumberofDependents         City  \\\n",
       "5     0013-MHZWF  Female   23      No                   3     Midpines   \n",
       "50    0083-PIVIK    Male   25      No                   0     Tulelake   \n",
       "55    0096-BXERS  Female   30     Yes                   0    Inverness   \n",
       "59    0103-CSITQ  Female   20     Yes                   0      Modesto   \n",
       "86    0137-OCGAB  Female   25      No                   0    Fairfield   \n",
       "...          ...     ...  ...     ...                 ...          ...   \n",
       "6858  9743-DQKQW    Male   28      No                   0      Escalon   \n",
       "6949  9853-JFZDU  Female   20     Yes                   0     Gold Run   \n",
       "6951  9861-PDSZP  Female   19      No                   0       Delano   \n",
       "6973  9895-VFOXH  Female   19      No                   0       Scotia   \n",
       "6974  9896-UYMIE    Male   27      No                   0  Valley Ford   \n",
       "\n",
       "      ZipCode   Latitude   Longitude  NumberofReferrals  TenureinMonths  \\\n",
       "5       95345  37.581496 -119.972762                  0               9   \n",
       "50      96134  41.813521 -121.492666                  0              64   \n",
       "55      94937  38.099323 -122.945723                 10               6   \n",
       "59      95357  37.670526 -120.877572                 10              57   \n",
       "86      94533  38.287136 -122.027110                  0               1   \n",
       "...       ...        ...         ...                ...             ...   \n",
       "6858    95320  37.818543 -121.006907                  0               3   \n",
       "6949    95717  39.170376 -120.838404                  7              35   \n",
       "6951    93215  35.772244 -119.209689                  0              72   \n",
       "6973    95565  40.440636 -124.098739                  0               1   \n",
       "6974    94972  38.339996 -122.935056                  0              66   \n",
       "\n",
       "        Offer PhoneService  AvgMonthlyLongDistanceCharges MultipleLines  \\\n",
       "5     Offer E          Yes                          16.77            No   \n",
       "50        NaN          Yes                           5.49           Yes   \n",
       "55    Offer E          Yes                          42.66           Yes   \n",
       "59    Offer B          Yes                           8.01           Yes   \n",
       "86    Offer E          Yes                           1.23           Yes   \n",
       "...       ...          ...                            ...           ...   \n",
       "6858  Offer E           No                            NaN           NaN   \n",
       "6949      NaN          Yes                          20.79            No   \n",
       "6951      NaN          Yes                          10.05           Yes   \n",
       "6973      NaN           No                            NaN           NaN   \n",
       "6974  Offer A          Yes                           4.32           Yes   \n",
       "\n",
       "     InternetService InternetType  AvgMonthlyGBDownload OnlineSecurity  \\\n",
       "5                Yes        Cable                  73.0             No   \n",
       "50               Yes          DSL                  69.0            Yes   \n",
       "55               Yes        Cable                  85.0             No   \n",
       "59               Yes  Fiber Optic                  73.0             No   \n",
       "86               Yes  Fiber Optic                  69.0             No   \n",
       "...              ...          ...                   ...            ...   \n",
       "6858             Yes          DSL                  69.0             No   \n",
       "6949             Yes          DSL                  69.0             No   \n",
       "6951             Yes  Fiber Optic                  82.0             No   \n",
       "6973             Yes          DSL                  76.0             No   \n",
       "6974             Yes  Fiber Optic                  73.0            Yes   \n",
       "\n",
       "     OnlineBackup DeviceProtectionPlan PremiumTechSupport StreamingTV  \\\n",
       "5              No                   No                Yes         Yes   \n",
       "50            Yes                  Yes                Yes         Yes   \n",
       "55             No                   No                 No          No   \n",
       "59            Yes                  Yes                Yes         Yes   \n",
       "86            Yes                   No                 No          No   \n",
       "...           ...                  ...                ...         ...   \n",
       "6858           No                   No                 No          No   \n",
       "6949          Yes                   No                Yes          No   \n",
       "6951          Yes                  Yes                Yes         Yes   \n",
       "6973           No                   No                 No          No   \n",
       "6974          Yes                  Yes                Yes         Yes   \n",
       "\n",
       "     StreamingMovies StreamingMusic UnlimitedData        Contract  \\\n",
       "5                Yes            Yes           Yes  Month-to-Month   \n",
       "50                No             No            No        One Year   \n",
       "55                No             No           Yes  Month-to-Month   \n",
       "59               Yes            Yes           Yes        One Year   \n",
       "86                No             No           Yes  Month-to-Month   \n",
       "...              ...            ...           ...             ...   \n",
       "6858              No             No           Yes  Month-to-Month   \n",
       "6949              No             No           Yes  Month-to-Month   \n",
       "6951             Yes            Yes           Yes        Two Year   \n",
       "6973              No            Yes            No  Month-to-Month   \n",
       "6974             Yes            Yes           Yes        One Year   \n",
       "\n",
       "     PaperlessBilling    PaymentMethod  MonthlyCharge  TotalCharges  \\\n",
       "5                 Yes      Credit Card          69.40        571.45   \n",
       "50                 No  Bank Withdrawal          81.25       5567.55   \n",
       "55                 No  Bank Withdrawal          50.35        314.55   \n",
       "59                Yes  Bank Withdrawal         109.40       6252.70   \n",
       "86                Yes     Mailed Check          80.20         80.20   \n",
       "...               ...              ...            ...           ...   \n",
       "6858               No  Bank Withdrawal          25.10         79.80   \n",
       "6949               No  Bank Withdrawal          56.85       1861.10   \n",
       "6951              Yes      Credit Card         108.05       7806.60   \n",
       "6973               No      Credit Card          24.40         24.40   \n",
       "6974              Yes  Bank Withdrawal         114.30       7383.70   \n",
       "\n",
       "      TotalRefunds  TotalExtraDataCharges  TotalLongDistanceCharges  \\\n",
       "5              0.0                      0                    150.93   \n",
       "50             0.0                     40                    351.36   \n",
       "55             0.0                      0                    255.96   \n",
       "59             0.0                      0                    456.57   \n",
       "86             0.0                      0                      1.23   \n",
       "...            ...                    ...                       ...   \n",
       "6858           0.0                      0                      0.00   \n",
       "6949           0.0                      0                    727.65   \n",
       "6951           0.0                      0                    723.60   \n",
       "6973           0.0                     10                      0.00   \n",
       "6974           0.0                      0                    285.12   \n",
       "\n",
       "      TotalRevenue CustomerStatus ChurnCategory  \\\n",
       "5           722.38         Stayed           NaN   \n",
       "50         5958.91         Stayed           NaN   \n",
       "55          570.51         Stayed           NaN   \n",
       "59         6709.27         Stayed           NaN   \n",
       "86           81.43        Churned         Price   \n",
       "...            ...            ...           ...   \n",
       "6858         79.80         Joined           NaN   \n",
       "6949       2588.75         Stayed           NaN   \n",
       "6951       8530.20         Stayed           NaN   \n",
       "6973         34.40         Joined           NaN   \n",
       "6974       7668.82         Stayed           NaN   \n",
       "\n",
       "                                   ChurnReason  \n",
       "5                                          NaN  \n",
       "50                                         NaN  \n",
       "55                                         NaN  \n",
       "59                                         NaN  \n",
       "86    Lack of affordable download/upload speed  \n",
       "...                                        ...  \n",
       "6858                                       NaN  \n",
       "6949                                       NaN  \n",
       "6951                                       NaN  \n",
       "6973                                       NaN  \n",
       "6974                                       NaN  \n",
       "\n",
       "[362 rows x 38 columns]"
      ]
     },
     "execution_count": 40,
     "metadata": {},
     "output_type": "execute_result"
    }
   ],
   "source": [
    "df[df['AvgMonthlyGBDownload']> 60]"
   ]
  },
  {
   "cell_type": "markdown",
   "id": "5b454a1f",
   "metadata": {},
   "source": [
    "> OnlineSecurity"
   ]
  },
  {
   "cell_type": "code",
   "execution_count": 41,
   "id": "7dcaa584",
   "metadata": {},
   "outputs": [
    {
     "data": {
      "text/plain": [
       "1526"
      ]
     },
     "execution_count": 41,
     "metadata": {},
     "output_type": "execute_result"
    }
   ],
   "source": [
    "df['OnlineSecurity'].isna().sum()"
   ]
  },
  {
   "cell_type": "code",
   "execution_count": 42,
   "id": "13e356ee",
   "metadata": {},
   "outputs": [
    {
     "data": {
      "text/plain": [
       "OnlineSecurity\n",
       "No     3498\n",
       "Yes    2019\n",
       "Name: count, dtype: int64"
      ]
     },
     "execution_count": 42,
     "metadata": {},
     "output_type": "execute_result"
    }
   ],
   "source": [
    "df['OnlineSecurity'].value_counts()"
   ]
  },
  {
   "cell_type": "markdown",
   "id": "2f6206fc",
   "metadata": {},
   "source": [
    ">OnlineBackup"
   ]
  },
  {
   "cell_type": "code",
   "execution_count": 43,
   "id": "38988ee5",
   "metadata": {},
   "outputs": [
    {
     "data": {
      "text/plain": [
       "1526"
      ]
     },
     "execution_count": 43,
     "metadata": {},
     "output_type": "execute_result"
    }
   ],
   "source": [
    "df['OnlineBackup'].isna().sum()"
   ]
  },
  {
   "cell_type": "code",
   "execution_count": 44,
   "id": "7175558c",
   "metadata": {},
   "outputs": [
    {
     "data": {
      "text/plain": [
       "OnlineBackup\n",
       "No     3088\n",
       "Yes    2429\n",
       "Name: count, dtype: int64"
      ]
     },
     "execution_count": 44,
     "metadata": {},
     "output_type": "execute_result"
    }
   ],
   "source": [
    "df['OnlineBackup'].value_counts()"
   ]
  },
  {
   "cell_type": "markdown",
   "id": "d11c7c3a",
   "metadata": {},
   "source": [
    "> DeviceProtectionPlan"
   ]
  },
  {
   "cell_type": "code",
   "execution_count": 45,
   "id": "1b10e25c",
   "metadata": {},
   "outputs": [
    {
     "data": {
      "text/plain": [
       "DeviceProtectionPlan\n",
       "No     3095\n",
       "Yes    2422\n",
       "Name: count, dtype: int64"
      ]
     },
     "execution_count": 45,
     "metadata": {},
     "output_type": "execute_result"
    }
   ],
   "source": [
    "df['DeviceProtectionPlan'].value_counts()"
   ]
  },
  {
   "cell_type": "code",
   "execution_count": 46,
   "id": "52227dd5",
   "metadata": {},
   "outputs": [
    {
     "data": {
      "text/plain": [
       "1526"
      ]
     },
     "execution_count": 46,
     "metadata": {},
     "output_type": "execute_result"
    }
   ],
   "source": [
    "df['DeviceProtectionPlan'].isna().sum()"
   ]
  },
  {
   "cell_type": "markdown",
   "id": "deda46f3",
   "metadata": {},
   "source": [
    "> PremiumTechSupport"
   ]
  },
  {
   "cell_type": "code",
   "execution_count": 47,
   "id": "2eeb6444",
   "metadata": {},
   "outputs": [
    {
     "data": {
      "text/plain": [
       "1526"
      ]
     },
     "execution_count": 47,
     "metadata": {},
     "output_type": "execute_result"
    }
   ],
   "source": [
    "df['PremiumTechSupport'].isna().sum()"
   ]
  },
  {
   "cell_type": "code",
   "execution_count": 48,
   "id": "e943cb52",
   "metadata": {},
   "outputs": [
    {
     "data": {
      "text/plain": [
       "PremiumTechSupport\n",
       "No     3473\n",
       "Yes    2044\n",
       "Name: count, dtype: int64"
      ]
     },
     "execution_count": 48,
     "metadata": {},
     "output_type": "execute_result"
    }
   ],
   "source": [
    "df['PremiumTechSupport'].value_counts()"
   ]
  },
  {
   "cell_type": "markdown",
   "id": "6e144516",
   "metadata": {},
   "source": [
    "> StreamingTV"
   ]
  },
  {
   "cell_type": "code",
   "execution_count": 49,
   "id": "dae02f0b",
   "metadata": {},
   "outputs": [
    {
     "data": {
      "text/plain": [
       "1526"
      ]
     },
     "execution_count": 49,
     "metadata": {},
     "output_type": "execute_result"
    }
   ],
   "source": [
    "df['StreamingTV'].isna().sum()"
   ]
  },
  {
   "cell_type": "code",
   "execution_count": 50,
   "id": "8141a61d",
   "metadata": {},
   "outputs": [
    {
     "data": {
      "text/plain": [
       "StreamingTV\n",
       "No     2810\n",
       "Yes    2707\n",
       "Name: count, dtype: int64"
      ]
     },
     "execution_count": 50,
     "metadata": {},
     "output_type": "execute_result"
    }
   ],
   "source": [
    "df['StreamingTV'].value_counts()"
   ]
  },
  {
   "cell_type": "markdown",
   "id": "db2e60f3",
   "metadata": {},
   "source": [
    "> StreamingMovies"
   ]
  },
  {
   "cell_type": "code",
   "execution_count": 51,
   "id": "84ac5cc9",
   "metadata": {},
   "outputs": [
    {
     "data": {
      "text/plain": [
       "1526"
      ]
     },
     "execution_count": 51,
     "metadata": {},
     "output_type": "execute_result"
    }
   ],
   "source": [
    "df['StreamingMovies'].isna().sum()"
   ]
  },
  {
   "cell_type": "code",
   "execution_count": 52,
   "id": "5e51f7f8",
   "metadata": {},
   "outputs": [
    {
     "data": {
      "text/plain": [
       "StreamingMovies\n",
       "No     2785\n",
       "Yes    2732\n",
       "Name: count, dtype: int64"
      ]
     },
     "execution_count": 52,
     "metadata": {},
     "output_type": "execute_result"
    }
   ],
   "source": [
    "df['StreamingMovies'].value_counts()"
   ]
  },
  {
   "cell_type": "markdown",
   "id": "547d340a",
   "metadata": {},
   "source": [
    "> StreamingMusic"
   ]
  },
  {
   "cell_type": "code",
   "execution_count": 53,
   "id": "a008c76e",
   "metadata": {},
   "outputs": [
    {
     "data": {
      "text/plain": [
       "1526"
      ]
     },
     "execution_count": 53,
     "metadata": {},
     "output_type": "execute_result"
    }
   ],
   "source": [
    "df['StreamingMusic'].isna().sum()"
   ]
  },
  {
   "cell_type": "code",
   "execution_count": 54,
   "id": "9d1e32e2",
   "metadata": {},
   "outputs": [
    {
     "data": {
      "text/plain": [
       "StreamingMusic\n",
       "No     3029\n",
       "Yes    2488\n",
       "Name: count, dtype: int64"
      ]
     },
     "execution_count": 54,
     "metadata": {},
     "output_type": "execute_result"
    }
   ],
   "source": [
    "df['StreamingMusic'].value_counts( )"
   ]
  },
  {
   "cell_type": "markdown",
   "id": "fc8536e5",
   "metadata": {},
   "source": [
    "> UnlimitedData"
   ]
  },
  {
   "cell_type": "code",
   "execution_count": 55,
   "id": "ea2a6d1a",
   "metadata": {},
   "outputs": [
    {
     "data": {
      "text/plain": [
       "1526"
      ]
     },
     "execution_count": 55,
     "metadata": {},
     "output_type": "execute_result"
    }
   ],
   "source": [
    "df['UnlimitedData'].isna().sum()"
   ]
  },
  {
   "cell_type": "code",
   "execution_count": 56,
   "id": "988a062c",
   "metadata": {},
   "outputs": [
    {
     "data": {
      "text/plain": [
       "UnlimitedData\n",
       "Yes    4745\n",
       "No      772\n",
       "Name: count, dtype: int64"
      ]
     },
     "execution_count": 56,
     "metadata": {},
     "output_type": "execute_result"
    }
   ],
   "source": [
    "df['UnlimitedData'].value_counts()"
   ]
  },
  {
   "cell_type": "markdown",
   "id": "eb47ef0b",
   "metadata": {},
   "source": [
    "> Contract"
   ]
  },
  {
   "cell_type": "code",
   "execution_count": 57,
   "id": "ca9f63ec",
   "metadata": {},
   "outputs": [
    {
     "data": {
      "text/plain": [
       "Contract\n",
       "Month-to-Month    3610\n",
       "Two Year          1883\n",
       "One Year          1550\n",
       "Name: count, dtype: int64"
      ]
     },
     "execution_count": 57,
     "metadata": {},
     "output_type": "execute_result"
    }
   ],
   "source": [
    "df['Contract'].value_counts()"
   ]
  },
  {
   "cell_type": "markdown",
   "id": "28a294e7",
   "metadata": {},
   "source": [
    "> PaperlessBilling"
   ]
  },
  {
   "cell_type": "code",
   "execution_count": 58,
   "id": "60de5f62",
   "metadata": {},
   "outputs": [
    {
     "data": {
      "text/plain": [
       "PaperlessBilling\n",
       "Yes    4171\n",
       "No     2872\n",
       "Name: count, dtype: int64"
      ]
     },
     "execution_count": 58,
     "metadata": {},
     "output_type": "execute_result"
    }
   ],
   "source": [
    "df['PaperlessBilling'].value_counts()"
   ]
  },
  {
   "cell_type": "markdown",
   "id": "88d79a3d",
   "metadata": {},
   "source": [
    "> PaymentMethod"
   ]
  },
  {
   "cell_type": "code",
   "execution_count": 59,
   "id": "f5c09d4d",
   "metadata": {},
   "outputs": [
    {
     "data": {
      "text/plain": [
       "PaymentMethod\n",
       "Bank Withdrawal    3909\n",
       "Credit Card        2749\n",
       "Mailed Check        385\n",
       "Name: count, dtype: int64"
      ]
     },
     "execution_count": 59,
     "metadata": {},
     "output_type": "execute_result"
    }
   ],
   "source": [
    "df['PaymentMethod'].value_counts()"
   ]
  },
  {
   "cell_type": "markdown",
   "id": "789b2c2b",
   "metadata": {},
   "source": [
    "> MonthlyCharge"
   ]
  },
  {
   "cell_type": "code",
   "execution_count": 60,
   "id": "02887196",
   "metadata": {},
   "outputs": [
    {
     "data": {
      "text/plain": [
       "count    7043.000000\n",
       "mean       63.596131\n",
       "std        31.204743\n",
       "min       -10.000000\n",
       "25%        30.400000\n",
       "50%        70.050000\n",
       "75%        89.750000\n",
       "max       118.750000\n",
       "Name: MonthlyCharge, dtype: float64"
      ]
     },
     "execution_count": 60,
     "metadata": {},
     "output_type": "execute_result"
    }
   ],
   "source": [
    "df['MonthlyCharge'].describe()"
   ]
  },
  {
   "cell_type": "code",
   "execution_count": 61,
   "id": "ff401286",
   "metadata": {},
   "outputs": [
    {
     "data": {
      "text/html": [
       "<div>\n",
       "<style scoped>\n",
       "    .dataframe tbody tr th:only-of-type {\n",
       "        vertical-align: middle;\n",
       "    }\n",
       "\n",
       "    .dataframe tbody tr th {\n",
       "        vertical-align: top;\n",
       "    }\n",
       "\n",
       "    .dataframe thead th {\n",
       "        text-align: right;\n",
       "    }\n",
       "</style>\n",
       "<table border=\"1\" class=\"dataframe\">\n",
       "  <thead>\n",
       "    <tr style=\"text-align: right;\">\n",
       "      <th></th>\n",
       "      <th>CustomerID</th>\n",
       "      <th>Gender</th>\n",
       "      <th>Age</th>\n",
       "      <th>Married</th>\n",
       "      <th>NumberofDependents</th>\n",
       "      <th>City</th>\n",
       "      <th>ZipCode</th>\n",
       "      <th>Latitude</th>\n",
       "      <th>Longitude</th>\n",
       "      <th>NumberofReferrals</th>\n",
       "      <th>TenureinMonths</th>\n",
       "      <th>Offer</th>\n",
       "      <th>PhoneService</th>\n",
       "      <th>AvgMonthlyLongDistanceCharges</th>\n",
       "      <th>MultipleLines</th>\n",
       "      <th>InternetService</th>\n",
       "      <th>InternetType</th>\n",
       "      <th>AvgMonthlyGBDownload</th>\n",
       "      <th>OnlineSecurity</th>\n",
       "      <th>OnlineBackup</th>\n",
       "      <th>DeviceProtectionPlan</th>\n",
       "      <th>PremiumTechSupport</th>\n",
       "      <th>StreamingTV</th>\n",
       "      <th>StreamingMovies</th>\n",
       "      <th>StreamingMusic</th>\n",
       "      <th>UnlimitedData</th>\n",
       "      <th>Contract</th>\n",
       "      <th>PaperlessBilling</th>\n",
       "      <th>PaymentMethod</th>\n",
       "      <th>MonthlyCharge</th>\n",
       "      <th>TotalCharges</th>\n",
       "      <th>TotalRefunds</th>\n",
       "      <th>TotalExtraDataCharges</th>\n",
       "      <th>TotalLongDistanceCharges</th>\n",
       "      <th>TotalRevenue</th>\n",
       "      <th>CustomerStatus</th>\n",
       "      <th>ChurnCategory</th>\n",
       "      <th>ChurnReason</th>\n",
       "    </tr>\n",
       "  </thead>\n",
       "  <tbody>\n",
       "    <tr>\n",
       "      <th>1</th>\n",
       "      <td>0003-MKNFE</td>\n",
       "      <td>Male</td>\n",
       "      <td>46</td>\n",
       "      <td>No</td>\n",
       "      <td>0</td>\n",
       "      <td>Glendale</td>\n",
       "      <td>91206</td>\n",
       "      <td>34.162515</td>\n",
       "      <td>-118.203869</td>\n",
       "      <td>0</td>\n",
       "      <td>9</td>\n",
       "      <td>NaN</td>\n",
       "      <td>Yes</td>\n",
       "      <td>10.69</td>\n",
       "      <td>Yes</td>\n",
       "      <td>Yes</td>\n",
       "      <td>Cable</td>\n",
       "      <td>10.0</td>\n",
       "      <td>No</td>\n",
       "      <td>No</td>\n",
       "      <td>No</td>\n",
       "      <td>No</td>\n",
       "      <td>No</td>\n",
       "      <td>Yes</td>\n",
       "      <td>Yes</td>\n",
       "      <td>No</td>\n",
       "      <td>Month-to-Month</td>\n",
       "      <td>No</td>\n",
       "      <td>Credit Card</td>\n",
       "      <td>-4.0</td>\n",
       "      <td>542.40</td>\n",
       "      <td>38.33</td>\n",
       "      <td>10</td>\n",
       "      <td>96.21</td>\n",
       "      <td>610.28</td>\n",
       "      <td>Stayed</td>\n",
       "      <td>NaN</td>\n",
       "      <td>NaN</td>\n",
       "    </tr>\n",
       "    <tr>\n",
       "      <th>32</th>\n",
       "      <td>0052-DCKON</td>\n",
       "      <td>Male</td>\n",
       "      <td>28</td>\n",
       "      <td>Yes</td>\n",
       "      <td>0</td>\n",
       "      <td>Los Angeles</td>\n",
       "      <td>90063</td>\n",
       "      <td>34.044271</td>\n",
       "      <td>-118.185237</td>\n",
       "      <td>9</td>\n",
       "      <td>66</td>\n",
       "      <td>NaN</td>\n",
       "      <td>Yes</td>\n",
       "      <td>43.77</td>\n",
       "      <td>Yes</td>\n",
       "      <td>Yes</td>\n",
       "      <td>Fiber Optic</td>\n",
       "      <td>41.0</td>\n",
       "      <td>Yes</td>\n",
       "      <td>Yes</td>\n",
       "      <td>Yes</td>\n",
       "      <td>Yes</td>\n",
       "      <td>Yes</td>\n",
       "      <td>Yes</td>\n",
       "      <td>Yes</td>\n",
       "      <td>Yes</td>\n",
       "      <td>One Year</td>\n",
       "      <td>No</td>\n",
       "      <td>Bank Withdrawal</td>\n",
       "      <td>-2.0</td>\n",
       "      <td>7942.15</td>\n",
       "      <td>0.00</td>\n",
       "      <td>0</td>\n",
       "      <td>2888.82</td>\n",
       "      <td>10830.97</td>\n",
       "      <td>Stayed</td>\n",
       "      <td>NaN</td>\n",
       "      <td>NaN</td>\n",
       "    </tr>\n",
       "    <tr>\n",
       "      <th>170</th>\n",
       "      <td>0274-JKUJR</td>\n",
       "      <td>Male</td>\n",
       "      <td>21</td>\n",
       "      <td>Yes</td>\n",
       "      <td>2</td>\n",
       "      <td>Los Angeles</td>\n",
       "      <td>90040</td>\n",
       "      <td>33.994524</td>\n",
       "      <td>-118.149953</td>\n",
       "      <td>9</td>\n",
       "      <td>7</td>\n",
       "      <td>Offer E</td>\n",
       "      <td>No</td>\n",
       "      <td>NaN</td>\n",
       "      <td>NaN</td>\n",
       "      <td>Yes</td>\n",
       "      <td>Cable</td>\n",
       "      <td>47.0</td>\n",
       "      <td>Yes</td>\n",
       "      <td>Yes</td>\n",
       "      <td>Yes</td>\n",
       "      <td>No</td>\n",
       "      <td>Yes</td>\n",
       "      <td>Yes</td>\n",
       "      <td>Yes</td>\n",
       "      <td>Yes</td>\n",
       "      <td>Month-to-Month</td>\n",
       "      <td>No</td>\n",
       "      <td>Credit Card</td>\n",
       "      <td>-3.0</td>\n",
       "      <td>465.70</td>\n",
       "      <td>0.00</td>\n",
       "      <td>0</td>\n",
       "      <td>0.00</td>\n",
       "      <td>465.70</td>\n",
       "      <td>Stayed</td>\n",
       "      <td>NaN</td>\n",
       "      <td>NaN</td>\n",
       "    </tr>\n",
       "    <tr>\n",
       "      <th>232</th>\n",
       "      <td>0361-HJRDX</td>\n",
       "      <td>Female</td>\n",
       "      <td>38</td>\n",
       "      <td>No</td>\n",
       "      <td>0</td>\n",
       "      <td>Sherman Oaks</td>\n",
       "      <td>91403</td>\n",
       "      <td>34.147149</td>\n",
       "      <td>-118.463365</td>\n",
       "      <td>0</td>\n",
       "      <td>68</td>\n",
       "      <td>Offer A</td>\n",
       "      <td>No</td>\n",
       "      <td>NaN</td>\n",
       "      <td>NaN</td>\n",
       "      <td>Yes</td>\n",
       "      <td>DSL</td>\n",
       "      <td>28.0</td>\n",
       "      <td>Yes</td>\n",
       "      <td>Yes</td>\n",
       "      <td>Yes</td>\n",
       "      <td>Yes</td>\n",
       "      <td>Yes</td>\n",
       "      <td>Yes</td>\n",
       "      <td>Yes</td>\n",
       "      <td>No</td>\n",
       "      <td>Two Year</td>\n",
       "      <td>No</td>\n",
       "      <td>Credit Card</td>\n",
       "      <td>-8.0</td>\n",
       "      <td>4539.60</td>\n",
       "      <td>0.00</td>\n",
       "      <td>130</td>\n",
       "      <td>0.00</td>\n",
       "      <td>4669.60</td>\n",
       "      <td>Stayed</td>\n",
       "      <td>NaN</td>\n",
       "      <td>NaN</td>\n",
       "    </tr>\n",
       "    <tr>\n",
       "      <th>336</th>\n",
       "      <td>0495-ZBNGW</td>\n",
       "      <td>Male</td>\n",
       "      <td>78</td>\n",
       "      <td>Yes</td>\n",
       "      <td>0</td>\n",
       "      <td>Loma Mar</td>\n",
       "      <td>94021</td>\n",
       "      <td>37.266388</td>\n",
       "      <td>-122.263080</td>\n",
       "      <td>1</td>\n",
       "      <td>5</td>\n",
       "      <td>NaN</td>\n",
       "      <td>Yes</td>\n",
       "      <td>6.66</td>\n",
       "      <td>Yes</td>\n",
       "      <td>Yes</td>\n",
       "      <td>Fiber Optic</td>\n",
       "      <td>14.0</td>\n",
       "      <td>No</td>\n",
       "      <td>No</td>\n",
       "      <td>Yes</td>\n",
       "      <td>No</td>\n",
       "      <td>No</td>\n",
       "      <td>No</td>\n",
       "      <td>No</td>\n",
       "      <td>No</td>\n",
       "      <td>Month-to-Month</td>\n",
       "      <td>Yes</td>\n",
       "      <td>Bank Withdrawal</td>\n",
       "      <td>-1.0</td>\n",
       "      <td>343.95</td>\n",
       "      <td>0.00</td>\n",
       "      <td>20</td>\n",
       "      <td>33.30</td>\n",
       "      <td>397.25</td>\n",
       "      <td>Churned</td>\n",
       "      <td>Competitor</td>\n",
       "      <td>Competitor offered more data</td>\n",
       "    </tr>\n",
       "    <tr>\n",
       "      <th>...</th>\n",
       "      <td>...</td>\n",
       "      <td>...</td>\n",
       "      <td>...</td>\n",
       "      <td>...</td>\n",
       "      <td>...</td>\n",
       "      <td>...</td>\n",
       "      <td>...</td>\n",
       "      <td>...</td>\n",
       "      <td>...</td>\n",
       "      <td>...</td>\n",
       "      <td>...</td>\n",
       "      <td>...</td>\n",
       "      <td>...</td>\n",
       "      <td>...</td>\n",
       "      <td>...</td>\n",
       "      <td>...</td>\n",
       "      <td>...</td>\n",
       "      <td>...</td>\n",
       "      <td>...</td>\n",
       "      <td>...</td>\n",
       "      <td>...</td>\n",
       "      <td>...</td>\n",
       "      <td>...</td>\n",
       "      <td>...</td>\n",
       "      <td>...</td>\n",
       "      <td>...</td>\n",
       "      <td>...</td>\n",
       "      <td>...</td>\n",
       "      <td>...</td>\n",
       "      <td>...</td>\n",
       "      <td>...</td>\n",
       "      <td>...</td>\n",
       "      <td>...</td>\n",
       "      <td>...</td>\n",
       "      <td>...</td>\n",
       "      <td>...</td>\n",
       "      <td>...</td>\n",
       "      <td>...</td>\n",
       "    </tr>\n",
       "    <tr>\n",
       "      <th>6894</th>\n",
       "      <td>9793-WECQC</td>\n",
       "      <td>Male</td>\n",
       "      <td>53</td>\n",
       "      <td>No</td>\n",
       "      <td>0</td>\n",
       "      <td>Foresthill</td>\n",
       "      <td>95631</td>\n",
       "      <td>39.031876</td>\n",
       "      <td>-120.811141</td>\n",
       "      <td>0</td>\n",
       "      <td>23</td>\n",
       "      <td>NaN</td>\n",
       "      <td>Yes</td>\n",
       "      <td>48.21</td>\n",
       "      <td>No</td>\n",
       "      <td>Yes</td>\n",
       "      <td>Fiber Optic</td>\n",
       "      <td>23.0</td>\n",
       "      <td>No</td>\n",
       "      <td>Yes</td>\n",
       "      <td>No</td>\n",
       "      <td>No</td>\n",
       "      <td>Yes</td>\n",
       "      <td>Yes</td>\n",
       "      <td>Yes</td>\n",
       "      <td>Yes</td>\n",
       "      <td>Month-to-Month</td>\n",
       "      <td>No</td>\n",
       "      <td>Credit Card</td>\n",
       "      <td>-1.0</td>\n",
       "      <td>2192.90</td>\n",
       "      <td>0.00</td>\n",
       "      <td>0</td>\n",
       "      <td>1108.83</td>\n",
       "      <td>3301.73</td>\n",
       "      <td>Stayed</td>\n",
       "      <td>NaN</td>\n",
       "      <td>NaN</td>\n",
       "    </tr>\n",
       "    <tr>\n",
       "      <th>6918</th>\n",
       "      <td>9821-BESNZ</td>\n",
       "      <td>Male</td>\n",
       "      <td>43</td>\n",
       "      <td>No</td>\n",
       "      <td>0</td>\n",
       "      <td>Northridge</td>\n",
       "      <td>91325</td>\n",
       "      <td>34.236683</td>\n",
       "      <td>-118.517588</td>\n",
       "      <td>0</td>\n",
       "      <td>66</td>\n",
       "      <td>Offer A</td>\n",
       "      <td>Yes</td>\n",
       "      <td>33.02</td>\n",
       "      <td>Yes</td>\n",
       "      <td>Yes</td>\n",
       "      <td>Fiber Optic</td>\n",
       "      <td>6.0</td>\n",
       "      <td>No</td>\n",
       "      <td>Yes</td>\n",
       "      <td>No</td>\n",
       "      <td>Yes</td>\n",
       "      <td>Yes</td>\n",
       "      <td>Yes</td>\n",
       "      <td>Yes</td>\n",
       "      <td>Yes</td>\n",
       "      <td>One Year</td>\n",
       "      <td>Yes</td>\n",
       "      <td>Bank Withdrawal</td>\n",
       "      <td>-7.0</td>\n",
       "      <td>6860.60</td>\n",
       "      <td>44.00</td>\n",
       "      <td>0</td>\n",
       "      <td>2179.32</td>\n",
       "      <td>8995.92</td>\n",
       "      <td>Stayed</td>\n",
       "      <td>NaN</td>\n",
       "      <td>NaN</td>\n",
       "    </tr>\n",
       "    <tr>\n",
       "      <th>6976</th>\n",
       "      <td>9898-KZQDZ</td>\n",
       "      <td>Female</td>\n",
       "      <td>65</td>\n",
       "      <td>Yes</td>\n",
       "      <td>0</td>\n",
       "      <td>Lee Vining</td>\n",
       "      <td>93541</td>\n",
       "      <td>37.890145</td>\n",
       "      <td>-119.184087</td>\n",
       "      <td>1</td>\n",
       "      <td>40</td>\n",
       "      <td>NaN</td>\n",
       "      <td>Yes</td>\n",
       "      <td>49.50</td>\n",
       "      <td>Yes</td>\n",
       "      <td>Yes</td>\n",
       "      <td>Fiber Optic</td>\n",
       "      <td>20.0</td>\n",
       "      <td>No</td>\n",
       "      <td>No</td>\n",
       "      <td>No</td>\n",
       "      <td>No</td>\n",
       "      <td>Yes</td>\n",
       "      <td>Yes</td>\n",
       "      <td>Yes</td>\n",
       "      <td>Yes</td>\n",
       "      <td>Month-to-Month</td>\n",
       "      <td>Yes</td>\n",
       "      <td>Credit Card</td>\n",
       "      <td>-1.0</td>\n",
       "      <td>3640.45</td>\n",
       "      <td>0.00</td>\n",
       "      <td>0</td>\n",
       "      <td>1980.00</td>\n",
       "      <td>5620.45</td>\n",
       "      <td>Churned</td>\n",
       "      <td>Competitor</td>\n",
       "      <td>Competitor had better devices</td>\n",
       "    </tr>\n",
       "    <tr>\n",
       "      <th>7020</th>\n",
       "      <td>9961-JBNMK</td>\n",
       "      <td>Male</td>\n",
       "      <td>79</td>\n",
       "      <td>No</td>\n",
       "      <td>0</td>\n",
       "      <td>Desert Center</td>\n",
       "      <td>92239</td>\n",
       "      <td>33.889605</td>\n",
       "      <td>-115.257009</td>\n",
       "      <td>0</td>\n",
       "      <td>21</td>\n",
       "      <td>NaN</td>\n",
       "      <td>Yes</td>\n",
       "      <td>42.27</td>\n",
       "      <td>No</td>\n",
       "      <td>Yes</td>\n",
       "      <td>Fiber Optic</td>\n",
       "      <td>7.0</td>\n",
       "      <td>No</td>\n",
       "      <td>No</td>\n",
       "      <td>Yes</td>\n",
       "      <td>No</td>\n",
       "      <td>Yes</td>\n",
       "      <td>Yes</td>\n",
       "      <td>No</td>\n",
       "      <td>Yes</td>\n",
       "      <td>Month-to-Month</td>\n",
       "      <td>Yes</td>\n",
       "      <td>Bank Withdrawal</td>\n",
       "      <td>-1.0</td>\n",
       "      <td>2030.30</td>\n",
       "      <td>10.20</td>\n",
       "      <td>0</td>\n",
       "      <td>887.67</td>\n",
       "      <td>2907.77</td>\n",
       "      <td>Churned</td>\n",
       "      <td>Dissatisfaction</td>\n",
       "      <td>Product dissatisfaction</td>\n",
       "    </tr>\n",
       "    <tr>\n",
       "      <th>7027</th>\n",
       "      <td>9971-ZWPBF</td>\n",
       "      <td>Male</td>\n",
       "      <td>70</td>\n",
       "      <td>Yes</td>\n",
       "      <td>1</td>\n",
       "      <td>Orinda</td>\n",
       "      <td>94563</td>\n",
       "      <td>37.873916</td>\n",
       "      <td>-122.205220</td>\n",
       "      <td>7</td>\n",
       "      <td>34</td>\n",
       "      <td>NaN</td>\n",
       "      <td>Yes</td>\n",
       "      <td>11.74</td>\n",
       "      <td>Yes</td>\n",
       "      <td>Yes</td>\n",
       "      <td>Fiber Optic</td>\n",
       "      <td>12.0</td>\n",
       "      <td>No</td>\n",
       "      <td>Yes</td>\n",
       "      <td>Yes</td>\n",
       "      <td>Yes</td>\n",
       "      <td>Yes</td>\n",
       "      <td>Yes</td>\n",
       "      <td>Yes</td>\n",
       "      <td>No</td>\n",
       "      <td>Month-to-Month</td>\n",
       "      <td>Yes</td>\n",
       "      <td>Bank Withdrawal</td>\n",
       "      <td>-9.0</td>\n",
       "      <td>3625.20</td>\n",
       "      <td>0.00</td>\n",
       "      <td>30</td>\n",
       "      <td>399.16</td>\n",
       "      <td>4054.36</td>\n",
       "      <td>Stayed</td>\n",
       "      <td>NaN</td>\n",
       "      <td>NaN</td>\n",
       "    </tr>\n",
       "  </tbody>\n",
       "</table>\n",
       "<p>120 rows × 38 columns</p>\n",
       "</div>"
      ],
      "text/plain": [
       "      CustomerID  Gender  Age Married  NumberofDependents           City  \\\n",
       "1     0003-MKNFE    Male   46      No                   0       Glendale   \n",
       "32    0052-DCKON    Male   28     Yes                   0    Los Angeles   \n",
       "170   0274-JKUJR    Male   21     Yes                   2    Los Angeles   \n",
       "232   0361-HJRDX  Female   38      No                   0   Sherman Oaks   \n",
       "336   0495-ZBNGW    Male   78     Yes                   0       Loma Mar   \n",
       "...          ...     ...  ...     ...                 ...            ...   \n",
       "6894  9793-WECQC    Male   53      No                   0     Foresthill   \n",
       "6918  9821-BESNZ    Male   43      No                   0     Northridge   \n",
       "6976  9898-KZQDZ  Female   65     Yes                   0     Lee Vining   \n",
       "7020  9961-JBNMK    Male   79      No                   0  Desert Center   \n",
       "7027  9971-ZWPBF    Male   70     Yes                   1         Orinda   \n",
       "\n",
       "      ZipCode   Latitude   Longitude  NumberofReferrals  TenureinMonths  \\\n",
       "1       91206  34.162515 -118.203869                  0               9   \n",
       "32      90063  34.044271 -118.185237                  9              66   \n",
       "170     90040  33.994524 -118.149953                  9               7   \n",
       "232     91403  34.147149 -118.463365                  0              68   \n",
       "336     94021  37.266388 -122.263080                  1               5   \n",
       "...       ...        ...         ...                ...             ...   \n",
       "6894    95631  39.031876 -120.811141                  0              23   \n",
       "6918    91325  34.236683 -118.517588                  0              66   \n",
       "6976    93541  37.890145 -119.184087                  1              40   \n",
       "7020    92239  33.889605 -115.257009                  0              21   \n",
       "7027    94563  37.873916 -122.205220                  7              34   \n",
       "\n",
       "        Offer PhoneService  AvgMonthlyLongDistanceCharges MultipleLines  \\\n",
       "1         NaN          Yes                          10.69           Yes   \n",
       "32        NaN          Yes                          43.77           Yes   \n",
       "170   Offer E           No                            NaN           NaN   \n",
       "232   Offer A           No                            NaN           NaN   \n",
       "336       NaN          Yes                           6.66           Yes   \n",
       "...       ...          ...                            ...           ...   \n",
       "6894      NaN          Yes                          48.21            No   \n",
       "6918  Offer A          Yes                          33.02           Yes   \n",
       "6976      NaN          Yes                          49.50           Yes   \n",
       "7020      NaN          Yes                          42.27            No   \n",
       "7027      NaN          Yes                          11.74           Yes   \n",
       "\n",
       "     InternetService InternetType  AvgMonthlyGBDownload OnlineSecurity  \\\n",
       "1                Yes        Cable                  10.0             No   \n",
       "32               Yes  Fiber Optic                  41.0            Yes   \n",
       "170              Yes        Cable                  47.0            Yes   \n",
       "232              Yes          DSL                  28.0            Yes   \n",
       "336              Yes  Fiber Optic                  14.0             No   \n",
       "...              ...          ...                   ...            ...   \n",
       "6894             Yes  Fiber Optic                  23.0             No   \n",
       "6918             Yes  Fiber Optic                   6.0             No   \n",
       "6976             Yes  Fiber Optic                  20.0             No   \n",
       "7020             Yes  Fiber Optic                   7.0             No   \n",
       "7027             Yes  Fiber Optic                  12.0             No   \n",
       "\n",
       "     OnlineBackup DeviceProtectionPlan PremiumTechSupport StreamingTV  \\\n",
       "1              No                   No                 No          No   \n",
       "32            Yes                  Yes                Yes         Yes   \n",
       "170           Yes                  Yes                 No         Yes   \n",
       "232           Yes                  Yes                Yes         Yes   \n",
       "336            No                  Yes                 No          No   \n",
       "...           ...                  ...                ...         ...   \n",
       "6894          Yes                   No                 No         Yes   \n",
       "6918          Yes                   No                Yes         Yes   \n",
       "6976           No                   No                 No         Yes   \n",
       "7020           No                  Yes                 No         Yes   \n",
       "7027          Yes                  Yes                Yes         Yes   \n",
       "\n",
       "     StreamingMovies StreamingMusic UnlimitedData        Contract  \\\n",
       "1                Yes            Yes            No  Month-to-Month   \n",
       "32               Yes            Yes           Yes        One Year   \n",
       "170              Yes            Yes           Yes  Month-to-Month   \n",
       "232              Yes            Yes            No        Two Year   \n",
       "336               No             No            No  Month-to-Month   \n",
       "...              ...            ...           ...             ...   \n",
       "6894             Yes            Yes           Yes  Month-to-Month   \n",
       "6918             Yes            Yes           Yes        One Year   \n",
       "6976             Yes            Yes           Yes  Month-to-Month   \n",
       "7020             Yes             No           Yes  Month-to-Month   \n",
       "7027             Yes            Yes            No  Month-to-Month   \n",
       "\n",
       "     PaperlessBilling    PaymentMethod  MonthlyCharge  TotalCharges  \\\n",
       "1                  No      Credit Card           -4.0        542.40   \n",
       "32                 No  Bank Withdrawal           -2.0       7942.15   \n",
       "170                No      Credit Card           -3.0        465.70   \n",
       "232                No      Credit Card           -8.0       4539.60   \n",
       "336               Yes  Bank Withdrawal           -1.0        343.95   \n",
       "...               ...              ...            ...           ...   \n",
       "6894               No      Credit Card           -1.0       2192.90   \n",
       "6918              Yes  Bank Withdrawal           -7.0       6860.60   \n",
       "6976              Yes      Credit Card           -1.0       3640.45   \n",
       "7020              Yes  Bank Withdrawal           -1.0       2030.30   \n",
       "7027              Yes  Bank Withdrawal           -9.0       3625.20   \n",
       "\n",
       "      TotalRefunds  TotalExtraDataCharges  TotalLongDistanceCharges  \\\n",
       "1            38.33                     10                     96.21   \n",
       "32            0.00                      0                   2888.82   \n",
       "170           0.00                      0                      0.00   \n",
       "232           0.00                    130                      0.00   \n",
       "336           0.00                     20                     33.30   \n",
       "...            ...                    ...                       ...   \n",
       "6894          0.00                      0                   1108.83   \n",
       "6918         44.00                      0                   2179.32   \n",
       "6976          0.00                      0                   1980.00   \n",
       "7020         10.20                      0                    887.67   \n",
       "7027          0.00                     30                    399.16   \n",
       "\n",
       "      TotalRevenue CustomerStatus    ChurnCategory  \\\n",
       "1           610.28         Stayed              NaN   \n",
       "32        10830.97         Stayed              NaN   \n",
       "170         465.70         Stayed              NaN   \n",
       "232        4669.60         Stayed              NaN   \n",
       "336         397.25        Churned       Competitor   \n",
       "...            ...            ...              ...   \n",
       "6894       3301.73         Stayed              NaN   \n",
       "6918       8995.92         Stayed              NaN   \n",
       "6976       5620.45        Churned       Competitor   \n",
       "7020       2907.77        Churned  Dissatisfaction   \n",
       "7027       4054.36         Stayed              NaN   \n",
       "\n",
       "                        ChurnReason  \n",
       "1                               NaN  \n",
       "32                              NaN  \n",
       "170                             NaN  \n",
       "232                             NaN  \n",
       "336    Competitor offered more data  \n",
       "...                             ...  \n",
       "6894                            NaN  \n",
       "6918                            NaN  \n",
       "6976  Competitor had better devices  \n",
       "7020        Product dissatisfaction  \n",
       "7027                            NaN  \n",
       "\n",
       "[120 rows x 38 columns]"
      ]
     },
     "execution_count": 61,
     "metadata": {},
     "output_type": "execute_result"
    }
   ],
   "source": [
    "df[df['MonthlyCharge']<0]"
   ]
  },
  {
   "cell_type": "markdown",
   "id": "d582426e",
   "metadata": {},
   "source": [
    "> TotalCharges"
   ]
  },
  {
   "cell_type": "code",
   "execution_count": 62,
   "id": "b6a31a9d",
   "metadata": {},
   "outputs": [
    {
     "data": {
      "text/plain": [
       "count    7043.000000\n",
       "mean     2280.381264\n",
       "std      2266.220462\n",
       "min        18.800000\n",
       "25%       400.150000\n",
       "50%      1394.550000\n",
       "75%      3786.600000\n",
       "max      8684.800000\n",
       "Name: TotalCharges, dtype: float64"
      ]
     },
     "execution_count": 62,
     "metadata": {},
     "output_type": "execute_result"
    }
   ],
   "source": [
    "df['TotalCharges'].describe()"
   ]
  },
  {
   "cell_type": "code",
   "execution_count": 63,
   "id": "3fc04d6c",
   "metadata": {},
   "outputs": [
    {
     "data": {
      "text/plain": [
       "<AxesSubplot:xlabel='TotalCharges'>"
      ]
     },
     "execution_count": 63,
     "metadata": {},
     "output_type": "execute_result"
    },
    {
     "data": {
      "image/png": "[encoded data removed]",
      "text/plain": [
       "<Figure size 432x288 with 1 Axes>"
      ]
     },
     "metadata": {
      "needs_background": "light"
     },
     "output_type": "display_data"
    }
   ],
   "source": [
    "sns.boxplot(df['TotalCharges'])"
   ]
  },
  {
   "cell_type": "markdown",
   "id": "b360f807",
   "metadata": {},
   "source": [
    "> TotalRefunds"
   ]
  },
  {
   "cell_type": "code",
   "execution_count": 64,
   "id": "a16bbac7",
   "metadata": {},
   "outputs": [
    {
     "data": {
      "text/plain": [
       "count    7043.000000\n",
       "mean        1.962182\n",
       "std         7.902614\n",
       "min         0.000000\n",
       "25%         0.000000\n",
       "50%         0.000000\n",
       "75%         0.000000\n",
       "max        49.790000\n",
       "Name: TotalRefunds, dtype: float64"
      ]
     },
     "execution_count": 64,
     "metadata": {},
     "output_type": "execute_result"
    }
   ],
   "source": [
    "df['TotalRefunds'].describe()"
   ]
  },
  {
   "cell_type": "code",
   "execution_count": 65,
   "id": "9981572f",
   "metadata": {},
   "outputs": [
    {
     "data": {
      "text/plain": [
       "<AxesSubplot:xlabel='TotalRefunds'>"
      ]
     },
     "execution_count": 65,
     "metadata": {},
     "output_type": "execute_result"
    },
    {
     "data": {
      "image/png": "[encoded data removed]",
      "text/plain": [
       "<Figure size 432x288 with 1 Axes>"
      ]
     },
     "metadata": {
      "needs_background": "light"
     },
     "output_type": "display_data"
    }
   ],
   "source": [
    " sns.boxplot(df['TotalRefunds'])"
   ]
  },
  {
   "cell_type": "markdown",
   "id": "65db40e7",
   "metadata": {},
   "source": [
    "> TotalExtraDataCharges"
   ]
  },
  {
   "cell_type": "code",
   "execution_count": 66,
   "id": "bcf3c371",
   "metadata": {},
   "outputs": [
    {
     "data": {
      "text/plain": [
       "count    7043.000000\n",
       "mean        6.860713\n",
       "std        25.104978\n",
       "min         0.000000\n",
       "25%         0.000000\n",
       "50%         0.000000\n",
       "75%         0.000000\n",
       "max       150.000000\n",
       "Name: TotalExtraDataCharges, dtype: float64"
      ]
     },
     "execution_count": 66,
     "metadata": {},
     "output_type": "execute_result"
    }
   ],
   "source": [
    "df['TotalExtraDataCharges'].describe()"
   ]
  },
  {
   "cell_type": "code",
   "execution_count": 67,
   "id": "1abbf462",
   "metadata": {
    "scrolled": true
   },
   "outputs": [
    {
     "data": {
      "text/plain": [
       "<AxesSubplot:xlabel='TotalExtraDataCharges'>"
      ]
     },
     "execution_count": 67,
     "metadata": {},
     "output_type": "execute_result"
    },
    {
     "data": {
      "image/png": "[encoded data removed]",
      "text/plain": [
       "<Figure size 432x288 with 1 Axes>"
      ]
     },
     "metadata": {
      "needs_background": "light"
     },
     "output_type": "display_data"
    }
   ],
   "source": [
    "sns.boxplot(df['TotalExtraDataCharges'])"
   ]
  },
  {
   "cell_type": "markdown",
   "id": "f834512b",
   "metadata": {},
   "source": [
    ">TotalLongDistanceCharges"
   ]
  },
  {
   "cell_type": "code",
   "execution_count": 68,
   "id": "2eace5a9",
   "metadata": {},
   "outputs": [
    {
     "data": {
      "text/plain": [
       "count    7043.000000\n",
       "mean      749.099262\n",
       "std       846.660055\n",
       "min         0.000000\n",
       "25%        70.545000\n",
       "50%       401.440000\n",
       "75%      1191.100000\n",
       "max      3564.720000\n",
       "Name: TotalLongDistanceCharges, dtype: float64"
      ]
     },
     "execution_count": 68,
     "metadata": {},
     "output_type": "execute_result"
    }
   ],
   "source": [
    "df['TotalLongDistanceCharges'].describe()"
   ]
  },
  {
   "cell_type": "code",
   "execution_count": 69,
   "id": "4560e410",
   "metadata": {},
   "outputs": [
    {
     "data": {
      "text/plain": [
       "<AxesSubplot:xlabel='TotalLongDistanceCharges'>"
      ]
     },
     "execution_count": 69,
     "metadata": {},
     "output_type": "execute_result"
    },
    {
     "data": {
      "image/png": "[encoded data removed]",
      "text/plain": [
       "<Figure size 432x288 with 1 Axes>"
      ]
     },
     "metadata": {
      "needs_background": "light"
     },
     "output_type": "display_data"
    }
   ],
   "source": [
    "sns.boxplot(df['TotalLongDistanceCharges'])"
   ]
  },
  {
   "cell_type": "markdown",
   "id": "463f1976",
   "metadata": {},
   "source": [
    "> TotalRevenue "
   ]
  },
  {
   "cell_type": "code",
   "execution_count": 70,
   "id": "fec7042f",
   "metadata": {},
   "outputs": [
    {
     "data": {
      "text/plain": [
       "count     7043.000000\n",
       "mean      3034.379056\n",
       "std       2865.204542\n",
       "min         21.360000\n",
       "25%        605.610000\n",
       "50%       2108.640000\n",
       "75%       4801.145000\n",
       "max      11979.340000\n",
       "Name: TotalRevenue, dtype: float64"
      ]
     },
     "execution_count": 70,
     "metadata": {},
     "output_type": "execute_result"
    }
   ],
   "source": [
    "df['TotalRevenue'].describe()"
   ]
  },
  {
   "cell_type": "code",
   "execution_count": 71,
   "id": "177ac1a0",
   "metadata": {},
   "outputs": [
    {
     "data": {
      "text/plain": [
       "<AxesSubplot:xlabel='TotalRevenue'>"
      ]
     },
     "execution_count": 71,
     "metadata": {},
     "output_type": "execute_result"
    },
    {
     "data": {
      "image/png": "[encoded data removed]",
      "text/plain": [
       "<Figure size 432x288 with 1 Axes>"
      ]
     },
     "metadata": {
      "needs_background": "light"
     },
     "output_type": "display_data"
    }
   ],
   "source": [
    "sns.boxplot(df['TotalRevenue'])"
   ]
  },
  {
   "cell_type": "code",
   "execution_count": 72,
   "id": "660f2d32",
   "metadata": {},
   "outputs": [
    {
     "data": {
      "text/plain": [
       "(123, 38)"
      ]
     },
     "execution_count": 72,
     "metadata": {},
     "output_type": "execute_result"
    }
   ],
   "source": [
    "df[df['TotalRevenue']> 10000].shape"
   ]
  },
  {
   "cell_type": "markdown",
   "id": "dd4eccfb",
   "metadata": {},
   "source": [
    "> CustomerStatus"
   ]
  },
  {
   "cell_type": "code",
   "execution_count": 73,
   "id": "cd5b839e",
   "metadata": {},
   "outputs": [
    {
     "data": {
      "text/plain": [
       "CustomerStatus\n",
       "Stayed     4720\n",
       "Churned    1869\n",
       "Joined      454\n",
       "Name: count, dtype: int64"
      ]
     },
     "execution_count": 73,
     "metadata": {},
     "output_type": "execute_result"
    }
   ],
   "source": [
    "df['CustomerStatus'].value_counts()"
   ]
  },
  {
   "cell_type": "markdown",
   "id": "d0d17fb9",
   "metadata": {},
   "source": [
    "> ChurnCategory"
   ]
  },
  {
   "cell_type": "code",
   "execution_count": 74,
   "id": "4a6e766d",
   "metadata": {},
   "outputs": [
    {
     "data": {
      "text/plain": [
       "1869"
      ]
     },
     "execution_count": 74,
     "metadata": {},
     "output_type": "execute_result"
    }
   ],
   "source": [
    "df.shape[0] - df['ChurnCategory'].isna().sum() "
   ]
  },
  {
   "cell_type": "code",
   "execution_count": 75,
   "id": "e0e0e3ef",
   "metadata": {},
   "outputs": [
    {
     "data": {
      "text/plain": [
       "ChurnReason\n",
       "Competitor had better devices                313\n",
       "Competitor made better offer                 311\n",
       "Attitude of support person                   220\n",
       "Don't know                                   130\n",
       "Competitor offered more data                 117\n",
       "Competitor offered higher download speeds    100\n",
       "Attitude of service provider                  94\n",
       "Price too high                                78\n",
       "Product dissatisfaction                       77\n",
       "Network reliability                           72\n",
       "Long distance charges                         64\n",
       "Service dissatisfaction                       63\n",
       "Moved                                         46\n",
       "Extra data charges                            39\n",
       "Limited range of services                     37\n",
       "Poor expertise of online support              31\n",
       "Lack of affordable download/upload speed      30\n",
       "Lack of self-service on Website               29\n",
       "Poor expertise of phone support               12\n",
       "Deceased                                       6\n",
       "Name: count, dtype: int64"
      ]
     },
     "execution_count": 75,
     "metadata": {},
     "output_type": "execute_result"
    }
   ],
   "source": [
    "df['ChurnReason'].value_counts()"
   ]
  },
  {
   "cell_type": "markdown",
   "id": "29a4b79c",
   "metadata": {},
   "source": [
    "> ChurnReason"
   ]
  },
  {
   "cell_type": "code",
   "execution_count": 76,
   "id": "aa04c537",
   "metadata": {},
   "outputs": [
    {
     "data": {
      "text/plain": [
       "ChurnReason\n",
       "Competitor had better devices                313\n",
       "Competitor made better offer                 311\n",
       "Attitude of support person                   220\n",
       "Don't know                                   130\n",
       "Competitor offered more data                 117\n",
       "Competitor offered higher download speeds    100\n",
       "Attitude of service provider                  94\n",
       "Price too high                                78\n",
       "Product dissatisfaction                       77\n",
       "Network reliability                           72\n",
       "Long distance charges                         64\n",
       "Service dissatisfaction                       63\n",
       "Moved                                         46\n",
       "Extra data charges                            39\n",
       "Limited range of services                     37\n",
       "Poor expertise of online support              31\n",
       "Lack of affordable download/upload speed      30\n",
       "Lack of self-service on Website               29\n",
       "Poor expertise of phone support               12\n",
       "Deceased                                       6\n",
       "Name: count, dtype: int64"
      ]
     },
     "execution_count": 76,
     "metadata": {},
     "output_type": "execute_result"
    }
   ],
   "source": [
    "df['ChurnReason'].value_counts()"
   ]
  },
  {
   "cell_type": "markdown",
   "id": "940cfaa7",
   "metadata": {},
   "source": [
    "##  Data Cleaning <a class=\"anchor\" id=\"Data-Cleaning\"></a>"
   ]
  },
  {
   "cell_type": "markdown",
   "id": "a99ffeb9",
   "metadata": {},
   "source": [
    "#### Drop Unnecessary Columns "
   ]
  },
  {
   "cell_type": "code",
   "execution_count": 77,
   "id": "9a38358c",
   "metadata": {},
   "outputs": [
    {
     "name": "stdout",
     "output_type": "stream",
     "text": [
      "<class 'pandas.core.frame.DataFrame'>\n",
      "RangeIndex: 7043 entries, 0 to 7042\n",
      "Data columns (total 30 columns):\n",
      " #   Column                Non-Null Count  Dtype  \n",
      "---  ------                --------------  -----  \n",
      " 0   Gender                7043 non-null   object \n",
      " 1   Age                   7043 non-null   int64  \n",
      " 2   Married               7043 non-null   object \n",
      " 3   NumberofDependents    7043 non-null   int64  \n",
      " 4   City                  7043 non-null   object \n",
      " 5   Latitude              7043 non-null   float64\n",
      " 6   Longitude             7043 non-null   float64\n",
      " 7   NumberofReferrals     7043 non-null   int64  \n",
      " 8   TenureinMonths        7043 non-null   int64  \n",
      " 9   Offer                 3166 non-null   object \n",
      " 10  PhoneService          7043 non-null   object \n",
      " 11  MultipleLines         6361 non-null   object \n",
      " 12  InternetService       7043 non-null   object \n",
      " 13  InternetType          5517 non-null   object \n",
      " 14  AvgMonthlyGBDownload  5517 non-null   float64\n",
      " 15  OnlineSecurity        5517 non-null   object \n",
      " 16  OnlineBackup          5517 non-null   object \n",
      " 17  DeviceProtectionPlan  5517 non-null   object \n",
      " 18  PremiumTechSupport    5517 non-null   object \n",
      " 19  StreamingTV           5517 non-null   object \n",
      " 20  StreamingMovies       5517 non-null   object \n",
      " 21  StreamingMusic        5517 non-null   object \n",
      " 22  UnlimitedData         5517 non-null   object \n",
      " 23  Contract              7043 non-null   object \n",
      " 24  PaperlessBilling      7043 non-null   object \n",
      " 25  PaymentMethod         7043 non-null   object \n",
      " 26  MonthlyCharge         7043 non-null   float64\n",
      " 27  TotalRevenue          7043 non-null   float64\n",
      " 28  CustomerStatus        7043 non-null   object \n",
      " 29  ChurnCategory         1869 non-null   object \n",
      "dtypes: float64(5), int64(4), object(21)\n",
      "memory usage: 1.6+ MB\n"
     ]
    }
   ],
   "source": [
    "df.drop(['CustomerID','ZipCode' , 'AvgMonthlyLongDistanceCharges','TotalRefunds','TotalExtraDataCharges','TotalLongDistanceCharges','TotalCharges','ChurnReason'] , axis=1 , inplace=True)\n",
    "df.info()"
   ]
  },
  {
   "cell_type": "markdown",
   "id": "0ec1e923",
   "metadata": {},
   "source": [
    "#### Keep only values  from [0-3] in 'NumberofDependents' column"
   ]
  },
  {
   "cell_type": "code",
   "execution_count": 78,
   "id": "0b2487bf",
   "metadata": {},
   "outputs": [],
   "source": [
    "df = df[df['NumberofDependents']<= 3].reset_index()"
   ]
  },
  {
   "cell_type": "code",
   "execution_count": 79,
   "id": "3e3284e9",
   "metadata": {},
   "outputs": [
    {
     "name": "stdout",
     "output_type": "stream",
     "text": [
      "<class 'pandas.core.frame.DataFrame'>\n",
      "RangeIndex: 7017 entries, 0 to 7016\n",
      "Data columns (total 31 columns):\n",
      " #   Column                Non-Null Count  Dtype  \n",
      "---  ------                --------------  -----  \n",
      " 0   index                 7017 non-null   int64  \n",
      " 1   Gender                7017 non-null   object \n",
      " 2   Age                   7017 non-null   int64  \n",
      " 3   Married               7017 non-null   object \n",
      " 4   NumberofDependents    7017 non-null   int64  \n",
      " 5   City                  7017 non-null   object \n",
      " 6   Latitude              7017 non-null   float64\n",
      " 7   Longitude             7017 non-null   float64\n",
      " 8   NumberofReferrals     7017 non-null   int64  \n",
      " 9   TenureinMonths        7017 non-null   int64  \n",
      " 10  Offer                 3153 non-null   object \n",
      " 11  PhoneService          7017 non-null   object \n",
      " 12  MultipleLines         6339 non-null   object \n",
      " 13  InternetService       7017 non-null   object \n",
      " 14  InternetType          5499 non-null   object \n",
      " 15  AvgMonthlyGBDownload  5499 non-null   float64\n",
      " 16  OnlineSecurity        5499 non-null   object \n",
      " 17  OnlineBackup          5499 non-null   object \n",
      " 18  DeviceProtectionPlan  5499 non-null   object \n",
      " 19  PremiumTechSupport    5499 non-null   object \n",
      " 20  StreamingTV           5499 non-null   object \n",
      " 21  StreamingMovies       5499 non-null   object \n",
      " 22  StreamingMusic        5499 non-null   object \n",
      " 23  UnlimitedData         5499 non-null   object \n",
      " 24  Contract              7017 non-null   object \n",
      " 25  PaperlessBilling      7017 non-null   object \n",
      " 26  PaymentMethod         7017 non-null   object \n",
      " 27  MonthlyCharge         7017 non-null   float64\n",
      " 28  TotalRevenue          7017 non-null   float64\n",
      " 29  CustomerStatus        7017 non-null   object \n",
      " 30  ChurnCategory         1864 non-null   object \n",
      "dtypes: float64(5), int64(5), object(21)\n",
      "memory usage: 1.7+ MB\n"
     ]
    }
   ],
   "source": [
    "df.info()"
   ]
  },
  {
   "cell_type": "code",
   "execution_count": 80,
   "id": "ba7d0cbc",
   "metadata": {},
   "outputs": [
    {
     "data": {
      "text/plain": [
       "NumberofDependents\n",
       "0    5416\n",
       "1     553\n",
       "2     531\n",
       "3     517\n",
       "Name: count, dtype: int64"
      ]
     },
     "execution_count": 80,
     "metadata": {},
     "output_type": "execute_result"
    }
   ],
   "source": [
    "df['NumberofDependents'].value_counts()"
   ]
  },
  {
   "cell_type": "markdown",
   "id": "9d4a03dc",
   "metadata": {},
   "source": [
    "#### Keep only values from [0-10] in 'NumberofReferrals' column "
   ]
  },
  {
   "cell_type": "code",
   "execution_count": 81,
   "id": "d23ce78d",
   "metadata": {},
   "outputs": [],
   "source": [
    "df = df[df['NumberofReferrals']<11].reset_index()"
   ]
  },
  {
   "cell_type": "code",
   "execution_count": 82,
   "id": "07ca35c6",
   "metadata": {},
   "outputs": [
    {
     "name": "stdout",
     "output_type": "stream",
     "text": [
      "<class 'pandas.core.frame.DataFrame'>\n",
      "RangeIndex: 7015 entries, 0 to 7014\n",
      "Data columns (total 32 columns):\n",
      " #   Column                Non-Null Count  Dtype  \n",
      "---  ------                --------------  -----  \n",
      " 0   level_0               7015 non-null   int64  \n",
      " 1   index                 7015 non-null   int64  \n",
      " 2   Gender                7015 non-null   object \n",
      " 3   Age                   7015 non-null   int64  \n",
      " 4   Married               7015 non-null   object \n",
      " 5   NumberofDependents    7015 non-null   int64  \n",
      " 6   City                  7015 non-null   object \n",
      " 7   Latitude              7015 non-null   float64\n",
      " 8   Longitude             7015 non-null   float64\n",
      " 9   NumberofReferrals     7015 non-null   int64  \n",
      " 10  TenureinMonths        7015 non-null   int64  \n",
      " 11  Offer                 3152 non-null   object \n",
      " 12  PhoneService          7015 non-null   object \n",
      " 13  MultipleLines         6338 non-null   object \n",
      " 14  InternetService       7015 non-null   object \n",
      " 15  InternetType          5497 non-null   object \n",
      " 16  AvgMonthlyGBDownload  5497 non-null   float64\n",
      " 17  OnlineSecurity        5497 non-null   object \n",
      " 18  OnlineBackup          5497 non-null   object \n",
      " 19  DeviceProtectionPlan  5497 non-null   object \n",
      " 20  PremiumTechSupport    5497 non-null   object \n",
      " 21  StreamingTV           5497 non-null   object \n",
      " 22  StreamingMovies       5497 non-null   object \n",
      " 23  StreamingMusic        5497 non-null   object \n",
      " 24  UnlimitedData         5497 non-null   object \n",
      " 25  Contract              7015 non-null   object \n",
      " 26  PaperlessBilling      7015 non-null   object \n",
      " 27  PaymentMethod         7015 non-null   object \n",
      " 28  MonthlyCharge         7015 non-null   float64\n",
      " 29  TotalRevenue          7015 non-null   float64\n",
      " 30  CustomerStatus        7015 non-null   object \n",
      " 31  ChurnCategory         1864 non-null   object \n",
      "dtypes: float64(5), int64(6), object(21)\n",
      "memory usage: 1.7+ MB\n"
     ]
    }
   ],
   "source": [
    "df.info()"
   ]
  },
  {
   "cell_type": "code",
   "execution_count": 83,
   "id": "ea9ab2a0",
   "metadata": {},
   "outputs": [
    {
     "data": {
      "text/plain": [
       "NumberofReferrals\n",
       "0     3816\n",
       "1     1082\n",
       "5      261\n",
       "3      254\n",
       "7      247\n",
       "4      236\n",
       "9      235\n",
       "2      233\n",
       "10     221\n",
       "6      219\n",
       "8      211\n",
       "Name: count, dtype: int64"
      ]
     },
     "execution_count": 83,
     "metadata": {},
     "output_type": "execute_result"
    }
   ],
   "source": [
    "df['NumberofReferrals'].value_counts()"
   ]
  },
  {
   "cell_type": "code",
   "execution_count": 84,
   "id": "df3e4947",
   "metadata": {},
   "outputs": [
    {
     "data": {
      "text/plain": [
       "(7015, 32)"
      ]
     },
     "execution_count": 84,
     "metadata": {},
     "output_type": "execute_result"
    }
   ],
   "source": [
    "df.shape"
   ]
  },
  {
   "cell_type": "markdown",
   "id": "64579484",
   "metadata": {},
   "source": [
    "#### filter df to take data according to 'MonthlyCharge' > 0 "
   ]
  },
  {
   "cell_type": "code",
   "execution_count": 85,
   "id": "36fea7bb",
   "metadata": {},
   "outputs": [],
   "source": [
    "df = df[df['MonthlyCharge']>0]"
   ]
  },
  {
   "cell_type": "code",
   "execution_count": 86,
   "id": "8d127783",
   "metadata": {},
   "outputs": [
    {
     "data": {
      "text/plain": [
       "count    6898.000000\n",
       "mean       64.820107\n",
       "std        30.106262\n",
       "min        18.250000\n",
       "25%        35.550000\n",
       "50%        70.350000\n",
       "75%        89.900000\n",
       "max       118.750000\n",
       "Name: MonthlyCharge, dtype: float64"
      ]
     },
     "execution_count": 86,
     "metadata": {},
     "output_type": "execute_result"
    }
   ],
   "source": [
    "df['MonthlyCharge'].describe()"
   ]
  },
  {
   "cell_type": "code",
   "execution_count": 87,
   "id": "c3c6f893",
   "metadata": {},
   "outputs": [
    {
     "data": {
      "text/plain": [
       "<AxesSubplot:xlabel='MonthlyCharge'>"
      ]
     },
     "execution_count": 87,
     "metadata": {},
     "output_type": "execute_result"
    },
    {
     "data": {
      "image/png": "[encoded data removed]",
      "text/plain": [
       "<Figure size 432x288 with 1 Axes>"
      ]
     },
     "metadata": {
      "needs_background": "light"
     },
     "output_type": "display_data"
    }
   ],
   "source": [
    "sns.boxplot(df['MonthlyCharge'])"
   ]
  },
  {
   "cell_type": "markdown",
   "id": "472ba04d",
   "metadata": {},
   "source": [
    "#### Replace 'None' with 'No Offer' in 'Offer' column "
   ]
  },
  {
   "cell_type": "code",
   "execution_count": 88,
   "id": "e605aa44",
   "metadata": {},
   "outputs": [
    {
     "data": {
      "text/plain": [
       "Offer\n",
       "No Offer    3788\n",
       "Offer B      812\n",
       "Offer E      788\n",
       "Offer D      590\n",
       "Offer A      511\n",
       "Offer C      409\n",
       "Name: count, dtype: int64"
      ]
     },
     "execution_count": 88,
     "metadata": {},
     "output_type": "execute_result"
    }
   ],
   "source": [
    "df['Offer'].fillna('No Offer',inplace=True)\n",
    "df['Offer'].value_counts()"
   ]
  },
  {
   "cell_type": "code",
   "execution_count": 89,
   "id": "e7925de0",
   "metadata": {},
   "outputs": [
    {
     "data": {
      "text/plain": [
       "0"
      ]
     },
     "execution_count": 89,
     "metadata": {},
     "output_type": "execute_result"
    }
   ],
   "source": [
    "df['Offer'].isna().sum()"
   ]
  },
  {
   "cell_type": "markdown",
   "id": "abcea204",
   "metadata": {},
   "source": [
    "#### Handle null in 'MultipleLines' column"
   ]
  },
  {
   "cell_type": "code",
   "execution_count": 90,
   "id": "fcfa2033",
   "metadata": {},
   "outputs": [
    {
     "data": {
      "text/plain": [
       "666"
      ]
     },
     "execution_count": 90,
     "metadata": {},
     "output_type": "execute_result"
    }
   ],
   "source": [
    "df['MultipleLines'].isna().sum()"
   ]
  },
  {
   "cell_type": "code",
   "execution_count": 91,
   "id": "cb45c297",
   "metadata": {},
   "outputs": [
    {
     "data": {
      "text/html": [
       "<div>\n",
       "<style scoped>\n",
       "    .dataframe tbody tr th:only-of-type {\n",
       "        vertical-align: middle;\n",
       "    }\n",
       "\n",
       "    .dataframe tbody tr th {\n",
       "        vertical-align: top;\n",
       "    }\n",
       "\n",
       "    .dataframe thead th {\n",
       "        text-align: right;\n",
       "    }\n",
       "</style>\n",
       "<table border=\"1\" class=\"dataframe\">\n",
       "  <thead>\n",
       "    <tr style=\"text-align: right;\">\n",
       "      <th></th>\n",
       "      <th>level_0</th>\n",
       "      <th>index</th>\n",
       "      <th>Gender</th>\n",
       "      <th>Age</th>\n",
       "      <th>Married</th>\n",
       "      <th>NumberofDependents</th>\n",
       "      <th>City</th>\n",
       "      <th>Latitude</th>\n",
       "      <th>Longitude</th>\n",
       "      <th>NumberofReferrals</th>\n",
       "      <th>TenureinMonths</th>\n",
       "      <th>Offer</th>\n",
       "      <th>PhoneService</th>\n",
       "      <th>MultipleLines</th>\n",
       "      <th>InternetService</th>\n",
       "      <th>InternetType</th>\n",
       "      <th>AvgMonthlyGBDownload</th>\n",
       "      <th>OnlineSecurity</th>\n",
       "      <th>OnlineBackup</th>\n",
       "      <th>DeviceProtectionPlan</th>\n",
       "      <th>PremiumTechSupport</th>\n",
       "      <th>StreamingTV</th>\n",
       "      <th>StreamingMovies</th>\n",
       "      <th>StreamingMusic</th>\n",
       "      <th>UnlimitedData</th>\n",
       "      <th>Contract</th>\n",
       "      <th>PaperlessBilling</th>\n",
       "      <th>PaymentMethod</th>\n",
       "      <th>MonthlyCharge</th>\n",
       "      <th>TotalRevenue</th>\n",
       "      <th>CustomerStatus</th>\n",
       "      <th>ChurnCategory</th>\n",
       "    </tr>\n",
       "  </thead>\n",
       "  <tbody>\n",
       "    <tr>\n",
       "      <th>10</th>\n",
       "      <td>10</td>\n",
       "      <td>10</td>\n",
       "      <td>Male</td>\n",
       "      <td>47</td>\n",
       "      <td>No</td>\n",
       "      <td>0</td>\n",
       "      <td>Rancho Santa Fe</td>\n",
       "      <td>32.993560</td>\n",
       "      <td>-117.207121</td>\n",
       "      <td>0</td>\n",
       "      <td>54</td>\n",
       "      <td>No Offer</td>\n",
       "      <td>No</td>\n",
       "      <td>NaN</td>\n",
       "      <td>Yes</td>\n",
       "      <td>Cable</td>\n",
       "      <td>10.0</td>\n",
       "      <td>Yes</td>\n",
       "      <td>No</td>\n",
       "      <td>No</td>\n",
       "      <td>Yes</td>\n",
       "      <td>Yes</td>\n",
       "      <td>No</td>\n",
       "      <td>No</td>\n",
       "      <td>Yes</td>\n",
       "      <td>Two Year</td>\n",
       "      <td>No</td>\n",
       "      <td>Credit Card</td>\n",
       "      <td>45.20</td>\n",
       "      <td>2460.55</td>\n",
       "      <td>Stayed</td>\n",
       "      <td>NaN</td>\n",
       "    </tr>\n",
       "    <tr>\n",
       "      <th>14</th>\n",
       "      <td>14</td>\n",
       "      <td>14</td>\n",
       "      <td>Female</td>\n",
       "      <td>39</td>\n",
       "      <td>No</td>\n",
       "      <td>0</td>\n",
       "      <td>Los Olivos</td>\n",
       "      <td>34.704340</td>\n",
       "      <td>-120.026090</td>\n",
       "      <td>0</td>\n",
       "      <td>56</td>\n",
       "      <td>No Offer</td>\n",
       "      <td>No</td>\n",
       "      <td>NaN</td>\n",
       "      <td>Yes</td>\n",
       "      <td>DSL</td>\n",
       "      <td>19.0</td>\n",
       "      <td>Yes</td>\n",
       "      <td>Yes</td>\n",
       "      <td>Yes</td>\n",
       "      <td>Yes</td>\n",
       "      <td>No</td>\n",
       "      <td>No</td>\n",
       "      <td>No</td>\n",
       "      <td>Yes</td>\n",
       "      <td>Two Year</td>\n",
       "      <td>No</td>\n",
       "      <td>Bank Withdrawal</td>\n",
       "      <td>45.05</td>\n",
       "      <td>2560.10</td>\n",
       "      <td>Stayed</td>\n",
       "      <td>NaN</td>\n",
       "    </tr>\n",
       "    <tr>\n",
       "      <th>16</th>\n",
       "      <td>16</td>\n",
       "      <td>16</td>\n",
       "      <td>Female</td>\n",
       "      <td>52</td>\n",
       "      <td>Yes</td>\n",
       "      <td>1</td>\n",
       "      <td>Point Reyes Station</td>\n",
       "      <td>38.060264</td>\n",
       "      <td>-122.830646</td>\n",
       "      <td>0</td>\n",
       "      <td>34</td>\n",
       "      <td>No Offer</td>\n",
       "      <td>No</td>\n",
       "      <td>NaN</td>\n",
       "      <td>Yes</td>\n",
       "      <td>DSL</td>\n",
       "      <td>20.0</td>\n",
       "      <td>Yes</td>\n",
       "      <td>No</td>\n",
       "      <td>Yes</td>\n",
       "      <td>Yes</td>\n",
       "      <td>Yes</td>\n",
       "      <td>Yes</td>\n",
       "      <td>Yes</td>\n",
       "      <td>Yes</td>\n",
       "      <td>One Year</td>\n",
       "      <td>No</td>\n",
       "      <td>Credit Card</td>\n",
       "      <td>61.25</td>\n",
       "      <td>1993.20</td>\n",
       "      <td>Stayed</td>\n",
       "      <td>NaN</td>\n",
       "    </tr>\n",
       "    <tr>\n",
       "      <th>19</th>\n",
       "      <td>19</td>\n",
       "      <td>19</td>\n",
       "      <td>Male</td>\n",
       "      <td>67</td>\n",
       "      <td>No</td>\n",
       "      <td>0</td>\n",
       "      <td>Morgan Hill</td>\n",
       "      <td>37.161544</td>\n",
       "      <td>-121.649371</td>\n",
       "      <td>0</td>\n",
       "      <td>1</td>\n",
       "      <td>No Offer</td>\n",
       "      <td>No</td>\n",
       "      <td>NaN</td>\n",
       "      <td>Yes</td>\n",
       "      <td>Cable</td>\n",
       "      <td>9.0</td>\n",
       "      <td>No</td>\n",
       "      <td>No</td>\n",
       "      <td>No</td>\n",
       "      <td>No</td>\n",
       "      <td>No</td>\n",
       "      <td>No</td>\n",
       "      <td>No</td>\n",
       "      <td>Yes</td>\n",
       "      <td>Month-to-Month</td>\n",
       "      <td>Yes</td>\n",
       "      <td>Bank Withdrawal</td>\n",
       "      <td>25.10</td>\n",
       "      <td>25.10</td>\n",
       "      <td>Churned</td>\n",
       "      <td>Competitor</td>\n",
       "    </tr>\n",
       "    <tr>\n",
       "      <th>25</th>\n",
       "      <td>25</td>\n",
       "      <td>25</td>\n",
       "      <td>Female</td>\n",
       "      <td>37</td>\n",
       "      <td>Yes</td>\n",
       "      <td>1</td>\n",
       "      <td>Palomar Mountain</td>\n",
       "      <td>33.309852</td>\n",
       "      <td>-116.823091</td>\n",
       "      <td>1</td>\n",
       "      <td>1</td>\n",
       "      <td>No Offer</td>\n",
       "      <td>No</td>\n",
       "      <td>NaN</td>\n",
       "      <td>Yes</td>\n",
       "      <td>DSL</td>\n",
       "      <td>19.0</td>\n",
       "      <td>Yes</td>\n",
       "      <td>No</td>\n",
       "      <td>No</td>\n",
       "      <td>No</td>\n",
       "      <td>No</td>\n",
       "      <td>No</td>\n",
       "      <td>No</td>\n",
       "      <td>Yes</td>\n",
       "      <td>Month-to-Month</td>\n",
       "      <td>No</td>\n",
       "      <td>Bank Withdrawal</td>\n",
       "      <td>30.50</td>\n",
       "      <td>30.50</td>\n",
       "      <td>Churned</td>\n",
       "      <td>Attitude</td>\n",
       "    </tr>\n",
       "    <tr>\n",
       "      <th>...</th>\n",
       "      <td>...</td>\n",
       "      <td>...</td>\n",
       "      <td>...</td>\n",
       "      <td>...</td>\n",
       "      <td>...</td>\n",
       "      <td>...</td>\n",
       "      <td>...</td>\n",
       "      <td>...</td>\n",
       "      <td>...</td>\n",
       "      <td>...</td>\n",
       "      <td>...</td>\n",
       "      <td>...</td>\n",
       "      <td>...</td>\n",
       "      <td>...</td>\n",
       "      <td>...</td>\n",
       "      <td>...</td>\n",
       "      <td>...</td>\n",
       "      <td>...</td>\n",
       "      <td>...</td>\n",
       "      <td>...</td>\n",
       "      <td>...</td>\n",
       "      <td>...</td>\n",
       "      <td>...</td>\n",
       "      <td>...</td>\n",
       "      <td>...</td>\n",
       "      <td>...</td>\n",
       "      <td>...</td>\n",
       "      <td>...</td>\n",
       "      <td>...</td>\n",
       "      <td>...</td>\n",
       "      <td>...</td>\n",
       "      <td>...</td>\n",
       "    </tr>\n",
       "    <tr>\n",
       "      <th>6951</th>\n",
       "      <td>6953</td>\n",
       "      <td>6979</td>\n",
       "      <td>Female</td>\n",
       "      <td>75</td>\n",
       "      <td>No</td>\n",
       "      <td>0</td>\n",
       "      <td>Macdoel</td>\n",
       "      <td>41.769709</td>\n",
       "      <td>-121.920630</td>\n",
       "      <td>0</td>\n",
       "      <td>65</td>\n",
       "      <td>Offer B</td>\n",
       "      <td>No</td>\n",
       "      <td>NaN</td>\n",
       "      <td>Yes</td>\n",
       "      <td>Cable</td>\n",
       "      <td>9.0</td>\n",
       "      <td>No</td>\n",
       "      <td>Yes</td>\n",
       "      <td>Yes</td>\n",
       "      <td>No</td>\n",
       "      <td>Yes</td>\n",
       "      <td>Yes</td>\n",
       "      <td>No</td>\n",
       "      <td>Yes</td>\n",
       "      <td>Two Year</td>\n",
       "      <td>Yes</td>\n",
       "      <td>Bank Withdrawal</td>\n",
       "      <td>53.50</td>\n",
       "      <td>3517.90</td>\n",
       "      <td>Stayed</td>\n",
       "      <td>NaN</td>\n",
       "    </tr>\n",
       "    <tr>\n",
       "      <th>6952</th>\n",
       "      <td>6954</td>\n",
       "      <td>6980</td>\n",
       "      <td>Female</td>\n",
       "      <td>69</td>\n",
       "      <td>No</td>\n",
       "      <td>0</td>\n",
       "      <td>Twain</td>\n",
       "      <td>40.022184</td>\n",
       "      <td>-121.062384</td>\n",
       "      <td>0</td>\n",
       "      <td>1</td>\n",
       "      <td>Offer E</td>\n",
       "      <td>No</td>\n",
       "      <td>NaN</td>\n",
       "      <td>Yes</td>\n",
       "      <td>DSL</td>\n",
       "      <td>21.0</td>\n",
       "      <td>No</td>\n",
       "      <td>No</td>\n",
       "      <td>No</td>\n",
       "      <td>No</td>\n",
       "      <td>No</td>\n",
       "      <td>No</td>\n",
       "      <td>No</td>\n",
       "      <td>Yes</td>\n",
       "      <td>Month-to-Month</td>\n",
       "      <td>No</td>\n",
       "      <td>Credit Card</td>\n",
       "      <td>25.05</td>\n",
       "      <td>25.05</td>\n",
       "      <td>Churned</td>\n",
       "      <td>Competitor</td>\n",
       "    </tr>\n",
       "    <tr>\n",
       "      <th>6968</th>\n",
       "      <td>6970</td>\n",
       "      <td>6996</td>\n",
       "      <td>Female</td>\n",
       "      <td>58</td>\n",
       "      <td>No</td>\n",
       "      <td>0</td>\n",
       "      <td>Sunset Beach</td>\n",
       "      <td>33.719221</td>\n",
       "      <td>-118.073596</td>\n",
       "      <td>0</td>\n",
       "      <td>12</td>\n",
       "      <td>Offer D</td>\n",
       "      <td>No</td>\n",
       "      <td>NaN</td>\n",
       "      <td>Yes</td>\n",
       "      <td>DSL</td>\n",
       "      <td>7.0</td>\n",
       "      <td>Yes</td>\n",
       "      <td>No</td>\n",
       "      <td>Yes</td>\n",
       "      <td>Yes</td>\n",
       "      <td>No</td>\n",
       "      <td>Yes</td>\n",
       "      <td>Yes</td>\n",
       "      <td>Yes</td>\n",
       "      <td>Two Year</td>\n",
       "      <td>No</td>\n",
       "      <td>Credit Card</td>\n",
       "      <td>49.85</td>\n",
       "      <td>552.10</td>\n",
       "      <td>Stayed</td>\n",
       "      <td>NaN</td>\n",
       "    </tr>\n",
       "    <tr>\n",
       "      <th>6988</th>\n",
       "      <td>6990</td>\n",
       "      <td>7016</td>\n",
       "      <td>Male</td>\n",
       "      <td>23</td>\n",
       "      <td>Yes</td>\n",
       "      <td>0</td>\n",
       "      <td>Sunnyvale</td>\n",
       "      <td>37.421633</td>\n",
       "      <td>-122.009613</td>\n",
       "      <td>7</td>\n",
       "      <td>69</td>\n",
       "      <td>No Offer</td>\n",
       "      <td>No</td>\n",
       "      <td>NaN</td>\n",
       "      <td>Yes</td>\n",
       "      <td>DSL</td>\n",
       "      <td>42.0</td>\n",
       "      <td>No</td>\n",
       "      <td>Yes</td>\n",
       "      <td>Yes</td>\n",
       "      <td>Yes</td>\n",
       "      <td>Yes</td>\n",
       "      <td>Yes</td>\n",
       "      <td>Yes</td>\n",
       "      <td>Yes</td>\n",
       "      <td>One Year</td>\n",
       "      <td>Yes</td>\n",
       "      <td>Credit Card</td>\n",
       "      <td>60.80</td>\n",
       "      <td>4263.40</td>\n",
       "      <td>Stayed</td>\n",
       "      <td>NaN</td>\n",
       "    </tr>\n",
       "    <tr>\n",
       "      <th>7014</th>\n",
       "      <td>7016</td>\n",
       "      <td>7042</td>\n",
       "      <td>Male</td>\n",
       "      <td>36</td>\n",
       "      <td>Yes</td>\n",
       "      <td>0</td>\n",
       "      <td>Sierra City</td>\n",
       "      <td>39.600599</td>\n",
       "      <td>-120.636358</td>\n",
       "      <td>1</td>\n",
       "      <td>63</td>\n",
       "      <td>No Offer</td>\n",
       "      <td>No</td>\n",
       "      <td>NaN</td>\n",
       "      <td>Yes</td>\n",
       "      <td>Cable</td>\n",
       "      <td>5.0</td>\n",
       "      <td>Yes</td>\n",
       "      <td>Yes</td>\n",
       "      <td>Yes</td>\n",
       "      <td>No</td>\n",
       "      <td>Yes</td>\n",
       "      <td>Yes</td>\n",
       "      <td>Yes</td>\n",
       "      <td>Yes</td>\n",
       "      <td>Two Year</td>\n",
       "      <td>No</td>\n",
       "      <td>Bank Withdrawal</td>\n",
       "      <td>59.00</td>\n",
       "      <td>3707.60</td>\n",
       "      <td>Stayed</td>\n",
       "      <td>NaN</td>\n",
       "    </tr>\n",
       "  </tbody>\n",
       "</table>\n",
       "<p>666 rows × 32 columns</p>\n",
       "</div>"
      ],
      "text/plain": [
       "      level_0  index  Gender  Age Married  NumberofDependents  \\\n",
       "10         10     10    Male   47      No                   0   \n",
       "14         14     14  Female   39      No                   0   \n",
       "16         16     16  Female   52     Yes                   1   \n",
       "19         19     19    Male   67      No                   0   \n",
       "25         25     25  Female   37     Yes                   1   \n",
       "...       ...    ...     ...  ...     ...                 ...   \n",
       "6951     6953   6979  Female   75      No                   0   \n",
       "6952     6954   6980  Female   69      No                   0   \n",
       "6968     6970   6996  Female   58      No                   0   \n",
       "6988     6990   7016    Male   23     Yes                   0   \n",
       "7014     7016   7042    Male   36     Yes                   0   \n",
       "\n",
       "                     City   Latitude   Longitude  NumberofReferrals  \\\n",
       "10        Rancho Santa Fe  32.993560 -117.207121                  0   \n",
       "14             Los Olivos  34.704340 -120.026090                  0   \n",
       "16    Point Reyes Station  38.060264 -122.830646                  0   \n",
       "19            Morgan Hill  37.161544 -121.649371                  0   \n",
       "25       Palomar Mountain  33.309852 -116.823091                  1   \n",
       "...                   ...        ...         ...                ...   \n",
       "6951              Macdoel  41.769709 -121.920630                  0   \n",
       "6952                Twain  40.022184 -121.062384                  0   \n",
       "6968         Sunset Beach  33.719221 -118.073596                  0   \n",
       "6988            Sunnyvale  37.421633 -122.009613                  7   \n",
       "7014          Sierra City  39.600599 -120.636358                  1   \n",
       "\n",
       "      TenureinMonths     Offer PhoneService MultipleLines InternetService  \\\n",
       "10                54  No Offer           No           NaN             Yes   \n",
       "14                56  No Offer           No           NaN             Yes   \n",
       "16                34  No Offer           No           NaN             Yes   \n",
       "19                 1  No Offer           No           NaN             Yes   \n",
       "25                 1  No Offer           No           NaN             Yes   \n",
       "...              ...       ...          ...           ...             ...   \n",
       "6951              65   Offer B           No           NaN             Yes   \n",
       "6952               1   Offer E           No           NaN             Yes   \n",
       "6968              12   Offer D           No           NaN             Yes   \n",
       "6988              69  No Offer           No           NaN             Yes   \n",
       "7014              63  No Offer           No           NaN             Yes   \n",
       "\n",
       "     InternetType  AvgMonthlyGBDownload OnlineSecurity OnlineBackup  \\\n",
       "10          Cable                  10.0            Yes           No   \n",
       "14            DSL                  19.0            Yes          Yes   \n",
       "16            DSL                  20.0            Yes           No   \n",
       "19          Cable                   9.0             No           No   \n",
       "25            DSL                  19.0            Yes           No   \n",
       "...           ...                   ...            ...          ...   \n",
       "6951        Cable                   9.0             No          Yes   \n",
       "6952          DSL                  21.0             No           No   \n",
       "6968          DSL                   7.0            Yes           No   \n",
       "6988          DSL                  42.0             No          Yes   \n",
       "7014        Cable                   5.0            Yes          Yes   \n",
       "\n",
       "     DeviceProtectionPlan PremiumTechSupport StreamingTV StreamingMovies  \\\n",
       "10                     No                Yes         Yes              No   \n",
       "14                    Yes                Yes          No              No   \n",
       "16                    Yes                Yes         Yes             Yes   \n",
       "19                     No                 No          No              No   \n",
       "25                     No                 No          No              No   \n",
       "...                   ...                ...         ...             ...   \n",
       "6951                  Yes                 No         Yes             Yes   \n",
       "6952                   No                 No          No              No   \n",
       "6968                  Yes                Yes          No             Yes   \n",
       "6988                  Yes                Yes         Yes             Yes   \n",
       "7014                  Yes                 No         Yes             Yes   \n",
       "\n",
       "     StreamingMusic UnlimitedData        Contract PaperlessBilling  \\\n",
       "10               No           Yes        Two Year               No   \n",
       "14               No           Yes        Two Year               No   \n",
       "16              Yes           Yes        One Year               No   \n",
       "19               No           Yes  Month-to-Month              Yes   \n",
       "25               No           Yes  Month-to-Month               No   \n",
       "...             ...           ...             ...              ...   \n",
       "6951             No           Yes        Two Year              Yes   \n",
       "6952             No           Yes  Month-to-Month               No   \n",
       "6968            Yes           Yes        Two Year               No   \n",
       "6988            Yes           Yes        One Year              Yes   \n",
       "7014            Yes           Yes        Two Year               No   \n",
       "\n",
       "        PaymentMethod  MonthlyCharge  TotalRevenue CustomerStatus  \\\n",
       "10        Credit Card          45.20       2460.55         Stayed   \n",
       "14    Bank Withdrawal          45.05       2560.10         Stayed   \n",
       "16        Credit Card          61.25       1993.20         Stayed   \n",
       "19    Bank Withdrawal          25.10         25.10        Churned   \n",
       "25    Bank Withdrawal          30.50         30.50        Churned   \n",
       "...               ...            ...           ...            ...   \n",
       "6951  Bank Withdrawal          53.50       3517.90         Stayed   \n",
       "6952      Credit Card          25.05         25.05        Churned   \n",
       "6968      Credit Card          49.85        552.10         Stayed   \n",
       "6988      Credit Card          60.80       4263.40         Stayed   \n",
       "7014  Bank Withdrawal          59.00       3707.60         Stayed   \n",
       "\n",
       "     ChurnCategory  \n",
       "10             NaN  \n",
       "14             NaN  \n",
       "16             NaN  \n",
       "19      Competitor  \n",
       "25        Attitude  \n",
       "...            ...  \n",
       "6951           NaN  \n",
       "6952    Competitor  \n",
       "6968           NaN  \n",
       "6988           NaN  \n",
       "7014           NaN  \n",
       "\n",
       "[666 rows x 32 columns]"
      ]
     },
     "execution_count": 91,
     "metadata": {},
     "output_type": "execute_result"
    }
   ],
   "source": [
    "df[(df['MultipleLines'].isna() ) & (df['PhoneService'] == 'No')]"
   ]
  },
  {
   "cell_type": "code",
   "execution_count": 92,
   "id": "b9bc6f08",
   "metadata": {},
   "outputs": [
    {
     "data": {
      "text/plain": [
       "0"
      ]
     },
     "execution_count": 92,
     "metadata": {},
     "output_type": "execute_result"
    }
   ],
   "source": [
    "df['MultipleLines'].fillna('No PhoneService',inplace=True)\n",
    "df['MultipleLines'].isna().sum()"
   ]
  },
  {
   "cell_type": "markdown",
   "id": "596086e2",
   "metadata": {},
   "source": [
    "#### Handle null in categoty / numeric columns (related to 'InternetService' column)"
   ]
  },
  {
   "cell_type": "code",
   "execution_count": 93,
   "id": "dbf9f7c7",
   "metadata": {},
   "outputs": [
    {
     "data": {
      "text/html": [
       "<div>\n",
       "<style scoped>\n",
       "    .dataframe tbody tr th:only-of-type {\n",
       "        vertical-align: middle;\n",
       "    }\n",
       "\n",
       "    .dataframe tbody tr th {\n",
       "        vertical-align: top;\n",
       "    }\n",
       "\n",
       "    .dataframe thead th {\n",
       "        text-align: right;\n",
       "    }\n",
       "</style>\n",
       "<table border=\"1\" class=\"dataframe\">\n",
       "  <thead>\n",
       "    <tr style=\"text-align: right;\">\n",
       "      <th></th>\n",
       "      <th>InternetService</th>\n",
       "      <th>CustomerStatus</th>\n",
       "    </tr>\n",
       "  </thead>\n",
       "  <tbody>\n",
       "    <tr>\n",
       "      <th>20</th>\n",
       "      <td>No</td>\n",
       "      <td>Stayed</td>\n",
       "    </tr>\n",
       "    <tr>\n",
       "      <th>23</th>\n",
       "      <td>No</td>\n",
       "      <td>Joined</td>\n",
       "    </tr>\n",
       "    <tr>\n",
       "      <th>24</th>\n",
       "      <td>No</td>\n",
       "      <td>Churned</td>\n",
       "    </tr>\n",
       "    <tr>\n",
       "      <th>27</th>\n",
       "      <td>No</td>\n",
       "      <td>Stayed</td>\n",
       "    </tr>\n",
       "    <tr>\n",
       "      <th>28</th>\n",
       "      <td>No</td>\n",
       "      <td>Stayed</td>\n",
       "    </tr>\n",
       "    <tr>\n",
       "      <th>...</th>\n",
       "      <td>...</td>\n",
       "      <td>...</td>\n",
       "    </tr>\n",
       "    <tr>\n",
       "      <th>6998</th>\n",
       "      <td>No</td>\n",
       "      <td>Stayed</td>\n",
       "    </tr>\n",
       "    <tr>\n",
       "      <th>7000</th>\n",
       "      <td>No</td>\n",
       "      <td>Stayed</td>\n",
       "    </tr>\n",
       "    <tr>\n",
       "      <th>7004</th>\n",
       "      <td>No</td>\n",
       "      <td>Stayed</td>\n",
       "    </tr>\n",
       "    <tr>\n",
       "      <th>7005</th>\n",
       "      <td>No</td>\n",
       "      <td>Joined</td>\n",
       "    </tr>\n",
       "    <tr>\n",
       "      <th>7009</th>\n",
       "      <td>No</td>\n",
       "      <td>Churned</td>\n",
       "    </tr>\n",
       "  </tbody>\n",
       "</table>\n",
       "<p>1494 rows × 2 columns</p>\n",
       "</div>"
      ],
      "text/plain": [
       "     InternetService CustomerStatus\n",
       "20                No         Stayed\n",
       "23                No         Joined\n",
       "24                No        Churned\n",
       "27                No         Stayed\n",
       "28                No         Stayed\n",
       "...              ...            ...\n",
       "6998              No         Stayed\n",
       "7000              No         Stayed\n",
       "7004              No         Stayed\n",
       "7005              No         Joined\n",
       "7009              No        Churned\n",
       "\n",
       "[1494 rows x 2 columns]"
      ]
     },
     "execution_count": 93,
     "metadata": {},
     "output_type": "execute_result"
    }
   ],
   "source": [
    "# i want to check if customer doesn't join the internet service , his status will be 'churned' or his status will not be affcted \n",
    "# if so , i will work only on InternetService == 'Yes'\n",
    "df[df['InternetService'] == 'No'][['InternetService','CustomerStatus']]"
   ]
  },
  {
   "cell_type": "code",
   "execution_count": 94,
   "id": "0d32a905",
   "metadata": {},
   "outputs": [],
   "source": [
    "category_null_columns = ['InternetType' , 'OnlineSecurity','OnlineBackup','DeviceProtectionPlan','PremiumTechSupport','StreamingTV','StreamingMovies' ,'StreamingMusic','UnlimitedData']\n",
    "for col in category_null_columns: \n",
    "    df[col].fillna('No Internet Service',inplace=True)\n",
    "df['AvgMonthlyGBDownload'].fillna(0,inplace=True)"
   ]
  },
  {
   "cell_type": "markdown",
   "id": "dd0b310e",
   "metadata": {},
   "source": [
    "#### Recategorize 'CustomerStatus'"
   ]
  },
  {
   "cell_type": "code",
   "execution_count": 95,
   "id": "6901ba96",
   "metadata": {},
   "outputs": [
    {
     "data": {
      "text/plain": [
       "CustomerStatus\n",
       "Stayed     5064\n",
       "Churned    1834\n",
       "Name: count, dtype: int64"
      ]
     },
     "execution_count": 95,
     "metadata": {},
     "output_type": "execute_result"
    }
   ],
   "source": [
    "df['CustomerStatus'] = df['CustomerStatus'].replace(\"Joined\",\"Stayed\")\n",
    "df['CustomerStatus'].value_counts()"
   ]
  },
  {
   "cell_type": "markdown",
   "id": "c467faac",
   "metadata": {},
   "source": [
    "#### Convert to category "
   ]
  },
  {
   "cell_type": "code",
   "execution_count": 96,
   "id": "b0cdc42f",
   "metadata": {},
   "outputs": [],
   "source": [
    "category_list = ['Gender','Married','Offer','PhoneService','MultipleLines','InternetService','InternetType','DeviceProtectionPlan','PremiumTechSupport','StreamingTV','StreamingMovies','StreamingMusic','UnlimitedData','Contract','PaperlessBilling','PaymentMethod', 'OnlineBackup','OnlineSecurity','CustomerStatus']\n",
    "for i in category_list : \n",
    "    df[i] = df[i].astype('category')"
   ]
  },
  {
   "cell_type": "code",
   "execution_count": 97,
   "id": "b9a52d8e",
   "metadata": {},
   "outputs": [
    {
     "data": {
      "text/plain": [
       "Index(['level_0', 'index', 'Gender', 'Age', 'Married', 'NumberofDependents',\n",
       "       'City', 'Latitude', 'Longitude', 'NumberofReferrals', 'TenureinMonths',\n",
       "       'Offer', 'PhoneService', 'MultipleLines', 'InternetService',\n",
       "       'InternetType', 'AvgMonthlyGBDownload', 'OnlineSecurity',\n",
       "       'OnlineBackup', 'DeviceProtectionPlan', 'PremiumTechSupport',\n",
       "       'StreamingTV', 'StreamingMovies', 'StreamingMusic', 'UnlimitedData',\n",
       "       'Contract', 'PaperlessBilling', 'PaymentMethod', 'MonthlyCharge',\n",
       "       'TotalRevenue', 'CustomerStatus', 'ChurnCategory'],\n",
       "      dtype='object')"
      ]
     },
     "execution_count": 97,
     "metadata": {},
     "output_type": "execute_result"
    }
   ],
   "source": [
    "df.columns"
   ]
  },
  {
   "cell_type": "markdown",
   "id": "454afde9",
   "metadata": {},
   "source": [
    "#### drop ('level_0' 'index') columns "
   ]
  },
  {
   "cell_type": "code",
   "execution_count": 98,
   "id": "96b650fe",
   "metadata": {},
   "outputs": [],
   "source": [
    "df.drop(['level_0','index'],axis=1,inplace=True)"
   ]
  },
  {
   "cell_type": "markdown",
   "id": "f9034cac",
   "metadata": {},
   "source": [
    "####  Save the cleaned dataset for the dashboard "
   ]
  },
  {
   "cell_type": "code",
   "execution_count": 99,
   "id": "8beba0cb",
   "metadata": {},
   "outputs": [],
   "source": [
    "df.to_csv('dashboard/data/data_cleaned.csv')"
   ]
  },
  {
   "cell_type": "code",
   "execution_count": 100,
   "id": "bdc2c18c",
   "metadata": {},
   "outputs": [
    {
     "name": "stdout",
     "output_type": "stream",
     "text": [
      "<class 'pandas.core.frame.DataFrame'>\n",
      "Index: 6898 entries, 0 to 7014\n",
      "Data columns (total 30 columns):\n",
      " #   Column                Non-Null Count  Dtype   \n",
      "---  ------                --------------  -----   \n",
      " 0   Gender                6898 non-null   category\n",
      " 1   Age                   6898 non-null   int64   \n",
      " 2   Married               6898 non-null   category\n",
      " 3   NumberofDependents    6898 non-null   int64   \n",
      " 4   City                  6898 non-null   object  \n",
      " 5   Latitude              6898 non-null   float64 \n",
      " 6   Longitude             6898 non-null   float64 \n",
      " 7   NumberofReferrals     6898 non-null   int64   \n",
      " 8   TenureinMonths        6898 non-null   int64   \n",
      " 9   Offer                 6898 non-null   category\n",
      " 10  PhoneService          6898 non-null   category\n",
      " 11  MultipleLines         6898 non-null   category\n",
      " 12  InternetService       6898 non-null   category\n",
      " 13  InternetType          6898 non-null   category\n",
      " 14  AvgMonthlyGBDownload  6898 non-null   float64 \n",
      " 15  OnlineSecurity        6898 non-null   category\n",
      " 16  OnlineBackup          6898 non-null   category\n",
      " 17  DeviceProtectionPlan  6898 non-null   category\n",
      " 18  PremiumTechSupport    6898 non-null   category\n",
      " 19  StreamingTV           6898 non-null   category\n",
      " 20  StreamingMovies       6898 non-null   category\n",
      " 21  StreamingMusic        6898 non-null   category\n",
      " 22  UnlimitedData         6898 non-null   category\n",
      " 23  Contract              6898 non-null   category\n",
      " 24  PaperlessBilling      6898 non-null   category\n",
      " 25  PaymentMethod         6898 non-null   category\n",
      " 26  MonthlyCharge         6898 non-null   float64 \n",
      " 27  TotalRevenue          6898 non-null   float64 \n",
      " 28  CustomerStatus        6898 non-null   category\n",
      " 29  ChurnCategory         1834 non-null   object  \n",
      "dtypes: category(19), float64(5), int64(4), object(2)\n",
      "memory usage: 777.2+ KB\n"
     ]
    }
   ],
   "source": [
    "df.info()"
   ]
  },
  {
   "cell_type": "markdown",
   "id": "cc08b539",
   "metadata": {},
   "source": [
    "## Visualization <a class=\"anchor\" id=\"Visualization\"></a>"
   ]
  },
  {
   "cell_type": "markdown",
   "id": "e3201ade",
   "metadata": {},
   "source": [
    "[Dashboard Github Repo](https://github.com/Shima-Mohammed/Customer-Churn-Epsilon-Dashboard.git)\n",
    "\n",
    "[Dashboard](https://customer-churn-dashboard-gwxo.onrender.com/)"
   ]
  },
  {
   "cell_type": "markdown",
   "id": "901bfe17",
   "metadata": {},
   "source": [
    "## Prepare data for Pipeline (Classification) <a class=\"anchor\" id=\"Prepare-data-for-Pipeline-(Classification)\"></a>"
   ]
  },
  {
   "cell_type": "code",
   "execution_count": 101,
   "id": "d6260bd3",
   "metadata": {
    "scrolled": true
   },
   "outputs": [
    {
     "name": "stdout",
     "output_type": "stream",
     "text": [
      "<class 'pandas.core.frame.DataFrame'>\n",
      "Index: 6898 entries, 0 to 7014\n",
      "Data columns (total 30 columns):\n",
      " #   Column                Non-Null Count  Dtype   \n",
      "---  ------                --------------  -----   \n",
      " 0   Gender                6898 non-null   category\n",
      " 1   Age                   6898 non-null   int64   \n",
      " 2   Married               6898 non-null   category\n",
      " 3   NumberofDependents    6898 non-null   int64   \n",
      " 4   City                  6898 non-null   object  \n",
      " 5   Latitude              6898 non-null   float64 \n",
      " 6   Longitude             6898 non-null   float64 \n",
      " 7   NumberofReferrals     6898 non-null   int64   \n",
      " 8   TenureinMonths        6898 non-null   int64   \n",
      " 9   Offer                 6898 non-null   category\n",
      " 10  PhoneService          6898 non-null   category\n",
      " 11  MultipleLines         6898 non-null   category\n",
      " 12  InternetService       6898 non-null   category\n",
      " 13  InternetType          6898 non-null   category\n",
      " 14  AvgMonthlyGBDownload  6898 non-null   float64 \n",
      " 15  OnlineSecurity        6898 non-null   category\n",
      " 16  OnlineBackup          6898 non-null   category\n",
      " 17  DeviceProtectionPlan  6898 non-null   category\n",
      " 18  PremiumTechSupport    6898 non-null   category\n",
      " 19  StreamingTV           6898 non-null   category\n",
      " 20  StreamingMovies       6898 non-null   category\n",
      " 21  StreamingMusic        6898 non-null   category\n",
      " 22  UnlimitedData         6898 non-null   category\n",
      " 23  Contract              6898 non-null   category\n",
      " 24  PaperlessBilling      6898 non-null   category\n",
      " 25  PaymentMethod         6898 non-null   category\n",
      " 26  MonthlyCharge         6898 non-null   float64 \n",
      " 27  TotalRevenue          6898 non-null   float64 \n",
      " 28  CustomerStatus        6898 non-null   category\n",
      " 29  ChurnCategory         1834 non-null   object  \n",
      "dtypes: category(19), float64(5), int64(4), object(2)\n",
      "memory usage: 777.2+ KB\n"
     ]
    }
   ],
   "source": [
    "df.info()"
   ]
  },
  {
   "cell_type": "markdown",
   "id": "57ca2528",
   "metadata": {},
   "source": [
    "#### drop 'ZipCode','Latitude','Longitude','City','ChurnCategory','ChurnReason'"
   ]
  },
  {
   "cell_type": "code",
   "execution_count": 102,
   "id": "5c00c08c",
   "metadata": {},
   "outputs": [],
   "source": [
    "df.drop(['Latitude','Longitude','City','ChurnCategory','TotalRevenue'], axis=1, inplace=True)"
   ]
  },
  {
   "cell_type": "code",
   "execution_count": 103,
   "id": "2893d082",
   "metadata": {},
   "outputs": [
    {
     "name": "stdout",
     "output_type": "stream",
     "text": [
      "<class 'pandas.core.frame.DataFrame'>\n",
      "Index: 6898 entries, 0 to 7014\n",
      "Data columns (total 25 columns):\n",
      " #   Column                Non-Null Count  Dtype   \n",
      "---  ------                --------------  -----   \n",
      " 0   Gender                6898 non-null   category\n",
      " 1   Age                   6898 non-null   int64   \n",
      " 2   Married               6898 non-null   category\n",
      " 3   NumberofDependents    6898 non-null   int64   \n",
      " 4   NumberofReferrals     6898 non-null   int64   \n",
      " 5   TenureinMonths        6898 non-null   int64   \n",
      " 6   Offer                 6898 non-null   category\n",
      " 7   PhoneService          6898 non-null   category\n",
      " 8   MultipleLines         6898 non-null   category\n",
      " 9   InternetService       6898 non-null   category\n",
      " 10  InternetType          6898 non-null   category\n",
      " 11  AvgMonthlyGBDownload  6898 non-null   float64 \n",
      " 12  OnlineSecurity        6898 non-null   category\n",
      " 13  OnlineBackup          6898 non-null   category\n",
      " 14  DeviceProtectionPlan  6898 non-null   category\n",
      " 15  PremiumTechSupport    6898 non-null   category\n",
      " 16  StreamingTV           6898 non-null   category\n",
      " 17  StreamingMovies       6898 non-null   category\n",
      " 18  StreamingMusic        6898 non-null   category\n",
      " 19  UnlimitedData         6898 non-null   category\n",
      " 20  Contract              6898 non-null   category\n",
      " 21  PaperlessBilling      6898 non-null   category\n",
      " 22  PaymentMethod         6898 non-null   category\n",
      " 23  MonthlyCharge         6898 non-null   float64 \n",
      " 24  CustomerStatus        6898 non-null   category\n",
      "dtypes: category(19), float64(2), int64(4)\n",
      "memory usage: 507.8 KB\n"
     ]
    }
   ],
   "source": [
    "df.info()"
   ]
  },
  {
   "cell_type": "markdown",
   "id": "8985c524",
   "metadata": {},
   "source": [
    "#### create data frame for classification "
   ]
  },
  {
   "cell_type": "code",
   "execution_count": 104,
   "id": "77e23497",
   "metadata": {},
   "outputs": [],
   "source": [
    "classification_df = df "
   ]
  },
  {
   "cell_type": "code",
   "execution_count": 105,
   "id": "9df6b0b4",
   "metadata": {},
   "outputs": [],
   "source": [
    "classification_df.head(10).to_csv('data_cleaned.csv')"
   ]
  },
  {
   "cell_type": "markdown",
   "id": "8817fb07",
   "metadata": {},
   "source": [
    "#### split features and target (classification)"
   ]
  },
  {
   "cell_type": "code",
   "execution_count": 106,
   "id": "040f2c9c",
   "metadata": {},
   "outputs": [
    {
     "data": {
      "text/html": [
       "<div>\n",
       "<style scoped>\n",
       "    .dataframe tbody tr th:only-of-type {\n",
       "        vertical-align: middle;\n",
       "    }\n",
       "\n",
       "    .dataframe tbody tr th {\n",
       "        vertical-align: top;\n",
       "    }\n",
       "\n",
       "    .dataframe thead th {\n",
       "        text-align: right;\n",
       "    }\n",
       "</style>\n",
       "<table border=\"1\" class=\"dataframe\">\n",
       "  <thead>\n",
       "    <tr style=\"text-align: right;\">\n",
       "      <th></th>\n",
       "      <th>CustomerStatus</th>\n",
       "    </tr>\n",
       "  </thead>\n",
       "  <tbody>\n",
       "    <tr>\n",
       "      <th>0</th>\n",
       "      <td>1</td>\n",
       "    </tr>\n",
       "    <tr>\n",
       "      <th>2</th>\n",
       "      <td>0</td>\n",
       "    </tr>\n",
       "    <tr>\n",
       "      <th>3</th>\n",
       "      <td>0</td>\n",
       "    </tr>\n",
       "    <tr>\n",
       "      <th>4</th>\n",
       "      <td>0</td>\n",
       "    </tr>\n",
       "    <tr>\n",
       "      <th>5</th>\n",
       "      <td>1</td>\n",
       "    </tr>\n",
       "    <tr>\n",
       "      <th>...</th>\n",
       "      <td>...</td>\n",
       "    </tr>\n",
       "    <tr>\n",
       "      <th>7010</th>\n",
       "      <td>1</td>\n",
       "    </tr>\n",
       "    <tr>\n",
       "      <th>7011</th>\n",
       "      <td>0</td>\n",
       "    </tr>\n",
       "    <tr>\n",
       "      <th>7012</th>\n",
       "      <td>1</td>\n",
       "    </tr>\n",
       "    <tr>\n",
       "      <th>7013</th>\n",
       "      <td>1</td>\n",
       "    </tr>\n",
       "    <tr>\n",
       "      <th>7014</th>\n",
       "      <td>1</td>\n",
       "    </tr>\n",
       "  </tbody>\n",
       "</table>\n",
       "<p>6898 rows × 1 columns</p>\n",
       "</div>"
      ],
      "text/plain": [
       "      CustomerStatus\n",
       "0                  1\n",
       "2                  0\n",
       "3                  0\n",
       "4                  0\n",
       "5                  1\n",
       "...              ...\n",
       "7010               1\n",
       "7011               0\n",
       "7012               1\n",
       "7013               1\n",
       "7014               1\n",
       "\n",
       "[6898 rows x 1 columns]"
      ]
     },
     "execution_count": 106,
     "metadata": {},
     "output_type": "execute_result"
    }
   ],
   "source": [
    "classification_features_cols = classification_df.drop(['CustomerStatus'] , axis=1)\n",
    "classification_target_col = classification_df['CustomerStatus']\n",
    "### one ==> stay\n",
    "classification_target_col = pd.get_dummies(classification_target_col,drop_first=True)\n",
    "bool_cols = classification_target_col.select_dtypes(include='bool').columns\n",
    "classification_target_col[bool_cols] = classification_target_col[bool_cols].astype(int)\n",
    "classification_target_col = classification_target_col.rename(columns={'Stayed': 'CustomerStatus'})\n",
    "classification_target_col"
   ]
  },
  {
   "cell_type": "markdown",
   "id": "b6458c9d",
   "metadata": {},
   "source": [
    "#### Handle imbalance Target (classification)"
   ]
  },
  {
   "cell_type": "code",
   "execution_count": 107,
   "id": "6271b2cf",
   "metadata": {},
   "outputs": [],
   "source": [
    "# Initialize RandomOverSampler\n",
    "ros = RandomOverSampler(sampling_strategy='auto', random_state=42)\n",
    "\n",
    "# Apply RandomOverSampler to the dataset\n",
    "classification_features_cols, classification_target_col = ros.fit_resample(classification_features_cols, classification_target_col)"
   ]
  },
  {
   "cell_type": "code",
   "execution_count": 108,
   "id": "47cb7bc4",
   "metadata": {},
   "outputs": [
    {
     "data": {
      "text/plain": [
       "CustomerStatus\n",
       "1    5064\n",
       "0    5064\n",
       "Name: count, dtype: int64"
      ]
     },
     "execution_count": 108,
     "metadata": {},
     "output_type": "execute_result"
    }
   ],
   "source": [
    "classification_target_col['CustomerStatus'].value_counts()"
   ]
  },
  {
   "cell_type": "markdown",
   "id": "49acb6ca",
   "metadata": {},
   "source": [
    "## Classification Pipeline <a class=\"anchor\" id=\"Classification_Pipeline\"></a>"
   ]
  },
  {
   "cell_type": "code",
   "execution_count": 109,
   "id": "e32679e4",
   "metadata": {},
   "outputs": [
    {
     "data": {
      "text/plain": [
       "['Classification_Model_Final.pkl']"
      ]
     },
     "execution_count": 109,
     "metadata": {},
     "output_type": "execute_result"
    }
   ],
   "source": [
    "## feature selection \n",
    "estimator = LogisticRegression()\n",
    "RFE_selector = RFE(estimator)\n",
    "\n",
    "#### scale data \n",
    "scaler = MinMaxScaler()\n",
    "numeric_cols = classification_features_cols.select_dtypes(include='number').columns\n",
    "#### category_columns\n",
    "category_columns = classification_features_cols.select_dtypes(include='category').columns\n",
    "## create preprocessor\n",
    "preprocessor = ColumnTransformer(transformers=[('num', MinMaxScaler(),numeric_cols),\n",
    "                                               ('cat', OneHotEncoder(sparse=False,drop='first'),category_columns)\n",
    "                                              ])\n",
    "##create Steps \n",
    "steps = list()\n",
    "steps.append(('preprocessor', preprocessor))\n",
    "# add feature selection\n",
    "steps.append(('feature_selector', RFE_selector))  # RFE feature selection\n",
    "# add model \n",
    "steps.append(('SVC',SVC(C=1.0, break_ties=False, cache_size=200)))\n",
    "# Create the pipeline\n",
    "pipeline = Pipeline(steps=steps)\n",
    "### call cross_validate\n",
    "cv_results = cross_validate(pipeline, classification_features_cols, classification_target_col, cv=5, return_train_score=True,scoring='accuracy')\n",
    "pipeline.fit(classification_features_cols,classification_target_col)\n",
    "joblib.dump(pipeline,\"Classification_Model_Final.pkl\")"
   ]
  },
  {
   "cell_type": "code",
   "execution_count": 110,
   "id": "1a791eff",
   "metadata": {},
   "outputs": [
    {
     "data": {
      "text/plain": [
       "{'fit_time': array([5.77982402, 4.6120739 , 5.1458087 , 5.69960308, 4.980129  ]),\n",
       " 'score_time': array([1.42107368, 1.08699608, 1.03003097, 1.48770237, 1.08930731]),\n",
       " 'test_score': array([0.81737414, 0.82033564, 0.82477789, 0.81530864, 0.8345679 ]),\n",
       " 'train_score': array([0.84115033, 0.83621328, 0.83942236, 0.83611008, 0.83512279])}"
      ]
     },
     "execution_count": 110,
     "metadata": {},
     "output_type": "execute_result"
    }
   ],
   "source": [
    "cv_results"
   ]
  },
  {
   "cell_type": "code",
   "execution_count": 111,
   "id": "7f4fbe25",
   "metadata": {},
   "outputs": [],
   "source": [
    "# ## feature selection \n",
    "# estimator = LogisticRegression()\n",
    "# rfe = RFE(estimator)\n",
    "# rfe.fit(features_cols,target_col)\n",
    "# features_cols.columns[rfe.support_]\n",
    "# ## Split Train, Test \n",
    "# X_train, X_test, y_train, y_test = train_test_split(features_cols,target_col , \n",
    "#                                    random_state=104,  \n",
    "#                                    test_size=0.25) \n",
    "# #### scale data \n",
    "# scaler = MinMaxScaler()\n",
    "# numeric_cols = X_train.select_dtypes(include='number').columns.to_list()\n",
    "# X_train = pd.DataFrame(scaler.fit_transform(X_train.values), columns=numeric_cols)\n",
    "# X_test = pd.DataFrame(scaler.fit_transform(X_test.values), columns=numeric_cols)\n",
    "# ## Train model \n",
    "# models = {\n",
    "#     \"LogisticRegression\":LogisticRegression(),\n",
    "#     \"GaussianNB\":GaussianNB(),\n",
    "#     \"KNeighborsClassifier\":KNeighborsClassifier(),\n",
    "#     \"DecisionTreeClassifier\":DecisionTreeClassifier(),\n",
    "#     \"SVC\":SVC()\n",
    "# }\n",
    "\n",
    "# for name,model in models.items():\n",
    "#     model.fit(X_train,y_train)\n",
    "#     y_pred = model.predict(X_test)\n",
    "#     score_test = accuracy_score(y_test,y_pred)\n",
    "#     y_pred = model.predict(X_train)\n",
    "#     score_train = accuracy_score(y_train,y_pred)\n",
    "#     print(f\"The test accurace of {name} is {score_test*100}%\")\n",
    "#     print(f\"The train accurace of {name} is {score_train*100}%\")\n",
    "#     print(30*\"=\")\n",
    "# ## model \n",
    "# model = SVC()\n",
    "# model.fit(X_train,y_train)\n",
    "# y_pred = model.predict(X_test)"
   ]
  },
  {
   "cell_type": "markdown",
   "id": "cadde977",
   "metadata": {},
   "source": [
    "## Prepare data for Pipeline (Regression) <a class=\"anchor\" id=\"Prepare-data-for-Pipeline-(Regression)\"></a>"
   ]
  },
  {
   "cell_type": "markdown",
   "id": "5dbecab3",
   "metadata": {},
   "source": [
    "#### create dataframe for regression "
   ]
  },
  {
   "cell_type": "code",
   "execution_count": 112,
   "id": "394a4de4",
   "metadata": {},
   "outputs": [],
   "source": [
    "regression_df = df.drop(['CustomerStatus'] , axis=1)"
   ]
  },
  {
   "cell_type": "markdown",
   "id": "2dec3162",
   "metadata": {},
   "source": [
    "#### split features and target (regression)"
   ]
  },
  {
   "cell_type": "code",
   "execution_count": 113,
   "id": "a1300792",
   "metadata": {},
   "outputs": [
    {
     "data": {
      "text/html": [
       "<div>\n",
       "<style scoped>\n",
       "    .dataframe tbody tr th:only-of-type {\n",
       "        vertical-align: middle;\n",
       "    }\n",
       "\n",
       "    .dataframe tbody tr th {\n",
       "        vertical-align: top;\n",
       "    }\n",
       "\n",
       "    .dataframe thead th {\n",
       "        text-align: right;\n",
       "    }\n",
       "</style>\n",
       "<table border=\"1\" class=\"dataframe\">\n",
       "  <thead>\n",
       "    <tr style=\"text-align: right;\">\n",
       "      <th></th>\n",
       "      <th>MonthlyCharge</th>\n",
       "    </tr>\n",
       "  </thead>\n",
       "  <tbody>\n",
       "    <tr>\n",
       "      <th>0</th>\n",
       "      <td>65.60</td>\n",
       "    </tr>\n",
       "    <tr>\n",
       "      <th>2</th>\n",
       "      <td>73.90</td>\n",
       "    </tr>\n",
       "    <tr>\n",
       "      <th>3</th>\n",
       "      <td>98.00</td>\n",
       "    </tr>\n",
       "    <tr>\n",
       "      <th>4</th>\n",
       "      <td>83.90</td>\n",
       "    </tr>\n",
       "    <tr>\n",
       "      <th>5</th>\n",
       "      <td>69.40</td>\n",
       "    </tr>\n",
       "    <tr>\n",
       "      <th>...</th>\n",
       "      <td>...</td>\n",
       "    </tr>\n",
       "    <tr>\n",
       "      <th>7010</th>\n",
       "      <td>55.15</td>\n",
       "    </tr>\n",
       "    <tr>\n",
       "      <th>7011</th>\n",
       "      <td>85.10</td>\n",
       "    </tr>\n",
       "    <tr>\n",
       "      <th>7012</th>\n",
       "      <td>50.30</td>\n",
       "    </tr>\n",
       "    <tr>\n",
       "      <th>7013</th>\n",
       "      <td>67.85</td>\n",
       "    </tr>\n",
       "    <tr>\n",
       "      <th>7014</th>\n",
       "      <td>59.00</td>\n",
       "    </tr>\n",
       "  </tbody>\n",
       "</table>\n",
       "<p>6898 rows × 1 columns</p>\n",
       "</div>"
      ],
      "text/plain": [
       "      MonthlyCharge\n",
       "0             65.60\n",
       "2             73.90\n",
       "3             98.00\n",
       "4             83.90\n",
       "5             69.40\n",
       "...             ...\n",
       "7010          55.15\n",
       "7011          85.10\n",
       "7012          50.30\n",
       "7013          67.85\n",
       "7014          59.00\n",
       "\n",
       "[6898 rows x 1 columns]"
      ]
     },
     "execution_count": 113,
     "metadata": {},
     "output_type": "execute_result"
    }
   ],
   "source": [
    "regression_features_cols = regression_df.drop(['MonthlyCharge'] , axis=1)\n",
    "regression_target_col = regression_df[['MonthlyCharge']]\n",
    "regression_target_col"
   ]
  },
  {
   "cell_type": "markdown",
   "id": "89b4aa27",
   "metadata": {},
   "source": [
    "## Regression Pipeline <a class=\"anchor\" id=\"Regression_Pipeline\"></a>"
   ]
  },
  {
   "cell_type": "code",
   "execution_count": 114,
   "id": "9314aba4",
   "metadata": {},
   "outputs": [
    {
     "data": {
      "text/plain": [
       "['Regression_Model_Final.pkl']"
      ]
     },
     "execution_count": 114,
     "metadata": {},
     "output_type": "execute_result"
    }
   ],
   "source": [
    "## feature selection \n",
    "estimator = LinearRegression()\n",
    "RFE_selector = RFE(estimator)\n",
    "\n",
    "#### scale data \n",
    "scaler = MinMaxScaler()\n",
    "numeric_cols = regression_features_cols.select_dtypes(include='number').columns\n",
    "#### category_columns\n",
    "category_columns = regression_features_cols.select_dtypes(include='category').columns\n",
    "## create preprocessor\n",
    "preprocessor = ColumnTransformer(transformers=[('num', MinMaxScaler(),numeric_cols),\n",
    "                                               ('cat', OneHotEncoder(sparse=False,drop='first'),category_columns)\n",
    "                                              ])\n",
    "##create Steps \n",
    "steps = list()\n",
    "steps.append(('preprocessor', preprocessor))\n",
    "# add feature selection\n",
    "steps.append(('feature_selector', RFE_selector))  # RFE feature selection\n",
    "# add model \n",
    "steps.append(('DTR',DecisionTreeRegressor()))\n",
    "# Create the pipeline\n",
    "pipeline = Pipeline(steps=steps)\n",
    "### call cross_validate\n",
    "cv_results = cross_validate(pipeline, regression_features_cols, regression_target_col, cv=5, return_train_score=True,scoring='r2')\n",
    "pipeline.fit(regression_features_cols,regression_target_col)\n",
    "joblib.dump(pipeline,\"Regression_Model_Final.pkl\")"
   ]
  },
  {
   "cell_type": "code",
   "execution_count": 115,
   "id": "8b16d095",
   "metadata": {},
   "outputs": [],
   "source": [
    "# from sklearn.linear_model import LinearRegression\n",
    "# from sklearn.tree import DecisionTreeRegressor\n",
    "# from sklearn.svm import SVR\n",
    "# from sklearn.ensemble import RandomForestRegressor, AdaBoostRegressor, GradientBoostingRegressor\n",
    "# from xgboost import XGBRegressor\n",
    "# from sklearn.metrics import r2_score\n",
    "# ## get dummies \n",
    "# regression_features_cols = pd.get_dummies(regression_features_cols,drop_first=True)\n",
    "# bool_cols = regression_features_cols.select_dtypes(include='bool').columns\n",
    "# regression_features_cols[bool_cols] = regression_features_cols[bool_cols].astype(int)\n",
    "\n",
    "# ## feature selection \n",
    "# estimator = LinearRegression()\n",
    "# rfe = RFE(estimator)\n",
    "# rfe.fit(regression_features_cols,regression_target_col)\n",
    "# print(regression_features_cols.columns[rfe.support_])\n",
    "\n",
    "# ## Split Train, Test \n",
    "# X_train, X_test, y_train, y_test = train_test_split(regression_features_cols,regression_target_col , \n",
    "#                                    random_state=104,  \n",
    "#                                    test_size=0.25) \n",
    "\n",
    "# #### scale data \n",
    "# scaler = MinMaxScaler()\n",
    "# numeric_cols = X_train.select_dtypes(include='number').columns.to_list()\n",
    "# X_train = pd.DataFrame(scaler.fit_transform(X_train.values), columns=numeric_cols)\n",
    "# X_test = pd.DataFrame(scaler.fit_transform(X_test.values), columns=numeric_cols)\n",
    "\n",
    "# models = [\n",
    "#     ('Linear Regression', LinearRegression()), \n",
    "#     ('DTR', DecisionTreeRegressor()), \n",
    "#     ('RFR', RandomForestRegressor()), \n",
    "#     ('ADA', AdaBoostRegressor()), \n",
    "#     ('GBR', GradientBoostingRegressor()), \n",
    "#     ('XGBR', XGBRegressor())\n",
    "# ]\n",
    "# for model_name, model in models:\n",
    "#     model.fit(X_train,y_train)\n",
    "#     y_pred = model.predict(X_test)\n",
    "#     score_test = r2_score(y_test,y_pred)\n",
    "#     y_pred = model.predict(X_train)\n",
    "#     score_train = r2_score(y_train,y_pred)\n",
    "#     print(f\"The test accurace of {model_name} is {score_test*100}%\")\n",
    "#     print(f\"The train accurace of {model_name} is {score_train*100}%\")\n",
    "#     print(30*\"=\")\n",
    "\n",
    "# The test accurace of Linear Regression is 99.34842075492966%\n",
    "# The train accurace of Linear Regression is 99.33977739425447%\n",
    "# ==============================\n",
    "# The test accurace of DTR is 98.60479669110944%\n",
    "# The train accurace of DTR is 99.99990836540395%\n",
    "# ==============================\n",
    "# The test accurace of RFR is 99.16758038153174%\n",
    "# The train accurace of RFR is 99.89545390738922%\n",
    "# ==============================\n",
    "# The test accurace of ADA is 94.9463485989354%\n",
    "# The train accurace of ADA is 95.62032998171821%\n",
    "# ==============================\n",
    "# The test accurace of GBR is 99.36380147403202%\n",
    "# The train accurace of GBR is 99.42815898354579%\n",
    "# ==============================\n",
    "# The test accurace of XGBR is 99.33819379944718%\n",
    "# The train accurace of XGBR is 99.94996892882376%\n",
    "# ==============================\n",
    "\n",
    "# ==============================\n",
    "# Index(['PhoneService_Yes', 'MultipleLines_No PhoneService',\n",
    "#        'MultipleLines_Yes', 'InternetService_Yes', 'InternetType_Fiber Optic',\n",
    "#        'InternetType_No Internet Service',\n",
    "#        'OnlineSecurity_No Internet Service', 'OnlineSecurity_Yes',\n",
    "#        'OnlineBackup_No Internet Service', 'OnlineBackup_Yes',\n",
    "#        'DeviceProtectionPlan_No Internet Service', 'DeviceProtectionPlan_Yes',\n",
    "#        'PremiumTechSupport_No Internet Service', 'PremiumTechSupport_Yes',\n",
    "#        'StreamingTV_No Internet Service', 'StreamingTV_Yes',\n",
    "#        'StreamingMovies_No Internet Service', 'StreamingMovies_Yes',\n",
    "#        'StreamingMusic_No Internet Service',\n",
    "#        'UnlimitedData_No Internet Service'],\n"
   ]
  },
  {
   "cell_type": "markdown",
   "id": "73d96f18",
   "metadata": {},
   "source": [
    "## Deployment <a class=\"anchor\" id=\"Deployment\"></a>"
   ]
  },
  {
   "cell_type": "markdown",
   "id": "74eccb23",
   "metadata": {},
   "source": [
    "[Deployment Github repo](https://github.com/Shima-Mohammed/Customer-Churn-Prediction-Deployment-Epsilon-Final-Project.git)\n",
    "\n",
    "[Deployment](https://tele-customer-churn-prediction.streamlit.app/)"
   ]
  },
  {
   "cell_type": "code",
   "execution_count": null,
   "id": "5460617b",
   "metadata": {},
   "outputs": [],
   "source": []
  }
 ],
 "metadata": {
  "kernelspec": {
   "display_name": "Python 3",
   "language": "python",
   "name": "python3"
  },
  "language_info": {
   "codemirror_mode": {
    "name": "ipython",
    "version": 3
   },
   "file_extension": ".py",
   "mimetype": "text/x-python",
   "name": "python",
   "nbconvert_exporter": "python",
   "pygments_lexer": "ipython3",
   "version": "3.8.8"
  }
 },
 "nbformat": 4,
 "nbformat_minor": 5
}
